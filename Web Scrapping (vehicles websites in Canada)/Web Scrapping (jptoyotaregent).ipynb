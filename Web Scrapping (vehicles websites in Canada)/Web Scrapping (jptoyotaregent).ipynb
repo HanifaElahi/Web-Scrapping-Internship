{
 "cells": [
  {
   "cell_type": "code",
   "execution_count": 1,
   "metadata": {},
   "outputs": [],
   "source": [
    "from bs4 import BeautifulSoup\n",
    "import requests\n",
    "import pandas as pd\n",
    "from selenium import webdriver\n",
    "import time\n",
    "from matplotlib import pyplot as plt"
   ]
  },
  {
   "cell_type": "code",
   "execution_count": 4,
   "metadata": {},
   "outputs": [],
   "source": [
    "urla = input((\"Enter url : \"))\n",
    "# \"https://www.jptoyotaregent.com/new-inventory/index.htm\""
   ]
  },
  {
   "cell_type": "code",
   "execution_count": 5,
   "metadata": {},
   "outputs": [],
   "source": [
    "driver=webdriver.Firefox(executable_path=\"C:/Users/DELL/Downloads/geckodriver.exe\")\n",
    "#set the value of executable path\n",
    "driver.get(urla)"
   ]
  },
  {
   "cell_type": "code",
   "execution_count": 6,
   "metadata": {},
   "outputs": [],
   "source": [
    "page_source=driver.page_source"
   ]
  },
  {
   "cell_type": "code",
   "execution_count": 7,
   "metadata": {},
   "outputs": [],
   "source": [
    "#parsing the page\n",
    "soup=BeautifulSoup(page_source,'html.parser')"
   ]
  },
  {
   "cell_type": "code",
   "execution_count": 15,
   "metadata": {},
   "outputs": [
    {
     "name": "stdout",
     "output_type": "stream",
     "text": [
      " 2020 Toyota Corolla SE\n",
      " 2020 Toyota Prius Technology\n",
      " 2020 Toyota Camry LE\n",
      " 2020 Toyota Highlander LE\n",
      " 2020 Toyota Camry SE\n",
      " 2020 Toyota Corolla LE\n",
      " 2020 Toyota Prius Prime Upgrade\n",
      " 2020 Toyota Highlander LE\n",
      " 2020 Toyota Highlander LE\n",
      " 2020 Toyota RAV4 LE\n",
      " 2020 Toyota Camry Hybrid SE\n",
      " 2020 Toyota Highlander XLE\n",
      " 2020 Toyota Corolla LE\n",
      " 2020 Toyota Sienna SE 8-Passenger\n",
      " 2020 Toyota Camry SE\n",
      " 2020 Toyota Corolla LE\n",
      "[' 2020 Toyota Corolla SE', ' 2020 Toyota Prius Technology', ' 2020 Toyota Camry LE', ' 2020 Toyota Highlander LE', ' 2020 Toyota Camry SE', ' 2020 Toyota Corolla LE', ' 2020 Toyota Prius Prime Upgrade', ' 2020 Toyota Highlander LE', ' 2020 Toyota Highlander LE', ' 2020 Toyota RAV4 LE', ' 2020 Toyota Camry Hybrid SE', ' 2020 Toyota Highlander XLE', ' 2020 Toyota Corolla LE', ' 2020 Toyota Sienna SE 8-Passenger', ' 2020 Toyota Camry SE', ' 2020 Toyota Corolla LE']\n"
     ]
    },
    {
     "data": {
      "text/plain": [
       "16"
      ]
     },
     "execution_count": 15,
     "metadata": {},
     "output_type": "execute_result"
    }
   ],
   "source": [
    "#Finding the titles of cars using find_all\n",
    "#All the titles are present in h3 class : fn\n",
    "a = soup.find_all('h3',{\"class\":\"fn\"})\n",
    "#taking an empty list\n",
    "car_titles = []\n",
    "#printing all the separate titles using for loop\n",
    "for i in a:\n",
    "    print(i.text)# printing values\n",
    "    #appending values in a separate empty list\n",
    "    car_titles.append(i.text)  \n",
    "print(car_titles)#printing car titles list\n",
    "len(car_titles)#length of car titles list"
   ]
  },
  {
   "cell_type": "code",
   "execution_count": 9,
   "metadata": {},
   "outputs": [
    {
     "name": "stdout",
     "output_type": "stream",
     "text": [
      "['  Front-wheel Drive', '  All-wheel Drive', '  Front-wheel Drive', '  All-wheel Drive', '  Front-wheel Drive', '  Front-wheel Drive', '  Front-wheel Drive', '  All-wheel Drive', '  All-wheel Drive', '  All-wheel Drive', '  Front-wheel Drive', '  All-wheel Drive', '  Front-wheel Drive', '  Front-wheel Drive', '  Front-wheel Drive', '  Front-wheel Drive']\n",
      "['  2.0L I-4 cyl', '  1.8L I-4 cyl', '  2.5L I-4 cyl', '  3.5L V-6 cyl', '  2.5L I-4 cyl', '  1.8L I-4 cyl', '  1.8L I-4 cyl', '  3.5L V-6 cyl', '  3.5L V-6 cyl', '  2.5L I-4 cyl', '  2.5L I-4 cyl', '  3.5L V-6 cyl', '  1.8L I-4 cyl', '  3.5L V-6 cyl', '  2.5L I-4 cyl', '  1.8L I-4 cyl']\n",
      "['  Automatic', '  Automatic', '  Automatic', '  Automatic', '  Automatic', '  Automatic', '  Automatic', '  Automatic', '  Automatic', '  Automatic', '  Automatic', '  Automatic', '  Automatic', '  Automatic', '  Automatic', '  Automatic']\n"
     ]
    }
   ],
   "source": [
    "engine = []\n",
    "drive_type = []\n",
    "transmission = []\n",
    "# taking empty lists\n",
    "\n",
    "a = soup.find_all('div',{\"class\":\"description\"})#all the details are inside div class: description\n",
    "for i in a:\n",
    "    x = i.find('dl').text.split(',')[0] #splitting result\n",
    "    drive_type.append(x.replace(\"Drive Line:\",\"\")) #appending\n",
    "    y = i.find('dl').text.split(',')[1]#splitting result\n",
    "    engine.append(y.replace(\"Engine:\",\"\"))#appending\n",
    "    z = i.find('dl').text.split(',')[2]#splitting result\n",
    "    transmission.append(z.replace(\"Transmission:\",\"\")) #appending\n",
    "\n",
    "#printing individual lists\n",
    "print(drive_type)\n",
    "print(engine)                 \n",
    "print(transmission)\n",
    "\n",
    "\n"
   ]
  },
  {
   "cell_type": "code",
   "execution_count": 10,
   "metadata": {},
   "outputs": [
    {
     "name": "stdout",
     "output_type": "stream",
     "text": [
      "[' Super White', ' Classic Silver', ' Super White', ' Celestial Silver', ' Super White', ' Black Sand Pearl', ' Titanium Glow', ' Midnight Black', ' Celestial Silver', ' Super White', ' Celestial Silver', ' Blueprint', ' Black Sand Pearl', ' Super White', ' Pre-Dawn Grey Mica', ' Super White']\n",
      "[' 20103', ' 20141', ' 20350', ' 20430', ' 20483', ' 20505', ' 20529', ' 20540', ' 20423', ' 20596', ' 20644', ' 20641', ' 20652', ' 20655', ' 20665', ' 20659']\n"
     ]
    }
   ],
   "source": [
    "exterior = []\n",
    "stock = []\n",
    "# taking empty lists\n",
    "\n",
    "a = soup.find_all('div',{\"class\":\"description\"})#scrapping details\n",
    "for i in a:\n",
    "    x = i.find('dl',{\"class\":\"last\"}).text.split(',')[0]#splitting result\n",
    "    exterior.append(x.replace(\"Exterior Colour: \",\"\"))#appending\n",
    "    y = i.find('dl',{\"class\":\"last\"}).text.split(',')[1]#splitting result\n",
    "    stock.append(y.replace(\" Stock #:\",\"\"))#appending\n",
    "\n",
    "#printing lists    \n",
    "print(exterior)\n",
    "print(stock)                 \n"
   ]
  },
  {
   "cell_type": "code",
   "execution_count": 11,
   "metadata": {},
   "outputs": [
    {
     "name": "stdout",
     "output_type": "stream",
     "text": [
      "Price:$26,006\n",
      "Price:$36,036\n",
      "Price:$31,126\n",
      "Price:$46,146\n",
      "Price:$34,236\n",
      "Price:$26,276\n",
      "Price:$37,576\n",
      "Price:$46,606\n",
      "['$26,006', '$36,036', '$31,126', '$46,146', '$34,236', '$26,276', '$37,576', '$46,606']\n"
     ]
    },
    {
     "data": {
      "text/plain": [
       "8"
      ]
     },
     "execution_count": 11,
     "metadata": {},
     "output_type": "execute_result"
    }
   ],
   "source": [
    "msrp = [] #taking an empty list\n",
    "a = soup.find_all('span',{\"class\":\"msrp\"})#scrapping msrp\n",
    "for i in a:\n",
    "    print(i.text.strip())\n",
    "    msrp.append(i.text.replace(\"Price:\",\"\").strip())#appending in a list\n",
    "print(msrp)#printing\n",
    "len(msrp)#length of list"
   ]
  },
  {
   "cell_type": "code",
   "execution_count": 12,
   "metadata": {},
   "outputs": [
    {
     "name": "stdout",
     "output_type": "stream",
     "text": [
      "Discount:$1,899\n",
      "Discount:$1,099\n",
      "Discount:$1,099\n",
      "Discount:$1,099\n",
      "Discount:$1,099\n",
      "Discount:$1,099\n",
      "Discount:$1,099\n",
      "Discount:$699\n",
      "['Discount:$1,899', 'Discount:$1,099', 'Discount:$1,099', 'Discount:$1,099', 'Discount:$1,099', 'Discount:$1,099', 'Discount:$1,099', 'Discount:$699']\n"
     ]
    },
    {
     "data": {
      "text/plain": [
       "8"
      ]
     },
     "execution_count": 12,
     "metadata": {},
     "output_type": "execute_result"
    }
   ],
   "source": [
    "discount = []#taking an empty list\n",
    "a = soup.find_all('span',{\"class\":\"abSub\"}) #scrapping discount\n",
    "for i in a:\n",
    "    print(i.text.strip())\n",
    "    discount.append(i.text.replace(\"discount:\",\"\").strip())#appending in a list\n",
    "print(discount)#printing\n",
    "len(discount)#length of list"
   ]
  },
  {
   "cell_type": "code",
   "execution_count": 13,
   "metadata": {},
   "outputs": [
    {
     "name": "stdout",
     "output_type": "stream",
     "text": [
      "Sale Price:$24,107\n",
      "Sale Price:$34,937\n",
      "Sale Price:$30,027\n",
      "Sale Price:$45,047\n",
      "Sale Price:$33,137\n",
      "Sale Price:$25,177\n",
      "Sale Price:$36,477\n",
      "Sale Price:$45,907\n",
      "Sale Price:$46,606\n",
      "Sale Price:$32,846\n",
      "Sale Price:$37,186\n",
      "Sale Price:$48,646\n",
      "Sale Price:$24,276\n",
      "Sale Price:$51,621\n",
      "Sale Price:$31,136\n",
      "Sale Price:$24,276\n",
      "['$24,107', '$34,937', '$30,027', '$45,047', '$33,137', '$25,177', '$36,477', '$45,907', '$46,606', '$32,846', '$37,186', '$48,646', '$24,276', '$51,621', '$31,136', '$24,276']\n"
     ]
    },
    {
     "data": {
      "text/plain": [
       "16"
      ]
     },
     "execution_count": 13,
     "metadata": {},
     "output_type": "execute_result"
    }
   ],
   "source": [
    "car_price = []#taking an empty list\n",
    "a = soup.find_all('span',{\"class\":\"internetPrice final-price\"})#scrapping price\n",
    "for i in a:\n",
    "    print(i.text.strip())\n",
    "    car_price.append(i.text.replace(\"Sale Price:\",\"\").strip())#appending in a list\n",
    "print(car_price)#printing\n",
    "len(car_price)#length of list"
   ]
  },
  {
   "cell_type": "code",
   "execution_count": 16,
   "metadata": {},
   "outputs": [],
   "source": [
    "#creating dict of scrapped data\n",
    "dict = {\n",
    "    'Title' : car_titles,\n",
    "    'MSRP':msrp,\n",
    "    'Discount':discount,\n",
    "    'Price' : car_price,\n",
    "    'Engine' : engine,\n",
    "    'Drive Type':drive_type,\n",
    "    'Transmission':transmission,\n",
    "    'Exterior':exterior,\n",
    "    'Stock':stock\n",
    "}"
   ]
  },
  {
   "cell_type": "code",
   "execution_count": 17,
   "metadata": {},
   "outputs": [
    {
     "data": {
      "text/html": [
       "<div>\n",
       "<style scoped>\n",
       "    .dataframe tbody tr th:only-of-type {\n",
       "        vertical-align: middle;\n",
       "    }\n",
       "\n",
       "    .dataframe tbody tr th {\n",
       "        vertical-align: top;\n",
       "    }\n",
       "\n",
       "    .dataframe thead th {\n",
       "        text-align: right;\n",
       "    }\n",
       "</style>\n",
       "<table border=\"1\" class=\"dataframe\">\n",
       "  <thead>\n",
       "    <tr style=\"text-align: right;\">\n",
       "      <th></th>\n",
       "      <th>Title</th>\n",
       "      <th>MSRP</th>\n",
       "      <th>Discount</th>\n",
       "      <th>Price</th>\n",
       "      <th>Engine</th>\n",
       "      <th>Drive Type</th>\n",
       "      <th>Transmission</th>\n",
       "      <th>Exterior</th>\n",
       "      <th>Stock</th>\n",
       "    </tr>\n",
       "  </thead>\n",
       "  <tbody>\n",
       "    <tr>\n",
       "      <th>0</th>\n",
       "      <td>2020 Toyota Corolla SE</td>\n",
       "      <td>$26,006</td>\n",
       "      <td>Discount:$1,899</td>\n",
       "      <td>$24,107</td>\n",
       "      <td>2.0L I-4 cyl</td>\n",
       "      <td>Front-wheel Drive</td>\n",
       "      <td>Automatic</td>\n",
       "      <td>Super White</td>\n",
       "      <td>20103</td>\n",
       "    </tr>\n",
       "    <tr>\n",
       "      <th>1</th>\n",
       "      <td>2020 Toyota Prius Technology</td>\n",
       "      <td>$36,036</td>\n",
       "      <td>Discount:$1,099</td>\n",
       "      <td>$34,937</td>\n",
       "      <td>1.8L I-4 cyl</td>\n",
       "      <td>All-wheel Drive</td>\n",
       "      <td>Automatic</td>\n",
       "      <td>Classic Silver</td>\n",
       "      <td>20141</td>\n",
       "    </tr>\n",
       "    <tr>\n",
       "      <th>2</th>\n",
       "      <td>2020 Toyota Camry LE</td>\n",
       "      <td>$31,126</td>\n",
       "      <td>Discount:$1,099</td>\n",
       "      <td>$30,027</td>\n",
       "      <td>2.5L I-4 cyl</td>\n",
       "      <td>Front-wheel Drive</td>\n",
       "      <td>Automatic</td>\n",
       "      <td>Super White</td>\n",
       "      <td>20350</td>\n",
       "    </tr>\n",
       "    <tr>\n",
       "      <th>3</th>\n",
       "      <td>2020 Toyota Highlander LE</td>\n",
       "      <td>$46,146</td>\n",
       "      <td>Discount:$1,099</td>\n",
       "      <td>$45,047</td>\n",
       "      <td>3.5L V-6 cyl</td>\n",
       "      <td>All-wheel Drive</td>\n",
       "      <td>Automatic</td>\n",
       "      <td>Celestial Silver</td>\n",
       "      <td>20430</td>\n",
       "    </tr>\n",
       "    <tr>\n",
       "      <th>4</th>\n",
       "      <td>2020 Toyota Camry SE</td>\n",
       "      <td>$34,236</td>\n",
       "      <td>Discount:$1,099</td>\n",
       "      <td>$33,137</td>\n",
       "      <td>2.5L I-4 cyl</td>\n",
       "      <td>Front-wheel Drive</td>\n",
       "      <td>Automatic</td>\n",
       "      <td>Super White</td>\n",
       "      <td>20483</td>\n",
       "    </tr>\n",
       "    <tr>\n",
       "      <th>5</th>\n",
       "      <td>2020 Toyota Corolla LE</td>\n",
       "      <td>$26,276</td>\n",
       "      <td>Discount:$1,099</td>\n",
       "      <td>$25,177</td>\n",
       "      <td>1.8L I-4 cyl</td>\n",
       "      <td>Front-wheel Drive</td>\n",
       "      <td>Automatic</td>\n",
       "      <td>Black Sand Pearl</td>\n",
       "      <td>20505</td>\n",
       "    </tr>\n",
       "    <tr>\n",
       "      <th>6</th>\n",
       "      <td>2020 Toyota Prius Prime Upgrade</td>\n",
       "      <td>$37,576</td>\n",
       "      <td>Discount:$1,099</td>\n",
       "      <td>$36,477</td>\n",
       "      <td>1.8L I-4 cyl</td>\n",
       "      <td>Front-wheel Drive</td>\n",
       "      <td>Automatic</td>\n",
       "      <td>Titanium Glow</td>\n",
       "      <td>20529</td>\n",
       "    </tr>\n",
       "    <tr>\n",
       "      <th>7</th>\n",
       "      <td>2020 Toyota Highlander LE</td>\n",
       "      <td>$46,606</td>\n",
       "      <td>Discount:$699</td>\n",
       "      <td>$45,907</td>\n",
       "      <td>3.5L V-6 cyl</td>\n",
       "      <td>All-wheel Drive</td>\n",
       "      <td>Automatic</td>\n",
       "      <td>Midnight Black</td>\n",
       "      <td>20540</td>\n",
       "    </tr>\n",
       "    <tr>\n",
       "      <th>8</th>\n",
       "      <td>2020 Toyota Highlander LE</td>\n",
       "      <td>None</td>\n",
       "      <td>None</td>\n",
       "      <td>$46,606</td>\n",
       "      <td>3.5L V-6 cyl</td>\n",
       "      <td>All-wheel Drive</td>\n",
       "      <td>Automatic</td>\n",
       "      <td>Celestial Silver</td>\n",
       "      <td>20423</td>\n",
       "    </tr>\n",
       "    <tr>\n",
       "      <th>9</th>\n",
       "      <td>2020 Toyota RAV4 LE</td>\n",
       "      <td>None</td>\n",
       "      <td>None</td>\n",
       "      <td>$32,846</td>\n",
       "      <td>2.5L I-4 cyl</td>\n",
       "      <td>All-wheel Drive</td>\n",
       "      <td>Automatic</td>\n",
       "      <td>Super White</td>\n",
       "      <td>20596</td>\n",
       "    </tr>\n",
       "    <tr>\n",
       "      <th>10</th>\n",
       "      <td>2020 Toyota Camry Hybrid SE</td>\n",
       "      <td>None</td>\n",
       "      <td>None</td>\n",
       "      <td>$37,186</td>\n",
       "      <td>2.5L I-4 cyl</td>\n",
       "      <td>Front-wheel Drive</td>\n",
       "      <td>Automatic</td>\n",
       "      <td>Celestial Silver</td>\n",
       "      <td>20644</td>\n",
       "    </tr>\n",
       "    <tr>\n",
       "      <th>11</th>\n",
       "      <td>2020 Toyota Highlander XLE</td>\n",
       "      <td>None</td>\n",
       "      <td>None</td>\n",
       "      <td>$48,646</td>\n",
       "      <td>3.5L V-6 cyl</td>\n",
       "      <td>All-wheel Drive</td>\n",
       "      <td>Automatic</td>\n",
       "      <td>Blueprint</td>\n",
       "      <td>20641</td>\n",
       "    </tr>\n",
       "    <tr>\n",
       "      <th>12</th>\n",
       "      <td>2020 Toyota Corolla LE</td>\n",
       "      <td>None</td>\n",
       "      <td>None</td>\n",
       "      <td>$24,276</td>\n",
       "      <td>1.8L I-4 cyl</td>\n",
       "      <td>Front-wheel Drive</td>\n",
       "      <td>Automatic</td>\n",
       "      <td>Black Sand Pearl</td>\n",
       "      <td>20652</td>\n",
       "    </tr>\n",
       "    <tr>\n",
       "      <th>13</th>\n",
       "      <td>2020 Toyota Sienna SE 8-Passenger</td>\n",
       "      <td>None</td>\n",
       "      <td>None</td>\n",
       "      <td>$51,621</td>\n",
       "      <td>3.5L V-6 cyl</td>\n",
       "      <td>Front-wheel Drive</td>\n",
       "      <td>Automatic</td>\n",
       "      <td>Super White</td>\n",
       "      <td>20655</td>\n",
       "    </tr>\n",
       "    <tr>\n",
       "      <th>14</th>\n",
       "      <td>2020 Toyota Camry SE</td>\n",
       "      <td>None</td>\n",
       "      <td>None</td>\n",
       "      <td>$31,136</td>\n",
       "      <td>2.5L I-4 cyl</td>\n",
       "      <td>Front-wheel Drive</td>\n",
       "      <td>Automatic</td>\n",
       "      <td>Pre-Dawn Grey Mica</td>\n",
       "      <td>20665</td>\n",
       "    </tr>\n",
       "    <tr>\n",
       "      <th>15</th>\n",
       "      <td>2020 Toyota Corolla LE</td>\n",
       "      <td>None</td>\n",
       "      <td>None</td>\n",
       "      <td>$24,276</td>\n",
       "      <td>1.8L I-4 cyl</td>\n",
       "      <td>Front-wheel Drive</td>\n",
       "      <td>Automatic</td>\n",
       "      <td>Super White</td>\n",
       "      <td>20659</td>\n",
       "    </tr>\n",
       "  </tbody>\n",
       "</table>\n",
       "</div>"
      ],
      "text/plain": [
       "                                 Title     MSRP         Discount    Price  \\\n",
       "0               2020 Toyota Corolla SE  $26,006  Discount:$1,899  $24,107   \n",
       "1         2020 Toyota Prius Technology  $36,036  Discount:$1,099  $34,937   \n",
       "2                 2020 Toyota Camry LE  $31,126  Discount:$1,099  $30,027   \n",
       "3            2020 Toyota Highlander LE  $46,146  Discount:$1,099  $45,047   \n",
       "4                 2020 Toyota Camry SE  $34,236  Discount:$1,099  $33,137   \n",
       "5               2020 Toyota Corolla LE  $26,276  Discount:$1,099  $25,177   \n",
       "6      2020 Toyota Prius Prime Upgrade  $37,576  Discount:$1,099  $36,477   \n",
       "7            2020 Toyota Highlander LE  $46,606    Discount:$699  $45,907   \n",
       "8            2020 Toyota Highlander LE     None             None  $46,606   \n",
       "9                  2020 Toyota RAV4 LE     None             None  $32,846   \n",
       "10         2020 Toyota Camry Hybrid SE     None             None  $37,186   \n",
       "11          2020 Toyota Highlander XLE     None             None  $48,646   \n",
       "12              2020 Toyota Corolla LE     None             None  $24,276   \n",
       "13   2020 Toyota Sienna SE 8-Passenger     None             None  $51,621   \n",
       "14                2020 Toyota Camry SE     None             None  $31,136   \n",
       "15              2020 Toyota Corolla LE     None             None  $24,276   \n",
       "\n",
       "            Engine           Drive Type Transmission             Exterior  \\\n",
       "0     2.0L I-4 cyl    Front-wheel Drive    Automatic          Super White   \n",
       "1     1.8L I-4 cyl      All-wheel Drive    Automatic       Classic Silver   \n",
       "2     2.5L I-4 cyl    Front-wheel Drive    Automatic          Super White   \n",
       "3     3.5L V-6 cyl      All-wheel Drive    Automatic     Celestial Silver   \n",
       "4     2.5L I-4 cyl    Front-wheel Drive    Automatic          Super White   \n",
       "5     1.8L I-4 cyl    Front-wheel Drive    Automatic     Black Sand Pearl   \n",
       "6     1.8L I-4 cyl    Front-wheel Drive    Automatic        Titanium Glow   \n",
       "7     3.5L V-6 cyl      All-wheel Drive    Automatic       Midnight Black   \n",
       "8     3.5L V-6 cyl      All-wheel Drive    Automatic     Celestial Silver   \n",
       "9     2.5L I-4 cyl      All-wheel Drive    Automatic          Super White   \n",
       "10    2.5L I-4 cyl    Front-wheel Drive    Automatic     Celestial Silver   \n",
       "11    3.5L V-6 cyl      All-wheel Drive    Automatic            Blueprint   \n",
       "12    1.8L I-4 cyl    Front-wheel Drive    Automatic     Black Sand Pearl   \n",
       "13    3.5L V-6 cyl    Front-wheel Drive    Automatic          Super White   \n",
       "14    2.5L I-4 cyl    Front-wheel Drive    Automatic   Pre-Dawn Grey Mica   \n",
       "15    1.8L I-4 cyl    Front-wheel Drive    Automatic          Super White   \n",
       "\n",
       "     Stock  \n",
       "0    20103  \n",
       "1    20141  \n",
       "2    20350  \n",
       "3    20430  \n",
       "4    20483  \n",
       "5    20505  \n",
       "6    20529  \n",
       "7    20540  \n",
       "8    20423  \n",
       "9    20596  \n",
       "10   20644  \n",
       "11   20641  \n",
       "12   20652  \n",
       "13   20655  \n",
       "14   20665  \n",
       "15   20659  "
      ]
     },
     "execution_count": 17,
     "metadata": {},
     "output_type": "execute_result"
    }
   ],
   "source": [
    "df = pd.DataFrame.from_dict(dict,orient = 'index').T\n",
    "df"
   ]
  },
  {
   "cell_type": "code",
   "execution_count": 18,
   "metadata": {},
   "outputs": [],
   "source": [
    "#Dataframe to csv\n",
    "df.to_csv('jptoyotaregent.csv')"
   ]
  },
  {
   "cell_type": "code",
   "execution_count": null,
   "metadata": {},
   "outputs": [],
   "source": []
  }
 ],
 "metadata": {
  "kernelspec": {
   "display_name": "Python 3",
   "language": "python",
   "name": "python3"
  },
  "language_info": {
   "codemirror_mode": {
    "name": "ipython",
    "version": 3
   },
   "file_extension": ".py",
   "mimetype": "text/x-python",
   "name": "python",
   "nbconvert_exporter": "python",
   "pygments_lexer": "ipython3",
   "version": "3.7.3"
  }
 },
 "nbformat": 4,
 "nbformat_minor": 2
}
