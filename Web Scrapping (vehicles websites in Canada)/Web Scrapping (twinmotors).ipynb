{
 "cells": [
  {
   "cell_type": "code",
   "execution_count": 1,
   "metadata": {},
   "outputs": [],
   "source": [
    "from bs4 import BeautifulSoup\n",
    "import requests\n",
    "import pandas as pd\n",
    "from selenium import webdriver\n",
    "import time\n",
    "from matplotlib import pyplot as plt"
   ]
  },
  {
   "cell_type": "code",
   "execution_count": 2,
   "metadata": {},
   "outputs": [],
   "source": [
    "urla = input((\"Enter url : \"))\n",
    "# \"https://www.twinmotorsflinflon.ca/vehicles/?fn=&pr=&mk=&md=&tr=&bs=&od=&yr=&v1=Passenger%20Vehicles&view=grid\""
   ]
  },
  {
   "cell_type": "code",
   "execution_count": 3,
   "metadata": {},
   "outputs": [],
   "source": [
    "driver=webdriver.Firefox(executable_path=\"C:/Users/DELL/Downloads/geckodriver.exe\")\n",
    "#set the value of executable path\n",
    "driver.get(urla)"
   ]
  },
  {
   "cell_type": "code",
   "execution_count": 4,
   "metadata": {},
   "outputs": [],
   "source": [
    "page_source=driver.page_source"
   ]
  },
  {
   "cell_type": "code",
   "execution_count": 5,
   "metadata": {},
   "outputs": [],
   "source": [
    "#parsing the page\n",
    "soup=BeautifulSoup(page_source,'html.parser')"
   ]
  },
  {
   "cell_type": "code",
   "execution_count": 7,
   "metadata": {},
   "outputs": [
    {
     "name": "stdout",
     "output_type": "stream",
     "text": [
      "    Save Vehicle  Set Price Alerts    Stock #: 200281BD 2014 Nissan Rogue SL 4WD    View Pre-Owned Certification\t\t\t\t\t  Pre-Owned Certification          Dealer Price  $15,975  Initial Price  $16,934    Savings  $-959     Dealer Price  $15,975  Pricing excludes licensing and tax.   \n",
      "\t\t\t\t\t\t\t\t\t+ Tax\t\t\t\t\t\t\t\t  Est. Finance Payment  $146 \n",
      "\t\t\t\t\t\t\t\t\t\t/bw\n",
      "\t\t\t\t\t\t\t\t\t  Click to open payment calculator \n",
      "\t\t\t\t\t\t\t\t\t6.99% for 60 Months\t\t\t\t\t\t\t\t    Kilometres: 125,254 \n",
      "\t\t\t\tView More Details\n",
      "\t\t\t   Compare     Compare      Save Vehicle  Set Price Alerts    Stock #: 200390AP 2011 GMC ACADIA SLT 4WD    View Pre-Owned Certification\t\t\t\t\t  Pre-Owned Certification          Dealer Price  $12,500  Initial Price  $13,250    Savings  $-750     Dealer Price  $12,500  Pricing excludes licensing and tax.   \n",
      "\t\t\t\t\t\t\t\t\t+ Tax\t\t\t\t\t\t\t\t  Est. Finance Payment  $178 \n",
      "\t\t\t\t\t\t\t\t\t\t/bw\n",
      "\t\t\t\t\t\t\t\t\t  Click to open payment calculator \n",
      "\t\t\t\t\t\t\t\t\t6.99% for 36 Months\t\t\t\t\t\t\t\t    Kilometres: 148,060 \n",
      "\t\t\t\tView More Details\n",
      "\t\t\t   Compare     Compare      Save Vehicle  Set Price Alerts    Stock #: U200146AD 2015 Ram 1500 LONGHORN 4X4    View Pre-Owned Certification\t\t\t\t\t  Pre-Owned Certification          Dealer Price  $33,925  Initial Price  $35,961    Savings  $-2,036     Dealer Price  $33,925  Pricing excludes licensing and tax.   \n",
      "\t\t\t\t\t\t\t\t\t+ Tax\t\t\t\t\t\t\t\t  Est. Finance Payment  $236 \n",
      "\t\t\t\t\t\t\t\t\t\t/bw\n",
      "\t\t\t\t\t\t\t\t\t  Click to open payment calculator \n",
      "\t\t\t\t\t\t\t\t\t6.99% for 84 Months\t\t\t\t\t\t\t\t    Kilometres: 106,778 \n",
      "\t\t\t\tView More Details\n",
      "\t\t\t   Compare     Compare      Save Vehicle  Set Price Alerts    Stock #: U3628 2015 Dodge CHALLENGER R/T RWD    View Pre-Owned Certification\t\t\t\t\t  Pre-Owned Certification          Contact Us For Price   Kilometres: 19,688 \n",
      "\t\t\t\tView More Details\n",
      "\t\t\t   Compare     Compare      Save Vehicle  Set Price Alerts    Stock #: 200002 2020 Ram 1500 TRADESMAN 4X4    View Pre-Owned Certification\t\t\t\t\t  Pre-Owned Certification        Dealer Price  $51,685  \n",
      "\t\t\t\t\t\t\t\t\t+ Tax\t\t\t\t\t\t\t\t  Est. Finance Payment  $124 \n",
      "\t\t\t\t\t\t\t\t\t\t/wk\n",
      "\t\t\t\t\t\t\t\t\t  Click to open payment calculator \n",
      "\t\t\t\t\t\t\t\t\t0% for 96 Months\t\t\t\t\t\t\t\t     \n",
      "\t\t\t\tView More Details\n",
      "\t\t\t   Compare     Compare      Save Vehicle  Set Price Alerts    Stock #: 190823AP 2014 Chevrolet SILVERADO 1500 WORK TRUCK W/2W...    View Pre-Owned Certification\t\t\t\t\t  Pre-Owned Certification          Dealer Price  $24,655  Initial Price  $26,134    Savings  $-1,479     Dealer Price  $24,655  Pricing excludes licensing and tax.   \n",
      "\t\t\t\t\t\t\t\t\t+ Tax\t\t\t\t\t\t\t\t  Est. Finance Payment  $225 \n",
      "\t\t\t\t\t\t\t\t\t\t/bw\n",
      "\t\t\t\t\t\t\t\t\t  Click to open payment calculator \n",
      "\t\t\t\t\t\t\t\t\t6.99% for 60 Months\t\t\t\t\t\t\t\t    Kilometres: 49,489 \n",
      "\t\t\t\tView More Details\n",
      "\t\t\t   Compare     Compare      Save Vehicle  Set Price Alerts    Stock #: R19165BR 2016 Chevrolet Silverado 1500 LTZ 4X4    View Pre-Owned Certification\t\t\t\t\t  Pre-Owned Certification          Dealer Price  $36,988  Initial Price  $39,207    Savings  $-2,219     Dealer Price  $36,988  Pricing excludes licensing and tax.   \n",
      "\t\t\t\t\t\t\t\t\t+ Tax\t\t\t\t\t\t\t\t  Est. Finance Payment  $257 \n",
      "\t\t\t\t\t\t\t\t\t\t/bw\n",
      "\t\t\t\t\t\t\t\t\t  Click to open payment calculator \n",
      "\t\t\t\t\t\t\t\t\t6.99% for 84 Months\t\t\t\t\t\t\t\t    Kilometres: 82,641 \n",
      "\t\t\t\tView More Details\n",
      "\t\t\t   Compare     Compare    \n",
      "\t\t\t\t\tFully Customized TM Edition!!\n",
      "\t\t\t\t  Save Vehicle  Set Price Alerts    Stock #: 200027 2020 Jeep Gladiator OVERLAND 4X4    View Pre-Owned Certification\t\t\t\t\t  Pre-Owned Certification        Dealer Price  $65,464  Initial Price  $68,909    Savings  $-3,445     Dealer Price  $65,464  Pricing excludes licensing and tax.   \n",
      "\t\t\t\t\t\t\t\t\t+ Tax\t\t\t\t\t\t\t\t  Est. Finance Payment  $177 \n",
      "\t\t\t\t\t\t\t\t\t\t/wk\n",
      "\t\t\t\t\t\t\t\t\t  Click to open payment calculator \n",
      "\t\t\t\t\t\t\t\t\t2.99% for 96 Months\t\t\t\t\t\t\t\t     \n",
      "\t\t\t\tView More Details\n",
      "\t\t\t   Compare     Compare    \n",
      "\t\t\t\t\t10 Ply Off-road Tires/Rear seat-mounted DVD/ 2 sets of tires!\n",
      "\t\t\t\t  Save Vehicle  Set Price Alerts    Stock #: B9032 2016 Ford TRANSIT WAGON XLT RWD    View Pre-Owned Certification\t\t\t\t\t  Pre-Owned Certification          Dealer Price  $21,500  Initial Price  $26,378    Savings  $-4,878     Dealer Price  $21,500  Pricing excludes licensing and tax.   \n",
      "\t\t\t\t\t\t\t\t\t+ Tax\t\t\t\t\t\t\t\t  Est. Finance Payment  $150 \n",
      "\t\t\t\t\t\t\t\t\t\t/bw\n",
      "\t\t\t\t\t\t\t\t\t  Click to open payment calculator \n",
      "\t\t\t\t\t\t\t\t\t6.99% for 84 Months\t\t\t\t\t\t\t\t    Kilometres: 127,702 \n",
      "\t\t\t\tView More Details\n",
      "\t\t\t   Compare     Compare      Save Vehicle  Set Price Alerts    Stock #: U3594 2014 Ram 1500 SLT 4X4    View Pre-Owned Certification\t\t\t\t\t  Pre-Owned Certification          Dealer Price  $23,500  Initial Price  $27,558    Savings  $-4,058     Dealer Price  $23,500  Pricing excludes licensing and tax.   \n",
      "\t\t\t\t\t\t\t\t\t+ Tax\t\t\t\t\t\t\t\t  Est. Finance Payment  $214 \n",
      "\t\t\t\t\t\t\t\t\t\t/bw\n",
      "\t\t\t\t\t\t\t\t\t  Click to open payment calculator \n",
      "\t\t\t\t\t\t\t\t\t6.99% for 60 Months\t\t\t\t\t\t\t\t    Kilometres: 82,374 \n",
      "\t\t\t\tView More Details\n",
      "\t\t\t   Compare     Compare      Save Vehicle  Set Price Alerts    Stock #: 200087 2020 Ram 1500 BIG HORN 4X4    View Pre-Owned Certification\t\t\t\t\t  Pre-Owned Certification        Dealer Price  $61,350  \n",
      "\t\t\t\t\t\t\t\t\t+ Tax\t\t\t\t\t\t\t\t  Est. Finance Payment  $147 \n",
      "\t\t\t\t\t\t\t\t\t\t/wk\n",
      "\t\t\t\t\t\t\t\t\t  Click to open payment calculator \n",
      "\t\t\t\t\t\t\t\t\t0% for 96 Months\t\t\t\t\t\t\t\t     \n",
      "\t\t\t\tView More Details\n",
      "\t\t\t   Compare     Compare    \n",
      "\t\t\t\t\tLifted w/ 35\" Toyo RT Tires on Fuel Wheels!\n",
      "\t\t\t\t  Save Vehicle  Set Price Alerts    Stock #: 200041 2020 Jeep Gladiator SPORT S 4X4    View Pre-Owned Certification\t\t\t\t\t  Pre-Owned Certification        Dealer Price  $54,416  Initial Price  $57,280    Savings  $-2,864     Dealer Price  $54,416  Pricing excludes licensing and tax.   \n",
      "\t\t\t\t\t\t\t\t\t+ Tax\t\t\t\t\t\t\t\t  Est. Finance Payment  $147 \n",
      "\t\t\t\t\t\t\t\t\t\t/wk\n",
      "\t\t\t\t\t\t\t\t\t  Click to open payment calculator \n",
      "\t\t\t\t\t\t\t\t\t2.99% for 96 Months\t\t\t\t\t\t\t\t     \n",
      "\t\t\t\tView More Details\n",
      "\t\t\t   Compare     Compare  \n"
     ]
    }
   ],
   "source": [
    "#All the data present in a page is present in class row grid-row\n",
    "data=soup.findAll('div',{\"class\":\"row grid-row\"})\n",
    "#printing the extracted data of a single page\n",
    "for info in data:\n",
    "    print(info.text)"
   ]
  },
  {
   "cell_type": "code",
   "execution_count": 8,
   "metadata": {},
   "outputs": [
    {
     "name": "stdout",
     "output_type": "stream",
     "text": [
      "2014 Nissan Rogue SL 4WD\n",
      "2011 GMC ACADIA SLT 4WD\n",
      "2015 Ram 1500 LONGHORN 4X4\n",
      "2015 Dodge CHALLENGER R/T RWD\n",
      "2020 Ram 1500 TRADESMAN 4X4\n",
      "2014 Chevrolet SILVERADO 1500 WORK TRUCK W/2W...\n",
      "2016 Chevrolet Silverado 1500 LTZ 4X4\n",
      "2020 Jeep Gladiator OVERLAND 4X4\n",
      "2016 Ford TRANSIT WAGON XLT RWD\n",
      "2014 Ram 1500 SLT 4X4\n",
      "2020 Ram 1500 BIG HORN 4X4\n",
      "2020 Jeep Gladiator SPORT S 4X4\n",
      "['2014 Nissan Rogue SL 4WD', '2011 GMC ACADIA SLT 4WD', '2015 Ram 1500 LONGHORN 4X4', '2015 Dodge CHALLENGER R/T RWD', '2020 Ram 1500 TRADESMAN 4X4', '2014 Chevrolet SILVERADO 1500 WORK TRUCK W/2W...', '2016 Chevrolet Silverado 1500 LTZ 4X4', '2020 Jeep Gladiator OVERLAND 4X4', '2016 Ford TRANSIT WAGON XLT RWD', '2014 Ram 1500 SLT 4X4', '2020 Ram 1500 BIG HORN 4X4', '2020 Jeep Gladiator SPORT S 4X4']\n"
     ]
    },
    {
     "data": {
      "text/plain": [
       "12"
      ]
     },
     "execution_count": 8,
     "metadata": {},
     "output_type": "execute_result"
    }
   ],
   "source": [
    "#Finding the titles of cars using find_all\n",
    "#All the titles are present in h4 class : vehicle-card__title\n",
    "car_titles = []\n",
    "a=soup.findAll('h4',{\"class\":\"vehicle-card__title\"})\n",
    "for i in a :\n",
    "    print(i.text)#printing titles\n",
    "    car_titles.append(i.text)#appending values\n",
    "print(car_titles)#printing titles\n",
    "len(car_titles)#printing length of list"
   ]
  },
  {
   "cell_type": "code",
   "execution_count": 9,
   "metadata": {},
   "outputs": [
    {
     "name": "stdout",
     "output_type": "stream",
     "text": [
      "125,254\n",
      "148,060\n",
      "106,778\n",
      "19,688\n",
      "49,489\n",
      "82,641\n",
      "127,702\n",
      "82,374\n",
      "['125,254', '148,060', '106,778', '19,688', '49,489', '82,641', '127,702', '82,374']\n"
     ]
    },
    {
     "data": {
      "text/plain": [
       "8"
      ]
     },
     "execution_count": 9,
     "metadata": {},
     "output_type": "execute_result"
    }
   ],
   "source": [
    "#Finding the mileage of cars using find_all\n",
    "#All the mileage are present in span class : detailed-specs__value\n",
    "car_mileage = []\n",
    "a=soup.findAll('span',{\"class\":\"detailed-specs__value\"})\n",
    "for i in a :\n",
    "    print(i.text)#printing mileage\n",
    "    car_mileage.append(i.text)#appending values\n",
    "print(car_mileage)#printing mileage\n",
    "len(car_mileage)#printing length of list"
   ]
  },
  {
   "cell_type": "code",
   "execution_count": 10,
   "metadata": {},
   "outputs": [
    {
     "name": "stdout",
     "output_type": "stream",
     "text": [
      "Stock #: 200281BD\n",
      "Stock #: 200390AP\n",
      "Stock #: U200146AD\n",
      "Stock #: U3628\n",
      "Stock #: 200002\n",
      "Stock #: 190823AP\n",
      "Stock #: R19165BR\n",
      "Stock #: 200027\n",
      "Stock #: B9032\n",
      "Stock #: U3594\n",
      "Stock #: 200087\n",
      "Stock #: 200041\n",
      "[' 200281BD', ' 200390AP', ' U200146AD', ' U3628', ' 200002', ' 190823AP', ' R19165BR', ' 200027', ' B9032', ' U3594', ' 200087', ' 200041']\n"
     ]
    },
    {
     "data": {
      "text/plain": [
       "12"
      ]
     },
     "execution_count": 10,
     "metadata": {},
     "output_type": "execute_result"
    }
   ],
   "source": [
    "#Finding the stock of cars using find_all\n",
    "#All the stock are present in p class : vehicle-card__stock\n",
    "stock = []\n",
    "a=soup.findAll('p',{\"class\":\"vehicle-card__stock\"})\n",
    "for i in a :\n",
    "    print(i.text)#printing stock\n",
    "    stock.append(i.text.replace(\"Stock #:\",\"\"))#appending values\n",
    "print(stock)#printing stock\n",
    "len(stock)#printing length of list"
   ]
  },
  {
   "cell_type": "code",
   "execution_count": 11,
   "metadata": {},
   "outputs": [
    {
     "name": "stdout",
     "output_type": "stream",
     "text": [
      "$146\n",
      "$178\n",
      "$236\n",
      "$124\n",
      "$225\n",
      "$257\n",
      "$177\n",
      "$150\n",
      "$214\n",
      "$147\n",
      "$147\n",
      "['$146', '$178', '$236', '$124', '$225', '$257', '$177', '$150', '$214', '$147', '$147']\n"
     ]
    },
    {
     "data": {
      "text/plain": [
       "11"
      ]
     },
     "execution_count": 11,
     "metadata": {},
     "output_type": "execute_result"
    }
   ],
   "source": [
    "#Finding the finance payment of cars using find_all\n",
    "#All the  finance payment  are present in div class : price-block__price price-block__price--sm price-block__price----primary\n",
    "fn_price = []\n",
    "c = soup.findAll('div',{\"class\":\"price-block__price price-block__price--sm price-block__price--primary\"})\n",
    "for i in c :\n",
    "    sp=i.find('span',{\"class\":\"df aifs\"})   #digging further\n",
    "    print(sp.text)#printing finance payment \n",
    "    fn_price.append(sp.text)#appending in a list\n",
    "print(fn_price)#printing list\n",
    "len(fn_price)#length of list"
   ]
  },
  {
   "cell_type": "code",
   "execution_count": 12,
   "metadata": {},
   "outputs": [
    {
     "name": "stdout",
     "output_type": "stream",
     "text": [
      "6.99% for 60 Months\n",
      "6.99% for 36 Months\n",
      "6.99% for 84 Months\n",
      "0% for 96 Months\n",
      "6.99% for 60 Months\n",
      "6.99% for 84 Months\n",
      "2.99% for 96 Months\n",
      "6.99% for 84 Months\n",
      "6.99% for 60 Months\n",
      "0% for 96 Months\n",
      "2.99% for 96 Months\n",
      "['6.99% for 60 Months', '6.99% for 36 Months', '6.99% for 84 Months', '0% for 96 Months', '6.99% for 60 Months', '6.99% for 84 Months', '2.99% for 96 Months', '6.99% for 84 Months', '6.99% for 60 Months', '0% for 96 Months', '2.99% for 96 Months']\n"
     ]
    },
    {
     "data": {
      "text/plain": [
       "11"
      ]
     },
     "execution_count": 12,
     "metadata": {},
     "output_type": "execute_result"
    }
   ],
   "source": [
    "duration = [] #taking empty list\n",
    "c = soup.findAll('div',{\"class\":\"vehicle-card__price-wrap vehicle-card__price-wrap--finance\"}) #all the duration are inside div class vehicle-card__price-wrap vehicle-card__price-wrap--finance\n",
    "for i in c :\n",
    "    s = i.find('span',{\"class\":\"price-block__sub\"}) #digging further\n",
    "    print(s.text.strip())\n",
    "    duration.append(s.text.strip()) #appending in list\n",
    "print(duration) #prinitng list\n",
    "len(duration) #length of list"
   ]
  },
  {
   "cell_type": "code",
   "execution_count": 18,
   "metadata": {},
   "outputs": [],
   "source": [
    "#creating dict of scrapped data\n",
    "dict = {\n",
    "    'Title' : car_titles,\n",
    "    'Stock' : stock,\n",
    "    'Mileage' : car_mileage,\n",
    "    'Installment per week':fn_price,\n",
    "    'Duration':duration\n",
    "    \n",
    "}"
   ]
  },
  {
   "cell_type": "code",
   "execution_count": 19,
   "metadata": {},
   "outputs": [
    {
     "data": {
      "text/html": [
       "<div>\n",
       "<style scoped>\n",
       "    .dataframe tbody tr th:only-of-type {\n",
       "        vertical-align: middle;\n",
       "    }\n",
       "\n",
       "    .dataframe tbody tr th {\n",
       "        vertical-align: top;\n",
       "    }\n",
       "\n",
       "    .dataframe thead th {\n",
       "        text-align: right;\n",
       "    }\n",
       "</style>\n",
       "<table border=\"1\" class=\"dataframe\">\n",
       "  <thead>\n",
       "    <tr style=\"text-align: right;\">\n",
       "      <th></th>\n",
       "      <th>Title</th>\n",
       "      <th>Stock</th>\n",
       "      <th>Mileage</th>\n",
       "      <th>Installment per week</th>\n",
       "      <th>Duration</th>\n",
       "    </tr>\n",
       "  </thead>\n",
       "  <tbody>\n",
       "    <tr>\n",
       "      <th>0</th>\n",
       "      <td>2014 Nissan Rogue SL 4WD</td>\n",
       "      <td>200281BD</td>\n",
       "      <td>125,254</td>\n",
       "      <td>$146</td>\n",
       "      <td>6.99% for 60 Months</td>\n",
       "    </tr>\n",
       "    <tr>\n",
       "      <th>1</th>\n",
       "      <td>2011 GMC ACADIA SLT 4WD</td>\n",
       "      <td>200390AP</td>\n",
       "      <td>148,060</td>\n",
       "      <td>$178</td>\n",
       "      <td>6.99% for 36 Months</td>\n",
       "    </tr>\n",
       "    <tr>\n",
       "      <th>2</th>\n",
       "      <td>2015 Ram 1500 LONGHORN 4X4</td>\n",
       "      <td>U200146AD</td>\n",
       "      <td>106,778</td>\n",
       "      <td>$236</td>\n",
       "      <td>6.99% for 84 Months</td>\n",
       "    </tr>\n",
       "    <tr>\n",
       "      <th>3</th>\n",
       "      <td>2015 Dodge CHALLENGER R/T RWD</td>\n",
       "      <td>U3628</td>\n",
       "      <td>19,688</td>\n",
       "      <td>$124</td>\n",
       "      <td>0% for 96 Months</td>\n",
       "    </tr>\n",
       "    <tr>\n",
       "      <th>4</th>\n",
       "      <td>2020 Ram 1500 TRADESMAN 4X4</td>\n",
       "      <td>200002</td>\n",
       "      <td>49,489</td>\n",
       "      <td>$225</td>\n",
       "      <td>6.99% for 60 Months</td>\n",
       "    </tr>\n",
       "    <tr>\n",
       "      <th>5</th>\n",
       "      <td>2014 Chevrolet SILVERADO 1500 WORK TRUCK W/2W...</td>\n",
       "      <td>190823AP</td>\n",
       "      <td>82,641</td>\n",
       "      <td>$257</td>\n",
       "      <td>6.99% for 84 Months</td>\n",
       "    </tr>\n",
       "    <tr>\n",
       "      <th>6</th>\n",
       "      <td>2016 Chevrolet Silverado 1500 LTZ 4X4</td>\n",
       "      <td>R19165BR</td>\n",
       "      <td>127,702</td>\n",
       "      <td>$177</td>\n",
       "      <td>2.99% for 96 Months</td>\n",
       "    </tr>\n",
       "    <tr>\n",
       "      <th>7</th>\n",
       "      <td>2020 Jeep Gladiator OVERLAND 4X4</td>\n",
       "      <td>200027</td>\n",
       "      <td>82,374</td>\n",
       "      <td>$150</td>\n",
       "      <td>6.99% for 84 Months</td>\n",
       "    </tr>\n",
       "    <tr>\n",
       "      <th>8</th>\n",
       "      <td>2016 Ford TRANSIT WAGON XLT RWD</td>\n",
       "      <td>B9032</td>\n",
       "      <td>None</td>\n",
       "      <td>$214</td>\n",
       "      <td>6.99% for 60 Months</td>\n",
       "    </tr>\n",
       "    <tr>\n",
       "      <th>9</th>\n",
       "      <td>2014 Ram 1500 SLT 4X4</td>\n",
       "      <td>U3594</td>\n",
       "      <td>None</td>\n",
       "      <td>$147</td>\n",
       "      <td>0% for 96 Months</td>\n",
       "    </tr>\n",
       "    <tr>\n",
       "      <th>10</th>\n",
       "      <td>2020 Ram 1500 BIG HORN 4X4</td>\n",
       "      <td>200087</td>\n",
       "      <td>None</td>\n",
       "      <td>$147</td>\n",
       "      <td>2.99% for 96 Months</td>\n",
       "    </tr>\n",
       "    <tr>\n",
       "      <th>11</th>\n",
       "      <td>2020 Jeep Gladiator SPORT S 4X4</td>\n",
       "      <td>200041</td>\n",
       "      <td>None</td>\n",
       "      <td>None</td>\n",
       "      <td>None</td>\n",
       "    </tr>\n",
       "  </tbody>\n",
       "</table>\n",
       "</div>"
      ],
      "text/plain": [
       "                                               Title       Stock  Mileage  \\\n",
       "0                           2014 Nissan Rogue SL 4WD    200281BD  125,254   \n",
       "1                            2011 GMC ACADIA SLT 4WD    200390AP  148,060   \n",
       "2                         2015 Ram 1500 LONGHORN 4X4   U200146AD  106,778   \n",
       "3                      2015 Dodge CHALLENGER R/T RWD       U3628   19,688   \n",
       "4                        2020 Ram 1500 TRADESMAN 4X4      200002   49,489   \n",
       "5   2014 Chevrolet SILVERADO 1500 WORK TRUCK W/2W...    190823AP   82,641   \n",
       "6              2016 Chevrolet Silverado 1500 LTZ 4X4    R19165BR  127,702   \n",
       "7                   2020 Jeep Gladiator OVERLAND 4X4      200027   82,374   \n",
       "8                    2016 Ford TRANSIT WAGON XLT RWD       B9032     None   \n",
       "9                              2014 Ram 1500 SLT 4X4       U3594     None   \n",
       "10                        2020 Ram 1500 BIG HORN 4X4      200087     None   \n",
       "11                   2020 Jeep Gladiator SPORT S 4X4      200041     None   \n",
       "\n",
       "   Installment per week             Duration  \n",
       "0                  $146  6.99% for 60 Months  \n",
       "1                  $178  6.99% for 36 Months  \n",
       "2                  $236  6.99% for 84 Months  \n",
       "3                  $124     0% for 96 Months  \n",
       "4                  $225  6.99% for 60 Months  \n",
       "5                  $257  6.99% for 84 Months  \n",
       "6                  $177  2.99% for 96 Months  \n",
       "7                  $150  6.99% for 84 Months  \n",
       "8                  $214  6.99% for 60 Months  \n",
       "9                  $147     0% for 96 Months  \n",
       "10                 $147  2.99% for 96 Months  \n",
       "11                 None                 None  "
      ]
     },
     "execution_count": 19,
     "metadata": {},
     "output_type": "execute_result"
    }
   ],
   "source": [
    "df = pd.DataFrame.from_dict(dict,orient = 'index').T\n",
    "df"
   ]
  },
  {
   "cell_type": "code",
   "execution_count": 20,
   "metadata": {},
   "outputs": [],
   "source": [
    "#Dataframe to csv\n",
    "df.to_csv('twinmotors.csv')"
   ]
  },
  {
   "cell_type": "code",
   "execution_count": null,
   "metadata": {},
   "outputs": [],
   "source": []
  }
 ],
 "metadata": {
  "kernelspec": {
   "display_name": "Python 3",
   "language": "python",
   "name": "python3"
  },
  "language_info": {
   "codemirror_mode": {
    "name": "ipython",
    "version": 3
   },
   "file_extension": ".py",
   "mimetype": "text/x-python",
   "name": "python",
   "nbconvert_exporter": "python",
   "pygments_lexer": "ipython3",
   "version": "3.7.3"
  }
 },
 "nbformat": 4,
 "nbformat_minor": 2
}
