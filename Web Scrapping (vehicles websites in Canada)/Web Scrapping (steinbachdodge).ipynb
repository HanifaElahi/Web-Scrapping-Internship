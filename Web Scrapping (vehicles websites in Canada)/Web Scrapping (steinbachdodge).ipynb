{
 "cells": [
  {
   "cell_type": "code",
   "execution_count": null,
   "metadata": {},
   "outputs": [],
   "source": [
    "from bs4 import BeautifulSoup\n",
    "import requests\n",
    "import pandas as pd\n",
    "from selenium import webdriver\n",
    "import time\n",
    "from matplotlib import pyplot as plt"
   ]
  },
  {
   "cell_type": "code",
   "execution_count": null,
   "metadata": {},
   "outputs": [],
   "source": [
    "urla =  \"https://www.steinbachdodge.ca/new-inventory/index.htm\""
   ]
  },
  {
   "cell_type": "code",
   "execution_count": null,
   "metadata": {},
   "outputs": [],
   "source": [
    "driver=webdriver.Firefox(executable_path=\"C:/Users/DELL/Downloads/geckodriver.exe\")\n",
    "#set the value of executable path\n",
    "driver.get(urla)"
   ]
  },
  {
   "cell_type": "code",
   "execution_count": null,
   "metadata": {},
   "outputs": [],
   "source": [
    "page_source=driver.page_source"
   ]
  },
  {
   "cell_type": "code",
   "execution_count": null,
   "metadata": {},
   "outputs": [],
   "source": [
    "#parsing the page\n",
    "soup=BeautifulSoup(page_source,'html.parser')"
   ]
  },
  {
   "cell_type": "code",
   "execution_count": null,
   "metadata": {},
   "outputs": [],
   "source": [
    "#Finding the titles of cars using find_all\n",
    "#All the titles are present in h3 class : fn\n",
    "car_titles = []\n",
    "a=soup.findAll('h2',{\"class\":\"vehicle-card-title mt-0 d-flex justify-content-between align-items-end\"})\n",
    "for i in a :\n",
    "    s = i.find('span')\n",
    "    print(s.text.strip())#printing titles\n",
    "    car_titles.append(s.text.strip())#appending values\n",
    "print(car_titles)#printing titles\n",
    "len(car_titles)#printing length of list"
   ]
  },
  {
   "cell_type": "code",
   "execution_count": null,
   "metadata": {},
   "outputs": [],
   "source": [
    "engine = []\n",
    "transmission = []\n",
    "exterior = []\n",
    "mileage = []\n",
    "# taking empty lists\n",
    "\n",
    "a = soup.find_all('div',{\"class\":\"description\"}) #scrapping details\n",
    "for i in a:\n",
    "    \n",
    "    e = i.find('dl').text.split(',')[0]#digging further using split\n",
    "    engine.append(e.replace(\"Engine:\",\"\")) #appending \n",
    "    f = i.find('dl').text.split(',')[1]#digging further using split\n",
    "    transmission.append(f.replace(\" Transmission:\",\"\"))#appending \n",
    "    g = i.find('dl').text.split(',')[2]#digging further using split\n",
    "    mileage.append(g.replace(\" Kilometres:\",\"\"))#appending \n",
    "    h = i.find('dl').text.split(',')[3] #digging further using split\n",
    "    exterior.append(h.replace(\" Exterior Colour:\",\"\"))#appending \n",
    "\n",
    "    #printing individual lists\n",
    "print(engine)                 \n",
    "print(transmission)\n",
    "print(exterior)\n",
    "print(mileage)"
   ]
  },
  {
   "cell_type": "code",
   "execution_count": null,
   "metadata": {},
   "outputs": [],
   "source": [
    "interior = []\n",
    "stock = []\n",
    "# taking empty lists\n",
    "\n",
    "a = soup.find_all('div',{\"class\":\"description\"}) #scrapping details\n",
    "for i in a:\n",
    "    x = i.find('dl',{\"class\":\"last\"}).text.split(',')[0]#digging further using split\n",
    "    interior.append(x.replace(\" Interior Colour: \",\"\"))#appending \n",
    "    y = i.find('dl',{\"class\":\"last\"}).text.split(',')[1]#digging further using split\n",
    "    stock.append(y.replace(\" Stock #:\",\"\"))#appending \n",
    "\n",
    "#printing individual lists   \n",
    "print(interior)\n",
    "print(stock)\n",
    "\n",
    "\n"
   ]
  },
  {
   "cell_type": "code",
   "execution_count": null,
   "metadata": {},
   "outputs": [],
   "source": [
    "Vinlist = []#taking empty list\n",
    "a = soup.find_all('dl',{\"class\":\"vin\"})#scrapping vin\n",
    "for i in a:\n",
    "    print(i.text)\n",
    "    Vinlist.append(i.text.replace(\"VIN: \",\"\"))#appending  in a list\n",
    "print(Vinlist)#printing list"
   ]
  },
  {
   "cell_type": "code",
   "execution_count": null,
   "metadata": {},
   "outputs": [],
   "source": [
    "#Finding the price of cars using find_all\n",
    "#All the price are present in span class: askingPrice final-price\n",
    "car_price = []\n",
    "a=soup.findAll('span',{\"class\":\"askingPrice final-price\"})\n",
    "for i in a :\n",
    "    print(i.text)#printing car price\n",
    "    car_price.append(i.text.replace(\"Asking Price:\",\"\"))#appending values\n",
    "print(car_price)#printing car price\n",
    "len(car_price)#printing length of list"
   ]
  },
  {
   "cell_type": "code",
   "execution_count": null,
   "metadata": {},
   "outputs": [],
   "source": [
    "#creating dict of scrapped data\n",
    "dict = {\n",
    "    'Title' : car_titles,\n",
    "    'Engine' : engine,\n",
    "    'transmission' : transmission,\n",
    "    'Mileage':mileage,\n",
    "    'Exterior':exterior,\n",
    "    'Interior':interior,\n",
    "    'Stock':stock,\n",
    "    'VIN':Vinlist,\n",
    "    'Price':car_price\n",
    "}"
   ]
  },
  {
   "cell_type": "code",
   "execution_count": null,
   "metadata": {},
   "outputs": [],
   "source": [
    "df = pd.DataFrame.from_dict(dict,orient = 'index').T\n",
    "df"
   ]
  },
  {
   "cell_type": "code",
   "execution_count": null,
   "metadata": {},
   "outputs": [],
   "source": [
    "#Dataframe to csv\n",
    "df.to_csv('steinbachdodge.csv')"
   ]
  },
  {
   "cell_type": "code",
   "execution_count": null,
   "metadata": {},
   "outputs": [],
   "source": []
  },
  {
   "cell_type": "code",
   "execution_count": null,
   "metadata": {},
   "outputs": [],
   "source": []
  }
 ],
 "metadata": {
  "kernelspec": {
   "display_name": "Python 3",
   "language": "python",
   "name": "python3"
  },
  "language_info": {
   "codemirror_mode": {
    "name": "ipython",
    "version": 3
   },
   "file_extension": ".py",
   "mimetype": "text/x-python",
   "name": "python",
   "nbconvert_exporter": "python",
   "pygments_lexer": "ipython3",
   "version": "3.7.3"
  }
 },
 "nbformat": 4,
 "nbformat_minor": 2
}
