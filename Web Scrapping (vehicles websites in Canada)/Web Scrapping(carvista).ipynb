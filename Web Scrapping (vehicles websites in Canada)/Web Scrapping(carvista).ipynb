{
 "cells": [
  {
   "cell_type": "code",
   "execution_count": 1,
   "metadata": {},
   "outputs": [],
   "source": [
    "from bs4 import BeautifulSoup\n",
    "import requests\n",
    "import pandas as pd\n",
    "from selenium import webdriver\n",
    "import time\n",
    "from matplotlib import pyplot as plt"
   ]
  },
  {
   "cell_type": "code",
   "execution_count": 2,
   "metadata": {},
   "outputs": [],
   "source": [
    "urla =  \"https://www.carvista.ca/vehicles/?fn=&pr=&mk=&md=&tr=&bs=&od=&yr=&v1=Passenger%20Vehicles&st=make,asc&view=grid\""
   ]
  },
  {
   "cell_type": "code",
   "execution_count": 3,
   "metadata": {},
   "outputs": [],
   "source": [
    "driver=webdriver.Firefox(executable_path=\"C:/Users/DELL/Downloads/geckodriver.exe\")\n",
    "#set the value of executable path\n",
    "driver.get(urla)"
   ]
  },
  {
   "cell_type": "code",
   "execution_count": 4,
   "metadata": {},
   "outputs": [],
   "source": [
    "page_source=driver.page_source"
   ]
  },
  {
   "cell_type": "code",
   "execution_count": 5,
   "metadata": {},
   "outputs": [],
   "source": [
    "#parsing the page\n",
    "soup=BeautifulSoup(page_source,'html.parser')"
   ]
  },
  {
   "cell_type": "code",
   "execution_count": 6,
   "metadata": {},
   "outputs": [],
   "source": [
    "#All the data present in a page is present in class row grid-row\n",
    "data=soup.findAll('div',{\"class\":\"row grid-row\"})\n",
    "#printing the extracted data of a single page\n",
    "for info in data:\n",
    "    print(info.text)"
   ]
  },
  {
   "cell_type": "code",
   "execution_count": 7,
   "metadata": {},
   "outputs": [
    {
     "name": "stdout",
     "output_type": "stream",
     "text": [
      "[]\n"
     ]
    },
    {
     "data": {
      "text/plain": [
       "0"
      ]
     },
     "execution_count": 7,
     "metadata": {},
     "output_type": "execute_result"
    }
   ],
   "source": [
    "#Finding the titles of cars using find_all\n",
    "#All the titles are present in div class : vehicle-card__details\n",
    "car_titles = []\n",
    "a=soup.findAll('div',{\"class\":\"vehicle-card__details\"})\n",
    "for i in a :\n",
    "    titles=i.find('h4',{\"class\":\"vehicle-card__title\"}).text.strip()#all the titles are inside h4 class\n",
    "    print(titles)#printing titles\n",
    "    car_titles.append(titles)#appending values\n",
    "print(car_titles)#printing titles\n",
    "len(car_titles)#printing length of list"
   ]
  },
  {
   "cell_type": "code",
   "execution_count": 8,
   "metadata": {},
   "outputs": [
    {
     "name": "stdout",
     "output_type": "stream",
     "text": [
      "[]\n",
      "[]\n",
      "[]\n",
      "[]\n",
      "[]\n"
     ]
    }
   ],
   "source": [
    "Vinlist = []\n",
    "Kmlist = []\n",
    "engine = []\n",
    "drive_train = []\n",
    "stock = []\n",
    "# taking empty lists\n",
    "\n",
    "#All the specifications are inside ul class: detailed-specs \n",
    "spec= soup.find_all(\"ul\",{\"class\": \"detailed-specs\"})\n",
    "\n",
    "for i in spec:\n",
    "    newsoup = BeautifulSoup(str(i),'html.parser')#using parser for scrapping inside details\n",
    "    lis = newsoup.find_all('li')#finding all li inside ul\n",
    "    for li in lis:\n",
    "        \n",
    "        if 'VIN' in li.text: # if present \n",
    "            Vinlist.append(li.text.replace(\"VIN:\",\"\")) # then append\n",
    "        if 'Kilometres' in li.text:# if present\n",
    "            Kmlist.append(li.text.replace(\"Kilometres:\",\"\"))# then append\n",
    "        if 'Drive Train' in li.text:# if present\n",
    "            drive_train.append(li.text.replace(\"Drive Train:\",\"\"))# then append\n",
    "        if 'Engine' in li.text:# if present\n",
    "            engine.append(li.text.replace(\"Engine:\",\"\"))# then append# then append\n",
    "        if 'Stock' in li.text:# if present\n",
    "            stock.append(li.text.replace(\"Stock #:\",\"\"))#then append\n",
    "            \n",
    "#priniting individual lists\n",
    "print(Vinlist)\n",
    "print(Kmlist)\n",
    "print(drive_train)\n",
    "print(engine)\n",
    "print(stock)"
   ]
  },
  {
   "cell_type": "code",
   "execution_count": 9,
   "metadata": {},
   "outputs": [
    {
     "name": "stdout",
     "output_type": "stream",
     "text": [
      "[]\n"
     ]
    },
    {
     "data": {
      "text/plain": [
       "0"
      ]
     },
     "execution_count": 9,
     "metadata": {},
     "output_type": "execute_result"
    }
   ],
   "source": [
    "#Finding the initial prices of cars using find_all\n",
    "#All the  initial prices are present in div class : vehicle-card__prices\n",
    "i_price = []\n",
    "c = soup.findAll('div',{\"class\":\"vehicle-card__prices\"})\n",
    "for i in c :\n",
    "    sp=i.findAll('div',{\"class\":\"price-block__price price-block__price--md price-block__price--grey\"})#digging further\n",
    "    for j in sp:\n",
    "        s=j.find('span',{\"class\":\"df aifs\"}).text.split(\"df aifs\")[0]#actual values are inside span class :df aifs\n",
    "        print(s)#printing initial prices\n",
    "        i_price.append(s)#appending in a list\n",
    "print(i_price)#printing list\n",
    "len(i_price)#length oflist"
   ]
  },
  {
   "cell_type": "code",
   "execution_count": 10,
   "metadata": {},
   "outputs": [
    {
     "name": "stdout",
     "output_type": "stream",
     "text": [
      "[]\n"
     ]
    },
    {
     "data": {
      "text/plain": [
       "0"
      ]
     },
     "execution_count": 10,
     "metadata": {},
     "output_type": "execute_result"
    }
   ],
   "source": [
    "#Finding the initial discount on cars using find_all\n",
    "#All the  initial discount  are present in div class :vehicle-card__price-wrap\n",
    "i_discount = []\n",
    "c = soup.findAll('div',{\"class\":\"vehicle-card__price-wrap\"})\n",
    "for i in c :\n",
    "    sp=i.findAll('div',{\"class\":\"price-block__price price-block__price--sm price-block__price--primary\"})#digging further\n",
    "    for j in sp:\n",
    "        s=j.find('span',{\"class\":\"df aifs\"}).text.split(\"df aifs\")[0]#actual values are inside span class :df aifs\n",
    "        print(s)#printing initial prices\n",
    "        i_discount.append(s)#appending in a list\n",
    "print(i_discount)#printing list\n",
    "len(i_discount)#length oflist"
   ]
  },
  {
   "cell_type": "code",
   "execution_count": 11,
   "metadata": {},
   "outputs": [
    {
     "name": "stdout",
     "output_type": "stream",
     "text": [
      "[]\n"
     ]
    },
    {
     "data": {
      "text/plain": [
       "0"
      ]
     },
     "execution_count": 11,
     "metadata": {},
     "output_type": "execute_result"
    }
   ],
   "source": [
    "#Finding the sales price on cars using find_all\n",
    "#All the  sales price  are present in div class : price-block__single price-block--expanded\n",
    "car_price = []\n",
    "c = soup.findAll('div',{\"class\":\"price-block__single price-block--expanded\"})\n",
    "for i in c :\n",
    "    sp=i.findAll('div',{\"class\":\"price-block__price price-block__price--lg price-block__price--primary\"})#digging further\n",
    "    for j in sp:\n",
    "        s=j.find('span',{\"class\":\"df aifs\"}).text.split(\"df aifs\")[0]#actual values are inside span class :df aifs\n",
    "        print(s)#printing initial prices\n",
    "        car_price.append(s)#appending in a list\n",
    "print(car_price)#printing list\n",
    "len(car_price)#length of list"
   ]
  },
  {
   "cell_type": "code",
   "execution_count": 12,
   "metadata": {},
   "outputs": [
    {
     "name": "stdout",
     "output_type": "stream",
     "text": [
      "[]\n"
     ]
    },
    {
     "data": {
      "text/plain": [
       "0"
      ]
     },
     "execution_count": 12,
     "metadata": {},
     "output_type": "execute_result"
    }
   ],
   "source": [
    "#Finding the discounted price on cars using find_all\n",
    "#All the  discounted price  are present in div class : vehicle-card__price-wrap vehicle-card__price-wrap--finance\n",
    "price = []\n",
    "c = soup.findAll('div',{\"class\":\"vehicle-card__price-wrap vehicle-card__price-wrap--finance\"})\n",
    "for i in c :\n",
    "    sp=i.findAll('div',{\"class\":\"price-block__single price-block--expanded price-block__single--finance\"})#digging further\n",
    "    for j in sp:\n",
    "        s=j.find('span',{\"class\":\"df aifs\"}).text.split(\"df aifs\")[0]#actual values are inside span class :df aifs\n",
    "        print(s)#printing initial prices\n",
    "        price.append(s)#appending in a list\n",
    "print(price)#printing list\n",
    "len(price)#length oflist"
   ]
  },
  {
   "cell_type": "code",
   "execution_count": 13,
   "metadata": {},
   "outputs": [
    {
     "name": "stdout",
     "output_type": "stream",
     "text": [
      "[]\n"
     ]
    },
    {
     "data": {
      "text/plain": [
       "0"
      ]
     },
     "execution_count": 13,
     "metadata": {},
     "output_type": "execute_result"
    }
   ],
   "source": [
    "#Finding the duration using find_all\n",
    "#All the duration are present in div class : vehicle-card__price-wrap\n",
    "duration = []\n",
    "c = soup.findAll('div',{\"class\":\"vehicle-card__price-wrap\"})\n",
    "for i in c :\n",
    "    sp=i.findAll('div',{\"class\":\"price-block__single price-block--expanded price-block__single--finance\"})#digging further\n",
    "    for j in sp:\n",
    "        s=j.find('span',{\"class\":\"price-block__sub\"}).text.replace(\"\\t\",\"\")#actual values are inside span class :df aifs\n",
    "        print(s)#printing prices\n",
    "        duration.append(s.strip())#appending in a list\n",
    "print(duration)#printing list\n",
    "len(duration)#length oflist"
   ]
  },
  {
   "cell_type": "code",
   "execution_count": 14,
   "metadata": {},
   "outputs": [
    {
     "name": "stdout",
     "output_type": "stream",
     "text": [
      "[]\n"
     ]
    },
    {
     "data": {
      "text/plain": [
       "0"
      ]
     },
     "execution_count": 14,
     "metadata": {},
     "output_type": "execute_result"
    }
   ],
   "source": [
    "#Finding the savings  using find_all\n",
    "#All the savings  are present in div class : vehicle-card__savings \n",
    "savings = []\n",
    "c = soup.findAll('div',{\"class\":\"vehicle-card__savings\"})\n",
    "for i in c :\n",
    "    x=i.find('span')\n",
    "    print(x.text)#printing prices\n",
    "    savings.append(x.text)#appending in a list\n",
    "print(savings)#printing list\n",
    "len(savings)#length oflist\n"
   ]
  },
  {
   "cell_type": "code",
   "execution_count": 15,
   "metadata": {},
   "outputs": [],
   "source": [
    "#creating dict of scrapped data\n",
    "dict = {\n",
    "    'Title' : car_titles ,\n",
    "    'Mileage' : Kmlist , \n",
    "    'Drive Train ': drive_train ,\n",
    "    'VIN' : Vinlist ,\n",
    "    'Stock' : stock ,\n",
    "    'Engine' : engine ,\n",
    "    'MSRP' : i_price,\n",
    "    'Initial Discount' : i_discount,\n",
    "    'Price' : car_price,\n",
    "    'Finance Payment /week': price,\n",
    "    'Finance Payment Duration':duration,\n",
    "    'Savings' : savings\n",
    "}"
   ]
  },
  {
   "cell_type": "code",
   "execution_count": 16,
   "metadata": {},
   "outputs": [
    {
     "data": {
      "text/html": [
       "<div>\n",
       "<style scoped>\n",
       "    .dataframe tbody tr th:only-of-type {\n",
       "        vertical-align: middle;\n",
       "    }\n",
       "\n",
       "    .dataframe tbody tr th {\n",
       "        vertical-align: top;\n",
       "    }\n",
       "\n",
       "    .dataframe thead th {\n",
       "        text-align: right;\n",
       "    }\n",
       "</style>\n",
       "<table border=\"1\" class=\"dataframe\">\n",
       "  <thead>\n",
       "    <tr style=\"text-align: right;\">\n",
       "      <th></th>\n",
       "      <th>Title</th>\n",
       "      <th>Mileage</th>\n",
       "      <th>Drive Train</th>\n",
       "      <th>VIN</th>\n",
       "      <th>Stock</th>\n",
       "      <th>Engine</th>\n",
       "      <th>MSRP</th>\n",
       "      <th>Initial Discount</th>\n",
       "      <th>Price</th>\n",
       "      <th>Finance Payment/bw</th>\n",
       "      <th>Finance Payment Duration</th>\n",
       "      <th>Savings</th>\n",
       "    </tr>\n",
       "  </thead>\n",
       "  <tbody>\n",
       "  </tbody>\n",
       "</table>\n",
       "</div>"
      ],
      "text/plain": [
       "Empty DataFrame\n",
       "Columns: [Title, Mileage, Drive Train , VIN, Stock, Engine, MSRP, Initial Discount, Price, Finance Payment/bw, Finance Payment Duration, Savings]\n",
       "Index: []"
      ]
     },
     "execution_count": 16,
     "metadata": {},
     "output_type": "execute_result"
    }
   ],
   "source": [
    "#creating dataframe from dict\n",
    "df = pd.DataFrame.from_dict(dict,orient = 'index').T\n",
    "df"
   ]
  },
  {
   "cell_type": "code",
   "execution_count": 17,
   "metadata": {},
   "outputs": [],
   "source": [
    "df['Dealer'] = 'carvista'\n",
    "df['Condition'] = ''"
   ]
  },
  {
   "cell_type": "code",
   "execution_count": null,
   "metadata": {},
   "outputs": [],
   "source": [
    "split_title = df[\"Title\"].str.split(\" \", n = 2, expand = True) \n",
    "# splitting Tile column \n",
    "df[\"Make Year\"]= split_title[0] \n",
    "df[\"Make\"]= split_title[1] \n",
    "df[\"Model\"]= split_title[2] \n",
    "df"
   ]
  },
  {
   "cell_type": "code",
   "execution_count": null,
   "metadata": {},
   "outputs": [],
   "source": [
    "df.drop(columns =[\"Title\"], inplace = True)\n",
    "df"
   ]
  },
  {
   "cell_type": "code",
   "execution_count": null,
   "metadata": {},
   "outputs": [],
   "source": [
    "#Dataframe to csv\n",
    "df.to_csv('carvista.csv')"
   ]
  },
  {
   "cell_type": "code",
   "execution_count": null,
   "metadata": {},
   "outputs": [],
   "source": []
  }
 ],
 "metadata": {
  "kernelspec": {
   "display_name": "Python 3",
   "language": "python",
   "name": "python3"
  },
  "language_info": {
   "codemirror_mode": {
    "name": "ipython",
    "version": 3
   },
   "file_extension": ".py",
   "mimetype": "text/x-python",
   "name": "python",
   "nbconvert_exporter": "python",
   "pygments_lexer": "ipython3",
   "version": "3.7.3"
  }
 },
 "nbformat": 4,
 "nbformat_minor": 2
}
