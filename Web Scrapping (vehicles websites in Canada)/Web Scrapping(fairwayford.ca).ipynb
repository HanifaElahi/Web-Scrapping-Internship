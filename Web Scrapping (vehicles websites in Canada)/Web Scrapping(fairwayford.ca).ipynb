{
 "cells": [
  {
   "cell_type": "code",
   "execution_count": 1,
   "metadata": {},
   "outputs": [],
   "source": [
    "from bs4 import BeautifulSoup\n",
    "import requests\n",
    "import pandas as pd\n",
    "from selenium import webdriver\n",
    "import time\n",
    "from matplotlib import pyplot as plt"
   ]
  },
  {
   "cell_type": "code",
   "execution_count": 2,
   "metadata": {},
   "outputs": [],
   "source": [
    "urla = \"https://www.fairwayford.ca/inventory/search?stock_type=New&page=1&page_length=20&make=Ford&model=Super%20Duty%20F-250%20SRW|Super%20Duty%20F-350%20SRW\""
   ]
  },
  {
   "cell_type": "code",
   "execution_count": 3,
   "metadata": {},
   "outputs": [],
   "source": [
    "driver=webdriver.Firefox(executable_path=\"C:/Users/DELL/Downloads/geckodriver.exe\")\n",
    "#set the value of executable path\n",
    "driver.get(urla)"
   ]
  },
  {
   "cell_type": "code",
   "execution_count": 4,
   "metadata": {},
   "outputs": [],
   "source": [
    "page_source=driver.page_source"
   ]
  },
  {
   "cell_type": "code",
   "execution_count": 5,
   "metadata": {},
   "outputs": [],
   "source": [
    "#parsing the page\n",
    "soup=BeautifulSoup(page_source,'html.parser')"
   ]
  },
  {
   "cell_type": "code",
   "execution_count": 6,
   "metadata": {},
   "outputs": [
    {
     "name": "stdout",
     "output_type": "stream",
     "text": [
      "\n",
      "\n",
      "\n",
      "\n",
      "\n",
      "View 35 Photos \n",
      "\n",
      "\n",
      "in stock\n",
      "2020 Ford Super Duty F-250 SRW\n",
      "4x4 - Crew Cab XLT - 160\"wb\n",
      "Details\n",
      "\n",
      "Odometer\n",
      "10 KMS\n",
      "Color\n",
      "Oxford White\n",
      "Engine\n",
      "6.2L V-8\n",
      "Transmission\n",
      "Automatic\n",
      "Drivetrain\n",
      "4WD\n",
      "Stock #\n",
      "N20281\n",
      "VIN\n",
      "1FT7W2B65LEE64483\n",
      "\n",
      "\n",
      "\n",
      "\n",
      "$63,887\n",
      "\n",
      "\n",
      "View Vehicle\n",
      "\n",
      "\n",
      "\n",
      "\n",
      "\n",
      "{\n",
      "\t\t\"@context\": \"http://schema.org/\",\n",
      "\t\t\"@type\": \"Vehicle\",\n",
      "\t\t\"name\": \"2020 Ford Super Duty F-250 SRW\",\n",
      "\t\t\"brand\": \"Ford\",\n",
      "\t\t\"description\": \"Fx4 Off-Road Package, XLT Value Package, 5th Wheel/Gooseneck Hitch Prep Package, Remote Engine Start, LED Box Lighting! If you have the need to haul or tow heavy loads, this Ford F-250 should be at the top of your consideration list. High-strength, military grade aluminum construction in the body of this 2020 F-250 cuts out weight without sacrificing toughness. That weight reduction was reinvested in a fully boxed frame and stronger axles and chassis components. That brilliant engineering doesn&#x27;t stop in the frame and body - the drivetrain at the heart of this Super Duty delivers the power and torque you need to get the job done. This truck is strong, comfortable, and ready for anything. This oxford white crew cab 4X4 pickup has an automatic transmission and is powered by a 385HP 6.2L 8 Cylinder Engine. Our F-250 Super Duty&#x27;s trim level is XLT. The XLT trim adds some excellent features to this Super Duty. It comes with Boxlink cargo management, SYNC with Bluetooth connectivity, blind spot monitoring system, a rear view camera, power windows, power doors with remote keyless entry, air conditioning, cruise control, a trailer hitch receiver, telescoping trailer tow mirrors, and more. This vehicle has been upgraded with the following features: Fx4 Off-road Package, Xlt Value Package, 5th Wheel/gooseneck Hitch Prep Package, Remote Engine Start, Led Box Lighting. To view and download a brochure open this url https://www.ford.com/services/assets/Brochure?make=Ford&amp;amp;model=SuperDuty&amp;amp;year=2020. View the original window sticker for this vehicle with this url http://www.windowsticker.forddirect.com/windowsticker.pdf?vin=1FT7W2B65LEE64483. To apply right now for financing use this link : https://www.fairwayford.ca/new/to-apply-for-credit.html Eligible Customers get an additional $2,500 TRADE-IN BONUS on top of vehicle trade-in Value. See dealer for details. Buy this vehicle now for the lowest bi-weekly payment of $369.75 with $0 down for 84 months @ 1.49% APR O.A.C. ( Plus applicable taxes - and $499 Admin Fee ). Incentives expire 2020-11-02. See dealer for details. Thank you for your interest in this vehicle. All of our posted prices are carefully researched against market value and are only subject to taxes. No other fees are charged against this price. Please feel free to contact our sales department for any additional information about this vehicle or any others in our inventory or to arrange a test drive. Dealer Permit # 0836. Come by and check out our fleet of 30+ used cars and trucks and 50+ new cars and trucks for sale in Steinbach. o~o\",\n",
      "\t\t\"image\": \"https:https://photos.strathcom.com/image/show/1200x_/5f85b50a2cc8e6728c904fae.jpg\",\n",
      "\t\t\"offers\":{\n",
      "\t\t\t\"@type\": \"Offer\",\n",
      "\t\t\t\"priceCurrency\": \"CAD\",\n",
      "\t\t\t\"price\": \"63886.75\"\n",
      "\t\t},\n",
      "\t\t\"sku\": \"N20281\",\n",
      "\t\t\"itemCondition\": \"new\",\n",
      "\t\t\"color\": \"White\",\n",
      "\t\t\"model\": \"Super Duty F-250 SRW\",\n",
      "\t\t\"vehicleConfiguration\": \"4x4 - Crew Cab XLT - 160&quot;wb 4x4 - Crew Cab XLT - 160&quot;wb\",\n",
      "\t\t\"driveWheelConfiguration\": \"4WD\",\n",
      "\t\t\"vehicleTransmission\": \"Automatic\",\n",
      "\t\t\"disambiguatingDescription\": \"\",\n",
      "\t\t\"vehicleInteriorColor\": \"Black\",\n",
      "\t\t\"fuelType\": \"Diesel Fuel\",\n",
      "\t\t\"mileageFromOdometer\": \"10\",\n",
      "\t\t\"numberOfDoors\": \"\",\n",
      "\t\t\"vehicleEngine\": \"V-8\",\n",
      "\t\t\"vehicleIdentificationNumber\": \"1FT7W2B65LEE64483\",\n",
      "\t\t\"vehicleSeatingCapacity\": \"\"\n",
      "}\n",
      "\n",
      "\n",
      "\n",
      "\n",
      "\n",
      "View 41 Photos \n",
      "\n",
      "\n",
      "in stock\n",
      "2020 Ford Super Duty F-350 SRW\n",
      "4x4 - Crew Cab SRW XLT - 160\" WB\n",
      "Details\n",
      "\n",
      "Odometer\n",
      "10 KMS\n",
      "Color\n",
      "Oxford White\n",
      "Engine\n",
      "6.2L V-8\n",
      "Transmission\n",
      "10 Spd Automatic\n",
      "Drivetrain\n",
      "4WD\n",
      "Stock #\n",
      "N20223\n",
      "VIN\n",
      "1FT8W3BN9LEE13439\n",
      "\n",
      "\n",
      "\n",
      "\n",
      "$69,547\n",
      "\n",
      "\n",
      "View Vehicle\n",
      "\n",
      "\n",
      "\n",
      "\n",
      "\n",
      "{\n",
      "\t\t\"@context\": \"http://schema.org/\",\n",
      "\t\t\"@type\": \"Vehicle\",\n",
      "\t\t\"name\": \"2020 Ford Super Duty F-350 SRW\",\n",
      "\t\t\"brand\": \"Ford\",\n",
      "\t\t\"description\": \"&lt;p&gt;When you&#x27;re facing tough jobs, our Oxford White 2020 Ford F-350 XLT Crew Cab 4X4 delivers all the incredible utility and popular equipment you need! Motivated by a strong 6.2 Litre V8 that delivers 385hp tethered to a heavy-duty 10 Speed Automatic transmission with tow/haul mode for whatever you need to pull. Our Four Wheel Drive truck gives you a commanding view of the road while commanding attention with quad-beam halogen headlights, a bright chrome two-bar grille, heated mirrors, running boards, and a power-locking tailgate. &lt;/p&gt; &lt;p&gt;The cabin of our XLT is engineered for on-the-job comfort, complete with controls designed so they&#x27;re easy to use even with your work gloves on. Then take advantage of two spacious rows of cloth seats plus air conditioning, power accessories, cruise control, a backup camera, convenient storage, and multiple powerpoints and outlets for your own tools and gear. For advanced connectivity, our XLT boasts SYNC 3 technology with an 8-inch touchscreen, Android Auto, Apple CarPlay, Bluetooth, available WiFi, and a five-speaker audio system. &lt;/p&gt; &lt;p&gt;Ford also helps you work safer with an impressive range of driver-assistance technologies that include automatic emergency braking, a blind-spot monitor, a lane-keeping alert, and reverse parking sensors. Our Super Duty truck is the perfect addition to your toolbox! Print this page and call us Now... We Know You Will Enjoy Your Test Drive Towards Ownership! &lt;/p&gt; &lt;p&gt;To apply right now for financing use this link : https://www.fairwayford.ca/new/to-apply-for-credit.html Eligible Customers get an additional $2,500 TRADE-IN BONUS on top of vehicle trade-in Value. See dealer for details. Buy this vehicle now for the lowest bi-weekly payment of $402.51 with $0 down for 84 months @ 1.49% APR O.A.C. ( Plus applicable taxes - and $499 Admin Fee ). Incentives expire 2020-11-02. See dealer for details. Thank you for your interest in this vehicle. All of our posted prices are carefully researched against market value and are only subject to taxes. No other fees are charged against this price. Please feel free to contact our sales department for any additional information about this vehicle or any others in our inventory or to arrange a test drive. Dealer Permit # 0836. Come by and check out our fleet of 30+ used cars and trucks and 50+ new cars and trucks for sale in Steinbach. o~o&lt;/p&gt;\",\n",
      "\t\t\"image\": \"https:https://photos.strathcom.com/image/show/1200x_/5f48163f41577c5ea3650e1e.jpg\",\n",
      "\t\t\"offers\":{\n",
      "\t\t\t\"@type\": \"Offer\",\n",
      "\t\t\t\"priceCurrency\": \"CAD\",\n",
      "\t\t\t\"price\": \"69546.75\"\n",
      "\t\t},\n",
      "\t\t\"sku\": \"N20223\",\n",
      "\t\t\"itemCondition\": \"new\",\n",
      "\t\t\"color\": \"White\",\n",
      "\t\t\"model\": \"Super Duty F-350 SRW\",\n",
      "\t\t\"vehicleConfiguration\": \"4x4 - Crew Cab SRW XLT - 160&quot; WB 4x4 - Crew Cab SRW XLT - 160&quot; WB\",\n",
      "\t\t\"driveWheelConfiguration\": \"4WD\",\n",
      "\t\t\"vehicleTransmission\": \"10 Spd Automatic\",\n",
      "\t\t\"disambiguatingDescription\": \"\",\n",
      "\t\t\"vehicleInteriorColor\": \"Black\",\n",
      "\t\t\"fuelType\": \"Diesel Fuel\",\n",
      "\t\t\"mileageFromOdometer\": \"10\",\n",
      "\t\t\"numberOfDoors\": \"\",\n",
      "\t\t\"vehicleEngine\": \"V-8\",\n",
      "\t\t\"vehicleIdentificationNumber\": \"1FT8W3BN9LEE13439\",\n",
      "\t\t\"vehicleSeatingCapacity\": \"\"\n",
      "}\n",
      "\n"
     ]
    }
   ],
   "source": [
    "#All the data present in a page is present in class search-results template-vehicle list\n",
    "data=soup.findAll('ul',{\"class\":\"search-results template-vehicle list\"})\n",
    "#printing the extracted data of a single page\n",
    "for info in data:\n",
    "    print(info.text)"
   ]
  },
  {
   "cell_type": "code",
   "execution_count": 7,
   "metadata": {},
   "outputs": [
    {
     "name": "stdout",
     "output_type": "stream",
     "text": [
      "2020 Ford Super Duty F-250 SRW\n",
      "2020 Ford Super Duty F-350 SRW\n",
      "['2020 Ford Super Duty F-250 SRW', '2020 Ford Super Duty F-350 SRW']\n"
     ]
    },
    {
     "data": {
      "text/plain": [
       "2"
      ]
     },
     "execution_count": 7,
     "metadata": {},
     "output_type": "execute_result"
    }
   ],
   "source": [
    "#Finding the titles of cars using find_all\n",
    "#All the titles are present in h4 itemprop : name\n",
    "car_titles = []\n",
    "a=soup.findAll('h4',{\"itemprop\":\"name\"})\n",
    "for i in a :\n",
    "    print(i.text.strip())#printing titles\n",
    "    car_titles.append(i.text.strip())#appending values\n",
    "print(car_titles)#printing titles\n",
    "len(car_titles)#printing length of list"
   ]
  },
  {
   "cell_type": "code",
   "execution_count": 8,
   "metadata": {},
   "outputs": [
    {
     "name": "stdout",
     "output_type": "stream",
     "text": [
      "10 KMS\n",
      "10 KMS\n",
      "['10 KMS', '10 KMS']\n"
     ]
    }
   ],
   "source": [
    "mileage = [] # taking empty list\n",
    "\n",
    "#All the specifications are inside div class: new-description product-description\n",
    "spec= soup.find_all(\"div\",{\"class\": \"new-description product-description\"})\n",
    "\n",
    "for i in spec:\n",
    "    a = i.find('dd',{\"class\":\"srp-odometer\"}) #digging further\n",
    "    for x in a:\n",
    "        print(x) #printing values\n",
    "        mileage.append(x) #appending in an individual lit\n",
    "print(mileage) #printing list\n"
   ]
  },
  {
   "cell_type": "code",
   "execution_count": 9,
   "metadata": {},
   "outputs": [
    {
     "name": "stdout",
     "output_type": "stream",
     "text": [
      "Oxford White\n",
      "Oxford White\n",
      "['Oxford White', 'Oxford White']\n"
     ]
    }
   ],
   "source": [
    "exterior = [] # taking empty list\n",
    "\n",
    "#All the specifications are inside div class: new-description product-description\n",
    "spec= soup.find_all(\"div\",{\"class\": \"new-description product-description\"})\n",
    "\n",
    "for i in spec:\n",
    "    a = i.find('dd',{\"class\":\"srp-color-exterior\"}) #digging further\n",
    "    for x in a:\n",
    "        print(x) #printing values\n",
    "        exterior.append(x) #appending in an individual lit\n",
    "print(exterior) #printing list"
   ]
  },
  {
   "cell_type": "code",
   "execution_count": 10,
   "metadata": {},
   "outputs": [
    {
     "name": "stdout",
     "output_type": "stream",
     "text": [
      "6.2L V-8\n",
      "6.2L V-8\n",
      "['6.2L V-8', '6.2L V-8']\n"
     ]
    }
   ],
   "source": [
    "engine = [] # taking empty list\n",
    "\n",
    "#All the specifications are inside div class: new-description product-description\n",
    "spec= soup.find_all(\"div\",{\"class\": \"new-description product-description\"})\n",
    "\n",
    "for i in spec:\n",
    "    a = i.find('dd',{\"class\":\"srp-engine-combined\"}) #digging further\n",
    "    for x in a:\n",
    "        print(x) #printing values\n",
    "        engine.append(x) #appending in an individual lit\n",
    "print(engine) #printing list"
   ]
  },
  {
   "cell_type": "code",
   "execution_count": 11,
   "metadata": {},
   "outputs": [
    {
     "name": "stdout",
     "output_type": "stream",
     "text": [
      "Automatic\n",
      "10 Spd Automatic\n",
      "['Automatic', '10 Spd Automatic']\n"
     ]
    }
   ],
   "source": [
    "transmission = [] # taking empty list\n",
    "\n",
    "#All the specifications are inside div class: new-description product-description\n",
    "spec= soup.find_all(\"div\",{\"class\": \"new-description product-description\"})\n",
    "\n",
    "for i in spec:\n",
    "    a = i.find('dd',{\"class\":\"srp-transmission\"}) #digging further\n",
    "    for x in a:\n",
    "        print(x) #printing values\n",
    "        transmission.append(x) #appending in an individual lit\n",
    "print(transmission) #printing list"
   ]
  },
  {
   "cell_type": "code",
   "execution_count": 12,
   "metadata": {},
   "outputs": [
    {
     "name": "stdout",
     "output_type": "stream",
     "text": [
      "4WD\n",
      "4WD\n",
      "['4WD', '4WD']\n"
     ]
    }
   ],
   "source": [
    "drive_type = [] # taking empty list\n",
    "\n",
    "#All the specifications are inside div class: new-description product-description\n",
    "spec= soup.find_all(\"div\",{\"class\": \"new-description product-description\"})\n",
    "\n",
    "for i in spec:\n",
    "    a = i.find('dd',{\"class\":\"srp-driveType\"}) #digging further\n",
    "    for x in a:\n",
    "        print(x) #printing values\n",
    "        drive_type.append(x) #appending in an individual lit\n",
    "print(drive_type) #printing list"
   ]
  },
  {
   "cell_type": "code",
   "execution_count": 13,
   "metadata": {},
   "outputs": [
    {
     "name": "stdout",
     "output_type": "stream",
     "text": [
      "N20281\n",
      "N20223\n",
      "['N20281', 'N20223']\n"
     ]
    }
   ],
   "source": [
    "stock = [] # taking empty list\n",
    "\n",
    "#All the specifications are inside div class: new-description product-description\n",
    "spec= soup.find_all(\"div\",{\"class\": \"new-description product-description\"})\n",
    "\n",
    "for i in spec:\n",
    "    a = i.find('dd',{\"class\":\"srp-stock-number\"}) #digging further\n",
    "    for x in a:\n",
    "        print(x) #printing values\n",
    "        stock.append(x) #appending in an individual lit\n",
    "print(stock) #printing list"
   ]
  },
  {
   "cell_type": "code",
   "execution_count": 14,
   "metadata": {},
   "outputs": [
    {
     "name": "stdout",
     "output_type": "stream",
     "text": [
      "1FT7W2B65LEE64483\n",
      "1FT8W3BN9LEE13439\n",
      "['1FT7W2B65LEE64483', '1FT8W3BN9LEE13439']\n"
     ]
    }
   ],
   "source": [
    "vin = [] # taking empty list\n",
    "\n",
    "#All the specifications are inside div class: new-description product-description\n",
    "spec= soup.find_all(\"div\",{\"class\": \"new-description product-description\"})\n",
    "\n",
    "for i in spec:\n",
    "    a = i.find('dd',{\"class\":\"srp-vin\"}) #digging further\n",
    "    for x in a:\n",
    "        print(x) #printing values\n",
    "        vin.append(x) #appending in an individual lit\n",
    "print(vin) #printing list"
   ]
  },
  {
   "cell_type": "code",
   "execution_count": 15,
   "metadata": {},
   "outputs": [
    {
     "name": "stdout",
     "output_type": "stream",
     "text": [
      "\n",
      "$63,887\n",
      "\n",
      "$69,547\n",
      "['$63,887', '$69,547']\n"
     ]
    },
    {
     "data": {
      "text/plain": [
       "2"
      ]
     },
     "execution_count": 15,
     "metadata": {},
     "output_type": "execute_result"
    }
   ],
   "source": [
    "#Finding the car price on cars using find_all\n",
    "#All the  car price  are present in div class : price-block__single price-block--expanded\n",
    "car_price = []\n",
    "c = soup.findAll('strong',{\"class\":\"price _bpcolor\"})\n",
    "for i in c :\n",
    "    print(i.text)\n",
    "    car_price.append(i.text.strip())#appending in a list\n",
    "print(car_price)#printing list\n",
    "len(car_price)#length of list"
   ]
  },
  {
   "cell_type": "code",
   "execution_count": 16,
   "metadata": {},
   "outputs": [],
   "source": [
    "#creating dict of scrapped data\n",
    "dict = {\n",
    "    'Title' : car_titles ,\n",
    "    'Mileage' : mileage, \n",
    "    'Engine': engine ,\n",
    "    'Exterior' : exterior ,\n",
    "    'Stock' : stock ,\n",
    "    'Transmission': transmission,\n",
    "    'VIN' : vin,\n",
    "    'Drive Train': drive_type,\n",
    "    'Price':car_price\n",
    "}"
   ]
  },
  {
   "cell_type": "code",
   "execution_count": 17,
   "metadata": {},
   "outputs": [
    {
     "data": {
      "text/html": [
       "<div>\n",
       "<style scoped>\n",
       "    .dataframe tbody tr th:only-of-type {\n",
       "        vertical-align: middle;\n",
       "    }\n",
       "\n",
       "    .dataframe tbody tr th {\n",
       "        vertical-align: top;\n",
       "    }\n",
       "\n",
       "    .dataframe thead th {\n",
       "        text-align: right;\n",
       "    }\n",
       "</style>\n",
       "<table border=\"1\" class=\"dataframe\">\n",
       "  <thead>\n",
       "    <tr style=\"text-align: right;\">\n",
       "      <th></th>\n",
       "      <th>Title</th>\n",
       "      <th>Mileage</th>\n",
       "      <th>Engine</th>\n",
       "      <th>Exterior</th>\n",
       "      <th>Stock</th>\n",
       "      <th>Transmission</th>\n",
       "      <th>VIN</th>\n",
       "      <th>Drive Train</th>\n",
       "      <th>Price</th>\n",
       "    </tr>\n",
       "  </thead>\n",
       "  <tbody>\n",
       "    <tr>\n",
       "      <th>0</th>\n",
       "      <td>2020 Ford Super Duty F-250 SRW</td>\n",
       "      <td>10 KMS</td>\n",
       "      <td>6.2L V-8</td>\n",
       "      <td>Oxford White</td>\n",
       "      <td>N20281</td>\n",
       "      <td>Automatic</td>\n",
       "      <td>1FT7W2B65LEE64483</td>\n",
       "      <td>4WD</td>\n",
       "      <td>$63,887</td>\n",
       "    </tr>\n",
       "    <tr>\n",
       "      <th>1</th>\n",
       "      <td>2020 Ford Super Duty F-350 SRW</td>\n",
       "      <td>10 KMS</td>\n",
       "      <td>6.2L V-8</td>\n",
       "      <td>Oxford White</td>\n",
       "      <td>N20223</td>\n",
       "      <td>10 Spd Automatic</td>\n",
       "      <td>1FT8W3BN9LEE13439</td>\n",
       "      <td>4WD</td>\n",
       "      <td>$69,547</td>\n",
       "    </tr>\n",
       "  </tbody>\n",
       "</table>\n",
       "</div>"
      ],
      "text/plain": [
       "                            Title Mileage    Engine      Exterior   Stock  \\\n",
       "0  2020 Ford Super Duty F-250 SRW  10 KMS  6.2L V-8  Oxford White  N20281   \n",
       "1  2020 Ford Super Duty F-350 SRW  10 KMS  6.2L V-8  Oxford White  N20223   \n",
       "\n",
       "       Transmission                VIN Drive Train    Price  \n",
       "0         Automatic  1FT7W2B65LEE64483         4WD  $63,887  \n",
       "1  10 Spd Automatic  1FT8W3BN9LEE13439         4WD  $69,547  "
      ]
     },
     "execution_count": 17,
     "metadata": {},
     "output_type": "execute_result"
    }
   ],
   "source": [
    "#creating dataframe from dict\n",
    "df = pd.DataFrame.from_dict(dict,orient = 'index').T\n",
    "df"
   ]
  },
  {
   "cell_type": "code",
   "execution_count": 19,
   "metadata": {},
   "outputs": [],
   "source": [
    "df['Condition'] = 'New'\n",
    "df['Dealer'] = 'fairwayford'"
   ]
  },
  {
   "cell_type": "code",
   "execution_count": 20,
   "metadata": {},
   "outputs": [],
   "source": [
    "split_title = df[\"Title\"].str.split(\" \", n = 2, expand = True) \n",
    "# splitting Tile column "
   ]
  },
  {
   "cell_type": "code",
   "execution_count": 21,
   "metadata": {},
   "outputs": [],
   "source": [
    "df[\"Make Year\"]= split_title[0]  "
   ]
  },
  {
   "cell_type": "code",
   "execution_count": 22,
   "metadata": {},
   "outputs": [],
   "source": [
    "df[\"Make\"]= split_title[1] "
   ]
  },
  {
   "cell_type": "code",
   "execution_count": 23,
   "metadata": {},
   "outputs": [],
   "source": [
    "df[\"Model\"]= split_title[2]"
   ]
  },
  {
   "cell_type": "code",
   "execution_count": 24,
   "metadata": {},
   "outputs": [
    {
     "data": {
      "text/html": [
       "<div>\n",
       "<style scoped>\n",
       "    .dataframe tbody tr th:only-of-type {\n",
       "        vertical-align: middle;\n",
       "    }\n",
       "\n",
       "    .dataframe tbody tr th {\n",
       "        vertical-align: top;\n",
       "    }\n",
       "\n",
       "    .dataframe thead th {\n",
       "        text-align: right;\n",
       "    }\n",
       "</style>\n",
       "<table border=\"1\" class=\"dataframe\">\n",
       "  <thead>\n",
       "    <tr style=\"text-align: right;\">\n",
       "      <th></th>\n",
       "      <th>Title</th>\n",
       "      <th>Mileage</th>\n",
       "      <th>Engine</th>\n",
       "      <th>Exterior</th>\n",
       "      <th>Stock</th>\n",
       "      <th>Transmission</th>\n",
       "      <th>VIN</th>\n",
       "      <th>Drive Train</th>\n",
       "      <th>Price</th>\n",
       "      <th>Condition</th>\n",
       "      <th>Dealer</th>\n",
       "      <th>Make Year</th>\n",
       "      <th>Make</th>\n",
       "      <th>Model</th>\n",
       "    </tr>\n",
       "  </thead>\n",
       "  <tbody>\n",
       "    <tr>\n",
       "      <th>0</th>\n",
       "      <td>2020 Ford Super Duty F-250 SRW</td>\n",
       "      <td>10 KMS</td>\n",
       "      <td>6.2L V-8</td>\n",
       "      <td>Oxford White</td>\n",
       "      <td>N20281</td>\n",
       "      <td>Automatic</td>\n",
       "      <td>1FT7W2B65LEE64483</td>\n",
       "      <td>4WD</td>\n",
       "      <td>$63,887</td>\n",
       "      <td>New</td>\n",
       "      <td>fairwayford</td>\n",
       "      <td>2020</td>\n",
       "      <td>Ford</td>\n",
       "      <td>Super Duty F-250 SRW</td>\n",
       "    </tr>\n",
       "    <tr>\n",
       "      <th>1</th>\n",
       "      <td>2020 Ford Super Duty F-350 SRW</td>\n",
       "      <td>10 KMS</td>\n",
       "      <td>6.2L V-8</td>\n",
       "      <td>Oxford White</td>\n",
       "      <td>N20223</td>\n",
       "      <td>10 Spd Automatic</td>\n",
       "      <td>1FT8W3BN9LEE13439</td>\n",
       "      <td>4WD</td>\n",
       "      <td>$69,547</td>\n",
       "      <td>New</td>\n",
       "      <td>fairwayford</td>\n",
       "      <td>2020</td>\n",
       "      <td>Ford</td>\n",
       "      <td>Super Duty F-350 SRW</td>\n",
       "    </tr>\n",
       "  </tbody>\n",
       "</table>\n",
       "</div>"
      ],
      "text/plain": [
       "                            Title Mileage    Engine      Exterior   Stock  \\\n",
       "0  2020 Ford Super Duty F-250 SRW  10 KMS  6.2L V-8  Oxford White  N20281   \n",
       "1  2020 Ford Super Duty F-350 SRW  10 KMS  6.2L V-8  Oxford White  N20223   \n",
       "\n",
       "       Transmission                VIN Drive Train    Price Condition  \\\n",
       "0         Automatic  1FT7W2B65LEE64483         4WD  $63,887       New   \n",
       "1  10 Spd Automatic  1FT8W3BN9LEE13439         4WD  $69,547       New   \n",
       "\n",
       "        Dealer Make Year  Make                 Model  \n",
       "0  fairwayford      2020  Ford  Super Duty F-250 SRW  \n",
       "1  fairwayford      2020  Ford  Super Duty F-350 SRW  "
      ]
     },
     "execution_count": 24,
     "metadata": {},
     "output_type": "execute_result"
    }
   ],
   "source": [
    "df"
   ]
  },
  {
   "cell_type": "code",
   "execution_count": 25,
   "metadata": {},
   "outputs": [
    {
     "data": {
      "text/html": [
       "<div>\n",
       "<style scoped>\n",
       "    .dataframe tbody tr th:only-of-type {\n",
       "        vertical-align: middle;\n",
       "    }\n",
       "\n",
       "    .dataframe tbody tr th {\n",
       "        vertical-align: top;\n",
       "    }\n",
       "\n",
       "    .dataframe thead th {\n",
       "        text-align: right;\n",
       "    }\n",
       "</style>\n",
       "<table border=\"1\" class=\"dataframe\">\n",
       "  <thead>\n",
       "    <tr style=\"text-align: right;\">\n",
       "      <th></th>\n",
       "      <th>Mileage</th>\n",
       "      <th>Engine</th>\n",
       "      <th>Exterior</th>\n",
       "      <th>Stock</th>\n",
       "      <th>Transmission</th>\n",
       "      <th>VIN</th>\n",
       "      <th>Drive Train</th>\n",
       "      <th>Price</th>\n",
       "      <th>Condition</th>\n",
       "      <th>Dealer</th>\n",
       "      <th>Make Year</th>\n",
       "      <th>Make</th>\n",
       "      <th>Model</th>\n",
       "    </tr>\n",
       "  </thead>\n",
       "  <tbody>\n",
       "    <tr>\n",
       "      <th>0</th>\n",
       "      <td>10 KMS</td>\n",
       "      <td>6.2L V-8</td>\n",
       "      <td>Oxford White</td>\n",
       "      <td>N20281</td>\n",
       "      <td>Automatic</td>\n",
       "      <td>1FT7W2B65LEE64483</td>\n",
       "      <td>4WD</td>\n",
       "      <td>$63,887</td>\n",
       "      <td>New</td>\n",
       "      <td>fairwayford</td>\n",
       "      <td>2020</td>\n",
       "      <td>Ford</td>\n",
       "      <td>Super Duty F-250 SRW</td>\n",
       "    </tr>\n",
       "    <tr>\n",
       "      <th>1</th>\n",
       "      <td>10 KMS</td>\n",
       "      <td>6.2L V-8</td>\n",
       "      <td>Oxford White</td>\n",
       "      <td>N20223</td>\n",
       "      <td>10 Spd Automatic</td>\n",
       "      <td>1FT8W3BN9LEE13439</td>\n",
       "      <td>4WD</td>\n",
       "      <td>$69,547</td>\n",
       "      <td>New</td>\n",
       "      <td>fairwayford</td>\n",
       "      <td>2020</td>\n",
       "      <td>Ford</td>\n",
       "      <td>Super Duty F-350 SRW</td>\n",
       "    </tr>\n",
       "  </tbody>\n",
       "</table>\n",
       "</div>"
      ],
      "text/plain": [
       "  Mileage    Engine      Exterior   Stock      Transmission  \\\n",
       "0  10 KMS  6.2L V-8  Oxford White  N20281         Automatic   \n",
       "1  10 KMS  6.2L V-8  Oxford White  N20223  10 Spd Automatic   \n",
       "\n",
       "                 VIN Drive Train    Price Condition       Dealer Make Year  \\\n",
       "0  1FT7W2B65LEE64483         4WD  $63,887       New  fairwayford      2020   \n",
       "1  1FT8W3BN9LEE13439         4WD  $69,547       New  fairwayford      2020   \n",
       "\n",
       "   Make                 Model  \n",
       "0  Ford  Super Duty F-250 SRW  \n",
       "1  Ford  Super Duty F-350 SRW  "
      ]
     },
     "execution_count": 25,
     "metadata": {},
     "output_type": "execute_result"
    }
   ],
   "source": [
    "df.drop(columns =[\"Title\"], inplace = True)\n",
    "df"
   ]
  },
  {
   "cell_type": "code",
   "execution_count": null,
   "metadata": {},
   "outputs": [],
   "source": [
    "#Dataframe to csv\n",
    "df.to_csv('fairywayford_Ca.csv')"
   ]
  },
  {
   "cell_type": "code",
   "execution_count": null,
   "metadata": {},
   "outputs": [],
   "source": []
  }
 ],
 "metadata": {
  "kernelspec": {
   "display_name": "Python 3",
   "language": "python",
   "name": "python3"
  },
  "language_info": {
   "codemirror_mode": {
    "name": "ipython",
    "version": 3
   },
   "file_extension": ".py",
   "mimetype": "text/x-python",
   "name": "python",
   "nbconvert_exporter": "python",
   "pygments_lexer": "ipython3",
   "version": "3.7.3"
  }
 },
 "nbformat": 4,
 "nbformat_minor": 2
}
