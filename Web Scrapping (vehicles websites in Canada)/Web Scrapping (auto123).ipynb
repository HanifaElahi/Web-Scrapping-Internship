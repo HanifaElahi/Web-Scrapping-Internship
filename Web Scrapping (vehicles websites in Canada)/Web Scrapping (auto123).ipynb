{
 "cells": [
  {
   "cell_type": "code",
   "execution_count": 1,
   "metadata": {},
   "outputs": [],
   "source": [
    "from bs4 import BeautifulSoup\n",
    "import requests\n",
    "import pandas as pd\n",
    "from selenium import webdriver\n",
    "import time\n",
    "from matplotlib import pyplot as plt"
   ]
  },
  {
   "cell_type": "code",
   "execution_count": 2,
   "metadata": {},
   "outputs": [],
   "source": [
    "urla = \"https://www.auto123.com/en/used-cars/all-inventories/manitoba/all-cities/all-years/all-makes/all-models/all-bodytypes/all-sellers/\""
   ]
  },
  {
   "cell_type": "code",
   "execution_count": 3,
   "metadata": {},
   "outputs": [],
   "source": [
    "driver=webdriver.Firefox(executable_path=\"C:/Users/DELL/Downloads/geckodriver.exe\")\n",
    "#set the value of executable path\n",
    "driver.get(urla)"
   ]
  },
  {
   "cell_type": "code",
   "execution_count": 4,
   "metadata": {},
   "outputs": [],
   "source": [
    "page_source=driver.page_source"
   ]
  },
  {
   "cell_type": "code",
   "execution_count": 5,
   "metadata": {},
   "outputs": [],
   "source": [
    "#parsing the page\n",
    "soup=BeautifulSoup(page_source,'html.parser')"
   ]
  },
  {
   "cell_type": "code",
   "execution_count": 6,
   "metadata": {},
   "outputs": [
    {
     "name": "stdout",
     "output_type": "stream",
     "text": [
      "\n",
      "\n",
      "\n",
      "\n",
      "\n",
      "\n",
      "\n",
      "\n",
      "NewsCars for saleCar GuidesCar ReviewsPromosBuild a carAuto ShowsIndustryCar ReleasesTop 10Green wheelsConcept carsParts and MaintenanceCar Racing NewsFeatured Articles\n",
      "\t\tSee all\n",
      "\t\t Infiniti Introduces the New 2022 QX552021 Lexus LC 500 First Drive: Sporty in its Own WayToyota Has a Patent for a Mobile Recharging-Refueling StationJeep Confirms Arrival of a V8-Powered Wrangler for 2021\n",
      "\t\t\t\t\tTechnical specs\n",
      "\t\t\t\t\n",
      "          New and Used Vehicles\n",
      "        \n",
      "\t\t\t\t\t\tCompare\n",
      "\t\t\t\t\t\n",
      "            Find a Dealer\n",
      "        \n",
      "\t\t\t\t\t\tPrice Quote\n",
      "\t\t\t\t\t\n",
      "\t\t\t\t\t\tPromotions\n",
      "\t\t\t\t\t\n",
      "            Reviews\n",
      "        \n",
      "\t\t\t\t\t\tCar Builder\n",
      "\t\t\t\t\tPopular Technical Sheets\n",
      "                See all\n",
      "                Nissan Rogue Mitsubishi Outlander Subaru Outback Nissan Qashqai Popular Used Cars:\n",
      "                See all\n",
      "                Hyundai Elantra Mazda 3 Honda Civic Toyota Corolla New carsUsed carsInsuranceFinancingTiresSafetyInteractive GuideManufacturer recallsFeatured guides\n",
      "\t\tSee all\n",
      "\t\t L’Annuel de l’Automobile 2021 is now out: 20 years of providing relevant information to Canadian consumersThe Best Winter Tires for Cars in Canada for 2019-2020The Best Winter Tires for SUVs, Pickups in Canada for 2020-2021The Best Winter Tires for SUVs, Pickups in Canada for 2019-2020\n",
      "                Search for a Review\n",
      "            \n",
      "                Request a Road Test\n",
      "            \n",
      "                Road Test Checklist\n",
      "            Comparative ReviewsLatest Reviews\n",
      "\t\t\tSee all\n",
      "\t\t\t 2021 Lexus LC 500 First Drive: Sporty in its Own Way2021 Hyundai Sonata N Line First Drive: A Sonata in Allegro2021 Hyundai Elantra First Drive: Reaching for the Top2020 Porsche Cayenne Coupe Turbo: 10 Things Worth KnowingAuto showEventsRacingTips and advicePhoto galleries and videos\n",
      "\t\t\tSee all\n",
      "\t\t \t2016 Honda Civic Coupe pictures2017 Kia Sportage pictures2017 Cadillac XT5 pictures2016 Mazda CX-3 GT pictures\n",
      "Infiniti Introduces the New 2022 QX552021 Lexus LC 500 First Drive: Sporty in its Own WayToyota Has a Patent for a Mobile Recharging-Refueling StationJeep Confirms Arrival of a V8-Powered Wrangler for 2021\n",
      "L’Annuel de l’Automobile 2021 is now out: 20 years of providing relevant information to Canadian consumersThe Best Winter Tires for Cars in Canada for 2019-2020The Best Winter Tires for SUVs, Pickups in Canada for 2020-2021The Best Winter Tires for SUVs, Pickups in Canada for 2019-2020\n",
      "2021 Lexus LC 500 First Drive: Sporty in its Own Way2021 Hyundai Sonata N Line First Drive: A Sonata in Allegro2021 Hyundai Elantra First Drive: Reaching for the Top2020 Porsche Cayenne Coupe Turbo: 10 Things Worth Knowing\n",
      "2016 Honda Civic Coupe pictures2017 Kia Sportage pictures2017 Cadillac XT5 pictures2016 Mazda CX-3 GT pictures\n",
      "1790 results found for your search\n",
      "                    \n",
      "                Create a vehicle search alert\n",
      "Refine Your SearchSearch for your VehicleInventory typeUsed(1617)New(173)ProvinceManitobaAll Provinces >CityWinnipeg(1416)Steinbach(169)Headingley(52)Brandon(28)Portage La Prairie(27)Winnipeg Beach(19)All Cities >YearFrom202120202019201820172016201520142013201220112010200920082007200620052004200320022001200019991998199719961995199419931992199119901989198819871986198519841983198219811980197919781977197619751974197319721971197019601950194019301920To202120202019201820172016201520142013201220112010200920082007200620052004200320022001200019991998199719961995199419931992199119901989198819871986198519841983198219811980197919781977197619751974197319721971197019601950194019301920Apply2018(335)2019(333)2017(295)2016(179)2020(132)2014(97)2015(97)2021(66)2013(63)2012(48)All Years >MakeToyota(242)Hyundai(221)Ford(217)Chevrolet(199)Nissan(137)Dodge(122)Kia(84)Ram(67)All Makes >PriceApplyLess than $5000(28)$5000 - $10,000(98)$10,000 - $15,000(202)$15,000 - $20,000(316)$20,000 - $25,000(316)$25,000 - $35,000(476)$35,000 - $45,000(205)$45,000 - $55,000(101)More than $55,000(48)TransmissionAutomatic(1440)Continuous variable(53)Manual(32)Automatic w/ manual mode(5)CategoryGreen Wheels(40)Convertible(4)Coupe(34)Sedan(366)Wagon(4)Hatchback(95)Minivan(102)Utility(802)Featured Dealers\n",
      "                                Infinti in Lachine\n",
      "                            \n",
      "                                Infiniti car dealership near Montreal\n",
      "                            2002 Pontiac Grand AmAutomatic202,360 kmContact sellerBrandon, Manitoba$1,7992000 Pontiac MontanaAutomatic212,000 kmContact sellerWinnipeg, Manitoba$2,5002002 Toyota CamryAutomatic204,575 kmContact sellerWinnipeg, Manitoba$2,8052004 Pontiac MontanaAutomatic196,000 kmContact sellerWinnipeg, Manitoba$2,9001996 Ford E 350Automatic0 kmContact sellerWinnipeg, Manitoba$2,9002002 Toyota CamryAutomatic176,521 kmContact sellerWinnipeg, Manitoba$3,2002002 Ford ExplorerAutomatic150,000 kmContact sellerWinnipeg, Manitoba$3,5002003 Ford F150Automatic407,000 kmContact sellerWinnipeg, Manitoba$3,5002007 Chevrolet CobaltAutomatic0 kmContact sellerWinnipeg, Manitoba$3,9002003 Dodge GRAND CRAVANAutomatic0 kmContact sellerWinnipeg, Manitoba$3,9002005 Toyota SiennaAutomatic0 kmContact sellerWinnipeg, Manitoba$3,9002003 Jeep LibertyAutomatic0 kmContact sellerWinnipeg, Manitoba$3,9002003 Nissan AltimaAutomatic190,200 kmContact sellerWinnipeg, Manitoba$3,9902009 Chevrolet Uplander CARGOAutomatic161,000 kmContact sellerWinnipeg Beach, Manitoba$3,9952005 Dodge SX 2.0 NeonN/A149,000 kmContact sellerWinnipeg Beach, Manitoba$3,9951963 Pontiac AcadianAutomatic123,456 kmContact sellerWinnipeg Beach, Manitoba$4,2002007 Dodge Grand CaravanAutomatic199,300 kmContact sellerWinnipeg, Manitoba$4,2002005 Ford FreestarAutomatic196,500 kmContact sellerWinnipeg, Manitoba$4,2002000 Volkswagen BeetleManual201,514 kmContact sellerBrandon, Manitoba$4,4002006 Chevrolet CapriceAutomatic62,490 kmContact sellerWinnipeg, Manitoba$4,4052005 Honda CivicAutomatic0 kmContact sellerWinnipeg, Manitoba$4,5002008 Saturn AstraAutomatic147,135 kmContact sellerNoneManitoba$4,6502005 Jeep Grand Cherokee 4X4Automatic0 kmContact sellerWinnipeg, Manitoba$4,9002007 Volkswagen JettaAutomatic w/ manual mode188,500 kmContact sellerWinnipeg, Manitoba$4,900123Page 1...75\n",
      "From202120202019201820172016201520142013201220112010200920082007200620052004200320022001200019991998199719961995199419931992199119901989198819871986198519841983198219811980197919781977197619751974197319721971197019601950194019301920\n",
      "To202120202019201820172016201520142013201220112010200920082007200620052004200320022001200019991998199719961995199419931992199119901989198819871986198519841983198219811980197919781977197619751974197319721971197019601950194019301920Apply\n",
      "\n",
      "Apply\n",
      "This field is required.This field is required.\n",
      "Invalid phone format. Should be 555-555-5555.Please verify your email address\n",
      "Hello,\n",
      "I found this ad on Auto123.com Network. Could you please provide me with more information on the MAKE_TO_REPLACE. \n",
      "Thank you!\n",
      "Send me a copy\n",
      "\n",
      "                        Cancel Request\n",
      "                    Western Union is a great way to send money to friends and family members.Do not send a money transfer to an individual that you have not met in person or to an individual for the purchase of car.\n",
      "Successful Operation\n",
      "                        Favourite added temporarily. To add it to your profile, you will need to sign in.\n",
      "                     \n",
      "                                Ok\n",
      "                            \n",
      " \n",
      "                                Ok\n",
      "                            \n"
     ]
    }
   ],
   "source": [
    "#All the data present in a page is present in class section group\n",
    "data=soup.findAll('div',{\"class\":\"section group\"})\n",
    "#printing the extracted data of a single page\n",
    "for info in data:\n",
    "    print(info.text)"
   ]
  },
  {
   "cell_type": "code",
   "execution_count": null,
   "metadata": {},
   "outputs": [],
   "source": [
    "#Finding the titles of cars using find_all\n",
    "#All the titles are present in span class : content_list_title_link_text\n",
    "a = soup.find_all(\"span\",{\"class\" :\"content_list_title_link_text\"})\n",
    "#taking an empty list\n",
    "car_titles = []\n",
    "#printing all the separate titles using for loop\n",
    "for i in a:\n",
    "    print(i.text)# printing values\n",
    "    #appending values in a separate empty list\n",
    "    car_titles.append(i.text)  \n",
    "print(car_titles)#printing car titles list\n",
    "len(car_titles)#length of car titles list"
   ]
  },
  {
   "cell_type": "code",
   "execution_count": null,
   "metadata": {},
   "outputs": [],
   "source": [
    "#Finding the transmission  using find_all\n",
    "#All the transmission  are present in span class : content_list_info_general_transtype_text\n",
    "a = soup.find_all(\"span\",{\"class\" :\"content_list_info_general_transtype_text\"})\n",
    "#taking an empty list\n",
    "transmission = []\n",
    "#printing all the separate transmission using for loop\n",
    "for i in a:\n",
    "    print(i.text)# printing values\n",
    "    #appending values in a separate empty list\n",
    "    transmission.append(i.text)  \n",
    "print(transmission)#printing car transmission list\n",
    "len(transmission)#length of car transmission list"
   ]
  },
  {
   "cell_type": "code",
   "execution_count": null,
   "metadata": {},
   "outputs": [],
   "source": [
    "#Finding the mileage of cars using find_all\n",
    "#All the mileage  are present in span class : content_list_info_general_distance_text\n",
    "a = soup.find_all(\"span\",{\"class\" :\"content_list_info_general_distance_text\"})\n",
    "#taking an empty list\n",
    "mileage = []\n",
    "#printing all the separate mileage using for loop\n",
    "for i in a:\n",
    "    print(i.text)# printing values\n",
    "    #appending values in a separate empty list\n",
    "    mileage.append(i.text)  \n",
    "print(mileage)#printing car mileage list\n",
    "len(mileage)#length of car mileage list"
   ]
  },
  {
   "cell_type": "code",
   "execution_count": null,
   "metadata": {},
   "outputs": [],
   "source": [
    "#Finding the location of cars using find_all\n",
    "#All the location  are present in span class : content_list_footer_position_text ut_location\n",
    "a = soup.find_all(\"span\",{\"class\" :\"content_list_footer_position_text ut_location\"})\n",
    "#taking an empty list\n",
    "location = []\n",
    "#printing all the separate location using for loop\n",
    "for i in a:\n",
    "    print(i.text)# printing values\n",
    "    #appending values in a separate empty list\n",
    "    location.append(i.text)  \n",
    "print(location)#printing car location list\n",
    "len(location)#length of car location list"
   ]
  },
  {
   "cell_type": "code",
   "execution_count": null,
   "metadata": {},
   "outputs": [],
   "source": [
    "#Finding the price of cars using find_all\n",
    "#All the price  are present in span class : content_list_footer_prix\n",
    "a = soup.find_all(\"span\",{\"class\" :\"content_list_footer_prix\"})\n",
    "#taking an empty list\n",
    "car_price = []\n",
    "#printing all the separate price using for loop\n",
    "for i in a:\n",
    "    print(i.text)# printing values\n",
    "    #appending values in a separate empty list\n",
    "    car_price.append(i.text)  \n",
    "print(car_price)#printing car price list\n",
    "len(car_price)#length of car price list"
   ]
  },
  {
   "cell_type": "code",
   "execution_count": null,
   "metadata": {},
   "outputs": [],
   "source": [
    "#creating dict of scrapped data\n",
    "dict = {\n",
    "    'Title' : car_titles ,\n",
    "    'Transmission' : transmission ,\n",
    "    'Mileage':mileage,\n",
    "    'Location':location,\n",
    "    'Price ': car_price \n",
    "}"
   ]
  },
  {
   "cell_type": "code",
   "execution_count": null,
   "metadata": {},
   "outputs": [],
   "source": [
    "#creating dataframe from dict\n",
    "df = pd.DataFrame.from_dict(dict,orient = 'index').T\n",
    "df"
   ]
  },
  {
   "cell_type": "code",
   "execution_count": null,
   "metadata": {},
   "outputs": [],
   "source": [
    "#Dataframe to csv\n",
    "df.to_csv('auto123.csv')"
   ]
  },
  {
   "cell_type": "code",
   "execution_count": null,
   "metadata": {},
   "outputs": [],
   "source": []
  },
  {
   "cell_type": "code",
   "execution_count": null,
   "metadata": {},
   "outputs": [],
   "source": []
  }
 ],
 "metadata": {
  "kernelspec": {
   "display_name": "Python 3",
   "language": "python",
   "name": "python3"
  },
  "language_info": {
   "codemirror_mode": {
    "name": "ipython",
    "version": 3
   },
   "file_extension": ".py",
   "mimetype": "text/x-python",
   "name": "python",
   "nbconvert_exporter": "python",
   "pygments_lexer": "ipython3",
   "version": "3.7.3"
  }
 },
 "nbformat": 4,
 "nbformat_minor": 2
}
