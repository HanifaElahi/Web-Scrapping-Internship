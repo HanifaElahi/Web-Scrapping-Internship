{
 "cells": [
  {
   "cell_type": "code",
   "execution_count": null,
   "metadata": {},
   "outputs": [],
   "source": [
    "from bs4 import BeautifulSoup\n",
    "import requests\n",
    "import pandas as pd\n",
    "from selenium import webdriver\n",
    "import time\n",
    "from matplotlib import pyplot as plt"
   ]
  },
  {
   "cell_type": "code",
   "execution_count": null,
   "metadata": {},
   "outputs": [],
   "source": [
    "urla = \"https://www.autoshowwinnipeg.com/all-inventory/\""
   ]
  },
  {
   "cell_type": "code",
   "execution_count": null,
   "metadata": {},
   "outputs": [],
   "source": [
    "driver=webdriver.Firefox(executable_path=\"C:/Users/DELL/Downloads/geckodriver.exe\")\n",
    "#set the value of executable path\n",
    "driver.get(urla)"
   ]
  },
  {
   "cell_type": "code",
   "execution_count": null,
   "metadata": {},
   "outputs": [],
   "source": [
    "page_source=driver.page_source"
   ]
  },
  {
   "cell_type": "code",
   "execution_count": null,
   "metadata": {},
   "outputs": [],
   "source": [
    "#parsing the page\n",
    "soup=BeautifulSoup(page_source,'html.parser')"
   ]
  },
  {
   "cell_type": "code",
   "execution_count": null,
   "metadata": {},
   "outputs": [],
   "source": [
    "#All the data present in a page is present in class car-col col-xs-12 col-sm-6 col-md-4 col-lg-3\n",
    "data=soup.findAll('div',{\"class\":\"car-col col-xs-12 col-sm-6 col-md-4 col-lg-3\"})\n",
    "#printing the extracted data of a single page\n",
    "for info in data:\n",
    "    print(info.text)"
   ]
  },
  {
   "cell_type": "code",
   "execution_count": null,
   "metadata": {},
   "outputs": [],
   "source": [
    "#Finding the titles of cars using find_all\n",
    "#All the titles are present in div class : titleBox\n",
    "car_titles = []\n",
    "a=soup.findAll('div',{\"class\":\"titleBox\"})\n",
    "for i in a :\n",
    "    titles = i.find('h2') #digging further\n",
    "    print(titles.text)#printing titles\n",
    "    car_titles.append(titles.text)#appending values\n",
    "print(car_titles)#printing titles\n",
    "len(car_titles)#printing length of list"
   ]
  },
  {
   "cell_type": "code",
   "execution_count": null,
   "metadata": {},
   "outputs": [],
   "source": [
    "mileage = []\n",
    "exterior = []\n",
    "interior = []\n",
    "body_type = []\n",
    "stock=[]\n",
    "engine = []\n",
    "transmission = []\n",
    "fuel_type = []\n",
    "#taking individual empty lists\n",
    "\n",
    "details = soup.find_all(\"div\",{\"class\":\"shortDt\"}) # all the details are inside div class:shortDt\n",
    "for i in details:\n",
    "    newsoup = BeautifulSoup(str(i),'html.parser')#using parser for scrapping inside details\n",
    "    lis = newsoup.find_all('tr')#finding all tr \n",
    "    for li in lis:\n",
    "        if 'Odometer' in li.text:#if present\n",
    "            mileage.append(li.text.replace(\"\\nOdometer:\\n\",\"\").strip())#then append\n",
    "        if 'Exterior Color' in li.text:#if present\n",
    "            exterior.append(li.text.replace(\"\\nExterior Color:\\n\",\"\").strip())  #then append  \n",
    "        if 'Interior Color' in li.text:#if present\n",
    "            interior.append(li.text.replace(\"\\nInterior Color:\\n\",\"\").strip()) #then append\n",
    "        if 'Body Type' in li.text:#if present\n",
    "            body_type.append(li.text.replace(\"\\nBody Type:\\n\",\"\").strip())#then append\n",
    "        if 'Stock#' in li.text:#if present\n",
    "            stock.append(li.text.replace(\"\\nStock#\\n\",\"\").strip())    #then append\n",
    "        if 'Engine Size' in li.text:\n",
    "            engine.append(li.text.replace(\"\\nEngine Size:\\n\",\"\").strip()) #then append\n",
    "        if 'Transmission' in li.text:#if present\n",
    "            transmission.append(li.text.replace(\"\\nTransmission:\\n\",\"\").strip())#then append\n",
    "        if 'Fuel Type' in li.text:#if present\n",
    "            fuel_type.append(li.text.replace(\"Fuel Type:\\n\",\"\").strip())    #then append\n",
    "\n",
    "            \n",
    "#printing lists\n",
    "print(mileage)\n",
    "print(exterior)\n",
    "print(interior)\n",
    "print(body_type)\n",
    "print(stock)\n",
    "print(engine)\n",
    "print(transmission)\n",
    "print(fuel_type)"
   ]
  },
  {
   "cell_type": "code",
   "execution_count": null,
   "metadata": {},
   "outputs": [],
   "source": [
    "\n",
    "msrp = []\n",
    "discount = []\n",
    "sales_price = []\n",
    "finance_discount = []\n",
    "finance_price = []\n",
    "\n",
    "#taking empty lists\n",
    "\n",
    "a=soup.findAll('div',{\"class\":\"price\"})#scrapping details\n",
    "for i in a :\n",
    "    newsoup = BeautifulSoup(str(i),'html.parser')#using parser for scrapping inside details\n",
    "    lis = newsoup.find_all('tr')#finding all tr \n",
    "    for li in lis:\n",
    "        if 'Original Price' in li.text:#if present\n",
    "            msrp.append(li.text.replace(\"Original Price:\\n\\t\\t\\t\\t\\t\\t\\n\\n\\n\",\"\").strip())#then append\n",
    "        if 'Discount' in li.text:#if present\n",
    "            discount.append(li.text.replace(\"Discount:\\n\\t\\t\\t\\t\\t\\t\\n\\n\\t\\t\\t\\t\\t\\t\\t\",\"\").strip())  #then append\n",
    "        if 'Sale Price' in li.text:#if present\n",
    "            sales_price.append(li.text.replace(\"Sale Price:\\n\\t\\t\\t\\t\\t\\t\\n\\n\\t\\t\\t\\t\\t\\t\\t\",\"\").strip())#then append\n",
    "        if 'Finance Discount' in li.text:#if present\n",
    "            finance_discount.append(li.text.replace(\"\\n\\n\\t\\t\\t\\t\\t\\t\\tFinance Discount:\\n\\t\\t\\t\\t\\t\\t\\n\\n\\t\\t\\t\\t\\t\\t\\t\",\"\").strip())#then append\n",
    "        if 'Finance Price' in li.text:#if present\n",
    "            finance_price.append(li.text.replace(\"\\n\\n\\t\\t\\t\\t\\t\\t\\tFinance Price:\\n\\t\\t\\t\\t\\t\\t\\n\\n\\t\\t\\t\\t\\t\\t\\t\",\"\").strip())#then append\n",
    "\n",
    "            #printing lists\n",
    "print(msrp)\n",
    "print(discount)\n",
    "print(sales_price)\n",
    "print(finance_discount)\n",
    "print(finance_price)       "
   ]
  },
  {
   "cell_type": "code",
   "execution_count": null,
   "metadata": {},
   "outputs": [],
   "source": [
    "#Finding the estimated payment using find_all\n",
    "#All the estimated payment are present in div class : leaseBox\n",
    "estimated_payment = []\n",
    "a=soup.findAll('div',{\"class\":\"leaseBox\"})\n",
    "for c in a :\n",
    "    print(c.text.strip())#printing estimated payment\n",
    "    estimated_payment.append(c.text.strip())#appending values\n",
    "print(estimated_payment)#printing estimated payment\n",
    "len(estimated_payment)#printing length of list"
   ]
  },
  {
   "cell_type": "code",
   "execution_count": null,
   "metadata": {},
   "outputs": [],
   "source": [
    "#creating dict of scrapped data\n",
    "dict = {\n",
    "    'Title' : car_titles,\n",
    "    'Mileage' : mileage , \n",
    "    'Exterior': exterior,\n",
    "    'Interior':interior,\n",
    "    'Body Type ': body_type ,\n",
    "    'Stock' : stock ,\n",
    "    'Engine' : engine,\n",
    "    'Fuel Type':fuel_type,\n",
    "    'Transmission':transmission,\n",
    "    'MSRP':msrp,\n",
    "    'Discount':discount,\n",
    "    'Price':sales_price,\n",
    "    'Finance Discount':finance_discount,\n",
    "    'Finance Price':finance_price,\n",
    "    'Estimated Payment':estimated_payment\n",
    "}"
   ]
  },
  {
   "cell_type": "code",
   "execution_count": null,
   "metadata": {},
   "outputs": [],
   "source": [
    "#creating dataframe from dict\n",
    "df = pd.DataFrame.from_dict(dict,orient = 'index').T\n",
    "df"
   ]
  },
  {
   "cell_type": "code",
   "execution_count": null,
   "metadata": {},
   "outputs": [],
   "source": [
    "#Dataframe to csv\n",
    "df.to_csv('autosavewinniepeg.csv')"
   ]
  },
  {
   "cell_type": "code",
   "execution_count": null,
   "metadata": {},
   "outputs": [],
   "source": []
  },
  {
   "cell_type": "code",
   "execution_count": null,
   "metadata": {},
   "outputs": [],
   "source": []
  }
 ],
 "metadata": {
  "kernelspec": {
   "display_name": "Python 3",
   "language": "python",
   "name": "python3"
  },
  "language_info": {
   "codemirror_mode": {
    "name": "ipython",
    "version": 3
   },
   "file_extension": ".py",
   "mimetype": "text/x-python",
   "name": "python",
   "nbconvert_exporter": "python",
   "pygments_lexer": "ipython3",
   "version": "3.7.3"
  }
 },
 "nbformat": 4,
 "nbformat_minor": 2
}
