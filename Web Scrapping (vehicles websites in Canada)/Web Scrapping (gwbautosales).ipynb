{
 "cells": [
  {
   "cell_type": "code",
   "execution_count": 4,
   "metadata": {},
   "outputs": [],
   "source": [
    "from bs4 import BeautifulSoup\n",
    "import requests\n",
    "import pandas as pd\n",
    "from selenium import webdriver\n",
    "import time\n",
    "from matplotlib import pyplot as plt"
   ]
  },
  {
   "cell_type": "code",
   "execution_count": 5,
   "metadata": {},
   "outputs": [],
   "source": [
    "urla = input((\"Enter url : \"))\n",
    "# \"https://www.gwbautosales.com/inventory/vehicle_type/car\""
   ]
  },
  {
   "cell_type": "code",
   "execution_count": 6,
   "metadata": {},
   "outputs": [],
   "source": [
    "driver=webdriver.Firefox(executable_path=\"C:/Users/DELL/Downloads/geckodriver.exe\")\n",
    "#set the value of executable path\n",
    "driver.get(urla)"
   ]
  },
  {
   "cell_type": "code",
   "execution_count": 7,
   "metadata": {},
   "outputs": [],
   "source": [
    "page_source=driver.page_source"
   ]
  },
  {
   "cell_type": "code",
   "execution_count": 8,
   "metadata": {},
   "outputs": [],
   "source": [
    "#parsing the page\n",
    "soup=BeautifulSoup(page_source,'html.parser')"
   ]
  },
  {
   "cell_type": "code",
   "execution_count": 9,
   "metadata": {},
   "outputs": [
    {
     "name": "stdout",
     "output_type": "stream",
     "text": [
      "Sort By :Year|Make|Model|Kilometers|Price|Stock number$6999 (R) (B) Cash Price Call For Inhouse Financing2007 Dodge Caliber SXTKilometers: 241,971Engine: 2.0L L4 DOHC 16VTransmission: AutomaticInterior color: Exterior color: BlackVIN: 1B3HB48B97D126470Stock number: 4727$8999 (R) (D) Cash Price Call For Inhouse Financing2012 Ford Taurus (R) (D) SEL FWDKilometers: 230,650Engine: 3.5L V6 DOHC 24VTransmission: AutomaticInterior color: BlackExterior color: RedVIN: 1FAHP2EW4CG113314Stock number: 4717$6999 (R) (B) Cash Price Call For Inhouse Financing2007 Dodge Caliber (R) (B) SXTKilometers: 271,952Engine: 2.0L L4 DOHC 16VTransmission: AutomaticInterior color: Black and RedExterior color: GreyVIN: 1B3HB48B07D369133Stock number: 4712$6999 (G) (B) Cash Price Call For Inhouse Financing2008 Buick Allure-G-(B) CXKilometers: 240,830Engine: 3.8L V6 OHV 12VTransmission: AutomaticInterior color: GreyExterior color: BlueVIN: 2G4WF582081257280Stock number: 20-749-257280$4999 (R) (A) Cash Price Call For Inhouse Financing2002 Chevrolet Cavalier (R) -A- CoupeKilometers: 200,355Engine: 2.2L L4 OHV 8VTransmission: ManualInterior color: Exterior color: YellowVIN: 3G1JC12402S194454Stock number: 20-764-194454$7999 (R) (B)Cash Price Call For Inhouse Financing2007 Chevrolet Malibu -R-(B) LSKilometers: 111,491Engine: 2.2L L4 DOHC 16VTransmission: AutomaticInterior color: Exterior color: RedVIN: 1G1ZS58F87F278605Stock number: 20-759-278605$6999 (Y) (B) Cash Price Call For Inhouse Financing2004 Pontiac Grand Prix (Y) -B- GT1Kilometers: 178,170Engine: 3.8L V6 OHV 12VTransmission: AutomaticInterior color: Exterior color: RedVIN: 2G2WP522541206298Stock number: 20-752-206298$6999 (R) (B) Cash Price Call For Inhouse Financing2007 Pontiac G6 -R- (B) Sedan FWDKilometers: 236,753Engine: 3.5L V6 OHV 12VTransmission: AutomaticInterior color: Exterior color: BlueVIN: 1G2ZG58N274190035Stock number: 20-753-190035$6999 (R) (B) Cash Price Call For Inhouse Financing2012 Chevrolet Impala-R-(B) LSKilometers: 262,399Engine: 3.6L V6 DOHC 16V FFVTransmission: AutomaticInterior color: Exterior color: WhiteVIN: 2G1WA5E36C1110950Stock number: 20-745-110950$7999 (Y) (C) Cash Price Call For Inhouse Financing2010 Ford Focus -Y- C S SedanKilometers: 207,859Engine: 2.0L L4 DOHC 16VTransmission: ManualInterior color: Exterior color: BlueVIN: 1FAHP3ENXAW210405Stock number: 20-744-210405$8999 (Y) (D) Cash Price Call For Inhouse Financing2013 Chevrolet Impala -Y- (D) LTKilometers: 184,125Engine: 3.6L V6 DOHC 16V FFVTransmission: AutomaticInterior color: Exterior color: SilverVIN: 2G1WB5E38D1117221Stock number: 20-724-117221$5999 (R) (B) Cash Price Call For Inhouse Financing2007 Kia Amanti-R-(B) SedanKilometers: 191,359Engine: 3.8L V6 DOHC 24VTransmission: AutomaticInterior color: Exterior color: WhiteVIN: KNALD125575125022Stock number: 20-735-125022$5999 (R) (B) Cash Price Call For Inhouse Financing2005 Nissan Altima-R-(B) SE-RKilometers: 223,229Engine: 3.5L V6 DOHC 24VTransmission: AutomaticInterior color: Exterior color: BlackVIN: 1N4BL11EX5C314847Stock number: 20-733-314847$5999 (R) (B) Cash Price Call For Inhouse Financing2007 Chevrolet Cobalt -R- (B) LT2 SedanKilometers: 271,622Engine: 2.2L L4 DOHC 16VTransmission: AutomaticInterior color: Exterior color: WhiteVIN: 1G1AL55F777406440Stock number: 20-691-406440$5999 (R) (B) Cash Price Call For Inhouse Financing2006 Chevrolet Impala-R-(B) LSKilometers: 174,316Engine: 3.5L V6 OHV 16VTransmission: AutomaticInterior color: Exterior color: whiteVIN: 2G1WB58N969255108Stock number: 20-706-255108$6999 (R) (B)  Cash Price Call For Inhouse Financing2008 Dodge Avenger-R-(B) SXTKilometers: 279,871Engine: 2.7L V6 DOHC 24V FFVTransmission: AutomaticInterior color: Exterior color: BeigeVIN: 1B3LC56R88N202415Stock number: 20-682-202415$7999 (R) (C) Cash Price Call For Inhouse Financing2008 Chevrolet Malibu -R- (C) LSKilometers: 182,481Engine: 2.4L L4 DOHC 16VTransmission: AutomaticInterior color: Exterior color: BlackVIN: 1G1ZG57B68F285537Stock number: 20-688-285537$8999 (Y) (D) Cash Price Call For Inhouse Financing2012 Kia Forte-Y-(D) LXKilometers: 238,629Engine: 2.0L L4 DOHC 16VTransmission: AutomaticInterior color: Exterior color: White VIN: KNAFT4A27C5531094Stock number: 20-695-531094$5999 (R) (B) Cash Price Call For Inhouse Financing2008 Pontiac Pursuit -R- (B)  BaseKilometers: 233,521Engine: 2.2L L4 DOHC 16VTransmission: AutomaticInterior color: Exterior color: BlackVIN: 1G2AL55F287223198Stock number: 20-644-223198$5999 (R) (B) Cash Price Call For Inhouse Financing2006 Ford Focus -R- (B) ZX4 SESKilometers: 191,584Engine: 2.0L L4 DOHC 16VTransmission: AutomaticInterior color: Exterior color: greenVIN: 1FAFP34N26W193244Stock number: 20-685-193244$6999 (R) (B) Cash Price Call For Inhouse Financing2008 Ford Focus -R- (B) SE SedanKilometers: 231,264Engine: 2.0L L4 DOHC 16VTransmission: AutomaticInterior color: Exterior color: BlackVIN: 1FAHP35N48W200124Stock number: 20-671-200124$7999 (R) (C) Cash Price Call For Inhouse Financing2007 Chrysler Sebring (R) (C) TouringKilometers: 251,496Engine: 2.7L V6 DOHC 24V FFVTransmission: AutomaticInterior color: Exterior color: REDVIN: 1C3LC56R17N529496Stock number: 20-721-529496$4999 (Y) (A) Cash Price Call For Inhouse Financing1990 Mercury Grand Marquis-Y-(A) LSKilometers: 214,592Engine: 5.0L V8 OHV 16VTransmission: AutomaticInterior color: Exterior color: BlackVIN: 2MECM75F7LX652304Stock number: 20-629-652304$7999 (R) (C) Cash Price Call For Inhouse Financing2007 Honda Civic-R-(C) EX Sedan AT with NavigationKilometers: 239,691Engine: 1.8L L4 SOHC 16VTransmission: AutomaticInterior color: Exterior color: GreyVIN: 2HGFA16877H000515Stock number: 20-634-000515$7999 (R) (C) Cash Price Call For Inhouse Financing2012 Ford Focus -R- (C) Titanium SedanKilometers: 300,952Engine: 2.0L L4 DOHC 16VTransmission: AutomaticInterior color: Exterior color: BlueVIN: 1FAHP3J21CL112430Stock number: 20-678-112430$5999 (R) (B) Cash Price Call For Inhouse Financing2009 Pontiac G5 -R- (B) CoupeKilometers: 201,175Engine: 2.2L L4 DOHC 16VTransmission: AutomaticInterior color: Exterior color: SilverVIN: 1G2AR15H197196893Stock number: 20-609-196893$5999 (Y) (B) Cash Price Call For Inhouse Financing2009 Ford Focus -Y- (B) SE SedanKilometers: 261,286Engine: 2.0L L4 DOHC 16VTransmission: AutomaticInterior color: Exterior color: White VIN: 1FAHP35NX9W215308Stock number: 20-598-215308$6999 (R) (B) Cash Price Call For Inhouse Financing2008 Chevrolet Impala -R- (B) LTKilometers: 213,497Engine: 3.5L V6 OHV 12VTransmission: AutomaticInterior color: Exterior color: SilverVIN: 2G1WT55N189189898Stock number: 20-549-189898$5999 (R) (B) Cash Price Call For Inhouse Financing2007 Chevrolet Malibu -R- (B)  LT1Kilometers: 206,003Engine: 2.2L L4 DOHC 16VTransmission: AutomaticInterior color: Exterior color: SilverVIN: 1G1ZT58FX7F311780Stock number: 20-528-311780$5999 (R) (B) Cash Price Call For Inhouse Financing2007 Chrysler Sebring -R- (B) TouringKilometers: 168,563Engine: 3.5L V6 SOHC 24VTransmission: AutomaticInterior color: Exterior color: SilverVIN: 1C3LC56M17N611491Stock number: 20-532-611491← Previous 1 2 Next →\n"
     ]
    }
   ],
   "source": [
    "#All the data present in a page is present in class inventory\n",
    "data=soup.findAll('div',{\"class\":\"inventory\"})\n",
    "#printing the extracted data of a single page\n",
    "for info in data:\n",
    "    print(info.text.replace(\"\\n\",\"\"))"
   ]
  },
  {
   "cell_type": "code",
   "execution_count": 10,
   "metadata": {},
   "outputs": [
    {
     "name": "stdout",
     "output_type": "stream",
     "text": [
      "2007 Dodge Caliber SXT\n",
      "2012 Ford Taurus (R) (D) SEL FWD\n",
      "2007 Dodge Caliber (R) (B) SXT\n",
      "2008 Buick Allure-G-(B) CX\n",
      "2002 Chevrolet Cavalier (R) -A- Coupe\n",
      "2007 Chevrolet Malibu -R-(B) LS\n",
      "2004 Pontiac Grand Prix (Y) -B- GT1\n",
      "2007 Pontiac G6 -R- (B) Sedan FWD\n",
      "2012 Chevrolet Impala-R-(B) LS\n",
      "2010 Ford Focus -Y- C S Sedan\n",
      "2013 Chevrolet Impala -Y- (D) LT\n",
      "2007 Kia Amanti-R-(B) Sedan\n",
      "2005 Nissan Altima-R-(B) SE-R\n",
      "2007 Chevrolet Cobalt -R- (B) LT2 Sedan\n",
      "2006 Chevrolet Impala-R-(B) LS\n",
      "2008 Dodge Avenger-R-(B) SXT\n",
      "2008 Chevrolet Malibu -R- (C) LS\n",
      "2012 Kia Forte-Y-(D) LX\n",
      "2008 Pontiac Pursuit -R- (B)  Base\n",
      "2006 Ford Focus -R- (B) ZX4 SES\n",
      "2008 Ford Focus -R- (B) SE Sedan\n",
      "2007 Chrysler Sebring (R) (C) Touring\n",
      "1990 Mercury Grand Marquis-Y-(A) LS\n",
      "2007 Honda Civic-R-(C) EX Sedan AT with Navigation\n",
      "2012 Ford Focus -R- (C) Titanium Sedan\n",
      "2009 Pontiac G5 -R- (B) Coupe\n",
      "2009 Ford Focus -Y- (B) SE Sedan\n",
      "2008 Chevrolet Impala -R- (B) LT\n",
      "2007 Chevrolet Malibu -R- (B)  LT1\n",
      "2007 Chrysler Sebring -R- (B) Touring\n",
      "['2007 Dodge Caliber SXT', '2012 Ford Taurus (R) (D) SEL FWD', '2007 Dodge Caliber (R) (B) SXT', '2008 Buick Allure-G-(B) CX', '2002 Chevrolet Cavalier (R) -A- Coupe', '2007 Chevrolet Malibu -R-(B) LS', '2004 Pontiac Grand Prix (Y) -B- GT1', '2007 Pontiac G6 -R- (B) Sedan FWD', '2012 Chevrolet Impala-R-(B) LS', '2010 Ford Focus -Y- C S Sedan', '2013 Chevrolet Impala -Y- (D) LT', '2007 Kia Amanti-R-(B) Sedan', '2005 Nissan Altima-R-(B) SE-R', '2007 Chevrolet Cobalt -R- (B) LT2 Sedan', '2006 Chevrolet Impala-R-(B) LS', '2008 Dodge Avenger-R-(B) SXT', '2008 Chevrolet Malibu -R- (C) LS', '2012 Kia Forte-Y-(D) LX', '2008 Pontiac Pursuit -R- (B)  Base', '2006 Ford Focus -R- (B) ZX4 SES', '2008 Ford Focus -R- (B) SE Sedan', '2007 Chrysler Sebring (R) (C) Touring', '1990 Mercury Grand Marquis-Y-(A) LS', '2007 Honda Civic-R-(C) EX Sedan AT with Navigation', '2012 Ford Focus -R- (C) Titanium Sedan', '2009 Pontiac G5 -R- (B) Coupe', '2009 Ford Focus -Y- (B) SE Sedan', '2008 Chevrolet Impala -R- (B) LT', '2007 Chevrolet Malibu -R- (B)  LT1', '2007 Chrysler Sebring -R- (B) Touring']\n"
     ]
    },
    {
     "data": {
      "text/plain": [
       "30"
      ]
     },
     "execution_count": 10,
     "metadata": {},
     "output_type": "execute_result"
    }
   ],
   "source": [
    "#Finding the titles of cars using find_all\n",
    "#All the titles are present in p class : whitetext1\n",
    "car_titles = []\n",
    "a=soup.findAll('p',{\"class\":\"whitetext1\"})\n",
    "for i in a :\n",
    "    print(i.text)#printing titles\n",
    "    car_titles.append(i.text)#appending values\n",
    "print(car_titles)#printing titles\n",
    "len(car_titles)#printing length of list"
   ]
  },
  {
   "cell_type": "code",
   "execution_count": 11,
   "metadata": {},
   "outputs": [
    {
     "name": "stdout",
     "output_type": "stream",
     "text": [
      "$6999 (R) (B) Cash Price Call For Inhouse Financing\n",
      "$8999 (R) (D) Cash Price Call For Inhouse Financing\n",
      "$6999 (R) (B) Cash Price Call For Inhouse Financing\n",
      "$6999 (G) (B) Cash Price Call For Inhouse Financing\n",
      "$4999 (R) (A) Cash Price Call For Inhouse Financing\n",
      "$7999 (R) (B)Cash Price Call For Inhouse Financing\n",
      "$6999 (Y) (B) Cash Price Call For Inhouse Financing\n",
      "$6999 (R) (B) Cash Price Call For Inhouse Financing\n",
      "$6999 (R) (B) Cash Price Call For Inhouse Financing\n",
      "$7999 (Y) (C) Cash Price Call For Inhouse Financing\n",
      "$8999 (Y) (D) Cash Price Call For Inhouse Financing\n",
      "$5999 (R) (B) Cash Price Call For Inhouse Financing\n",
      "$5999 (R) (B) Cash Price Call For Inhouse Financing\n",
      "$5999 (R) (B) Cash Price Call For Inhouse Financing\n",
      "$5999 (R) (B) Cash Price Call For Inhouse Financing\n",
      "$6999 (R) (B)  Cash Price Call For Inhouse Financing\n",
      "$7999 (R) (C) Cash Price Call For Inhouse Financing\n",
      "$8999 (Y) (D) Cash Price Call For Inhouse Financing\n",
      "$5999 (R) (B) Cash Price Call For Inhouse Financing\n",
      "$5999 (R) (B) Cash Price Call For Inhouse Financing\n",
      "$6999 (R) (B) Cash Price Call For Inhouse Financing\n",
      "$7999 (R) (C) Cash Price Call For Inhouse Financing\n",
      "$4999 (Y) (A) Cash Price Call For Inhouse Financing\n",
      "$7999 (R) (C) Cash Price Call For Inhouse Financing\n",
      "$7999 (R) (C) Cash Price Call For Inhouse Financing\n",
      "$5999 (R) (B) Cash Price Call For Inhouse Financing\n",
      "$5999 (Y) (B) Cash Price Call For Inhouse Financing\n",
      "$6999 (R) (B) Cash Price Call For Inhouse Financing\n",
      "$5999 (R) (B) Cash Price Call For Inhouse Financing\n",
      "$5999 (R) (B) Cash Price Call For Inhouse Financing\n",
      "['$6999 (R) (B)', '$8999 (R) (D)', '$6999 (R) (B)', '$6999 (G) (B)', '$4999 (R) (A)', '$7999 (R) (B)', '$6999 (Y) (B)', '$6999 (R) (B)', '$6999 (R) (B)', '$7999 (Y) (C)', '$8999 (Y) (D)', '$5999 (R) (B)', '$5999 (R) (B)', '$5999 (R) (B)', '$5999 (R) (B)', '$6999 (R) (B)', '$7999 (R) (C)', '$8999 (Y) (D)', '$5999 (R) (B)', '$5999 (R) (B)', '$6999 (R) (B)', '$7999 (R) (C)', '$4999 (Y) (A)', '$7999 (R) (C)', '$7999 (R) (C)', '$5999 (R) (B)', '$5999 (Y) (B)', '$6999 (R) (B)', '$5999 (R) (B)', '$5999 (R) (B)']\n"
     ]
    },
    {
     "data": {
      "text/plain": [
       "30"
      ]
     },
     "execution_count": 11,
     "metadata": {},
     "output_type": "execute_result"
    }
   ],
   "source": [
    "#Finding the price of cars using find_all\n",
    "#All the price are present in div class : blubg1\n",
    "car_price = []\n",
    "a=soup.findAll('div',{\"class\":\"bluebg1\"})\n",
    "for i in a :\n",
    "    print(i.text)#printing price\n",
    "    car_price.append(i.text.replace(\"Cash Price Call For Inhouse Financing\",\"\").strip())#appending values\n",
    "print(car_price)#printing price\n",
    "len(car_price)#printing length of list\n"
   ]
  },
  {
   "cell_type": "code",
   "execution_count": 12,
   "metadata": {},
   "outputs": [],
   "source": [
    "#creating dict of scrapped data\n",
    "dict = {\n",
    "    'Title' : car_titles,\n",
    "    'Price' : car_price\n",
    "}"
   ]
  },
  {
   "cell_type": "code",
   "execution_count": 13,
   "metadata": {},
   "outputs": [
    {
     "data": {
      "text/html": [
       "<div>\n",
       "<style scoped>\n",
       "    .dataframe tbody tr th:only-of-type {\n",
       "        vertical-align: middle;\n",
       "    }\n",
       "\n",
       "    .dataframe tbody tr th {\n",
       "        vertical-align: top;\n",
       "    }\n",
       "\n",
       "    .dataframe thead th {\n",
       "        text-align: right;\n",
       "    }\n",
       "</style>\n",
       "<table border=\"1\" class=\"dataframe\">\n",
       "  <thead>\n",
       "    <tr style=\"text-align: right;\">\n",
       "      <th></th>\n",
       "      <th>Title</th>\n",
       "      <th>Price</th>\n",
       "    </tr>\n",
       "  </thead>\n",
       "  <tbody>\n",
       "    <tr>\n",
       "      <th>0</th>\n",
       "      <td>2007 Dodge Caliber SXT</td>\n",
       "      <td>$6999 (R) (B)</td>\n",
       "    </tr>\n",
       "    <tr>\n",
       "      <th>1</th>\n",
       "      <td>2012 Ford Taurus (R) (D) SEL FWD</td>\n",
       "      <td>$8999 (R) (D)</td>\n",
       "    </tr>\n",
       "    <tr>\n",
       "      <th>2</th>\n",
       "      <td>2007 Dodge Caliber (R) (B) SXT</td>\n",
       "      <td>$6999 (R) (B)</td>\n",
       "    </tr>\n",
       "    <tr>\n",
       "      <th>3</th>\n",
       "      <td>2008 Buick Allure-G-(B) CX</td>\n",
       "      <td>$6999 (G) (B)</td>\n",
       "    </tr>\n",
       "    <tr>\n",
       "      <th>4</th>\n",
       "      <td>2002 Chevrolet Cavalier (R) -A- Coupe</td>\n",
       "      <td>$4999 (R) (A)</td>\n",
       "    </tr>\n",
       "    <tr>\n",
       "      <th>5</th>\n",
       "      <td>2007 Chevrolet Malibu -R-(B) LS</td>\n",
       "      <td>$7999 (R) (B)</td>\n",
       "    </tr>\n",
       "    <tr>\n",
       "      <th>6</th>\n",
       "      <td>2004 Pontiac Grand Prix (Y) -B- GT1</td>\n",
       "      <td>$6999 (Y) (B)</td>\n",
       "    </tr>\n",
       "    <tr>\n",
       "      <th>7</th>\n",
       "      <td>2007 Pontiac G6 -R- (B) Sedan FWD</td>\n",
       "      <td>$6999 (R) (B)</td>\n",
       "    </tr>\n",
       "    <tr>\n",
       "      <th>8</th>\n",
       "      <td>2012 Chevrolet Impala-R-(B) LS</td>\n",
       "      <td>$6999 (R) (B)</td>\n",
       "    </tr>\n",
       "    <tr>\n",
       "      <th>9</th>\n",
       "      <td>2010 Ford Focus -Y- C S Sedan</td>\n",
       "      <td>$7999 (Y) (C)</td>\n",
       "    </tr>\n",
       "    <tr>\n",
       "      <th>10</th>\n",
       "      <td>2013 Chevrolet Impala -Y- (D) LT</td>\n",
       "      <td>$8999 (Y) (D)</td>\n",
       "    </tr>\n",
       "    <tr>\n",
       "      <th>11</th>\n",
       "      <td>2007 Kia Amanti-R-(B) Sedan</td>\n",
       "      <td>$5999 (R) (B)</td>\n",
       "    </tr>\n",
       "    <tr>\n",
       "      <th>12</th>\n",
       "      <td>2005 Nissan Altima-R-(B) SE-R</td>\n",
       "      <td>$5999 (R) (B)</td>\n",
       "    </tr>\n",
       "    <tr>\n",
       "      <th>13</th>\n",
       "      <td>2007 Chevrolet Cobalt -R- (B) LT2 Sedan</td>\n",
       "      <td>$5999 (R) (B)</td>\n",
       "    </tr>\n",
       "    <tr>\n",
       "      <th>14</th>\n",
       "      <td>2006 Chevrolet Impala-R-(B) LS</td>\n",
       "      <td>$5999 (R) (B)</td>\n",
       "    </tr>\n",
       "    <tr>\n",
       "      <th>15</th>\n",
       "      <td>2008 Dodge Avenger-R-(B) SXT</td>\n",
       "      <td>$6999 (R) (B)</td>\n",
       "    </tr>\n",
       "    <tr>\n",
       "      <th>16</th>\n",
       "      <td>2008 Chevrolet Malibu -R- (C) LS</td>\n",
       "      <td>$7999 (R) (C)</td>\n",
       "    </tr>\n",
       "    <tr>\n",
       "      <th>17</th>\n",
       "      <td>2012 Kia Forte-Y-(D) LX</td>\n",
       "      <td>$8999 (Y) (D)</td>\n",
       "    </tr>\n",
       "    <tr>\n",
       "      <th>18</th>\n",
       "      <td>2008 Pontiac Pursuit -R- (B)  Base</td>\n",
       "      <td>$5999 (R) (B)</td>\n",
       "    </tr>\n",
       "    <tr>\n",
       "      <th>19</th>\n",
       "      <td>2006 Ford Focus -R- (B) ZX4 SES</td>\n",
       "      <td>$5999 (R) (B)</td>\n",
       "    </tr>\n",
       "    <tr>\n",
       "      <th>20</th>\n",
       "      <td>2008 Ford Focus -R- (B) SE Sedan</td>\n",
       "      <td>$6999 (R) (B)</td>\n",
       "    </tr>\n",
       "    <tr>\n",
       "      <th>21</th>\n",
       "      <td>2007 Chrysler Sebring (R) (C) Touring</td>\n",
       "      <td>$7999 (R) (C)</td>\n",
       "    </tr>\n",
       "    <tr>\n",
       "      <th>22</th>\n",
       "      <td>1990 Mercury Grand Marquis-Y-(A) LS</td>\n",
       "      <td>$4999 (Y) (A)</td>\n",
       "    </tr>\n",
       "    <tr>\n",
       "      <th>23</th>\n",
       "      <td>2007 Honda Civic-R-(C) EX Sedan AT with Naviga...</td>\n",
       "      <td>$7999 (R) (C)</td>\n",
       "    </tr>\n",
       "    <tr>\n",
       "      <th>24</th>\n",
       "      <td>2012 Ford Focus -R- (C) Titanium Sedan</td>\n",
       "      <td>$7999 (R) (C)</td>\n",
       "    </tr>\n",
       "    <tr>\n",
       "      <th>25</th>\n",
       "      <td>2009 Pontiac G5 -R- (B) Coupe</td>\n",
       "      <td>$5999 (R) (B)</td>\n",
       "    </tr>\n",
       "    <tr>\n",
       "      <th>26</th>\n",
       "      <td>2009 Ford Focus -Y- (B) SE Sedan</td>\n",
       "      <td>$5999 (Y) (B)</td>\n",
       "    </tr>\n",
       "    <tr>\n",
       "      <th>27</th>\n",
       "      <td>2008 Chevrolet Impala -R- (B) LT</td>\n",
       "      <td>$6999 (R) (B)</td>\n",
       "    </tr>\n",
       "    <tr>\n",
       "      <th>28</th>\n",
       "      <td>2007 Chevrolet Malibu -R- (B)  LT1</td>\n",
       "      <td>$5999 (R) (B)</td>\n",
       "    </tr>\n",
       "    <tr>\n",
       "      <th>29</th>\n",
       "      <td>2007 Chrysler Sebring -R- (B) Touring</td>\n",
       "      <td>$5999 (R) (B)</td>\n",
       "    </tr>\n",
       "  </tbody>\n",
       "</table>\n",
       "</div>"
      ],
      "text/plain": [
       "                                                Title          Price\n",
       "0                              2007 Dodge Caliber SXT  $6999 (R) (B)\n",
       "1                    2012 Ford Taurus (R) (D) SEL FWD  $8999 (R) (D)\n",
       "2                      2007 Dodge Caliber (R) (B) SXT  $6999 (R) (B)\n",
       "3                          2008 Buick Allure-G-(B) CX  $6999 (G) (B)\n",
       "4               2002 Chevrolet Cavalier (R) -A- Coupe  $4999 (R) (A)\n",
       "5                     2007 Chevrolet Malibu -R-(B) LS  $7999 (R) (B)\n",
       "6                 2004 Pontiac Grand Prix (Y) -B- GT1  $6999 (Y) (B)\n",
       "7                   2007 Pontiac G6 -R- (B) Sedan FWD  $6999 (R) (B)\n",
       "8                      2012 Chevrolet Impala-R-(B) LS  $6999 (R) (B)\n",
       "9                       2010 Ford Focus -Y- C S Sedan  $7999 (Y) (C)\n",
       "10                   2013 Chevrolet Impala -Y- (D) LT  $8999 (Y) (D)\n",
       "11                        2007 Kia Amanti-R-(B) Sedan  $5999 (R) (B)\n",
       "12                      2005 Nissan Altima-R-(B) SE-R  $5999 (R) (B)\n",
       "13            2007 Chevrolet Cobalt -R- (B) LT2 Sedan  $5999 (R) (B)\n",
       "14                     2006 Chevrolet Impala-R-(B) LS  $5999 (R) (B)\n",
       "15                       2008 Dodge Avenger-R-(B) SXT  $6999 (R) (B)\n",
       "16                   2008 Chevrolet Malibu -R- (C) LS  $7999 (R) (C)\n",
       "17                            2012 Kia Forte-Y-(D) LX  $8999 (Y) (D)\n",
       "18                 2008 Pontiac Pursuit -R- (B)  Base  $5999 (R) (B)\n",
       "19                    2006 Ford Focus -R- (B) ZX4 SES  $5999 (R) (B)\n",
       "20                   2008 Ford Focus -R- (B) SE Sedan  $6999 (R) (B)\n",
       "21              2007 Chrysler Sebring (R) (C) Touring  $7999 (R) (C)\n",
       "22                1990 Mercury Grand Marquis-Y-(A) LS  $4999 (Y) (A)\n",
       "23  2007 Honda Civic-R-(C) EX Sedan AT with Naviga...  $7999 (R) (C)\n",
       "24             2012 Ford Focus -R- (C) Titanium Sedan  $7999 (R) (C)\n",
       "25                      2009 Pontiac G5 -R- (B) Coupe  $5999 (R) (B)\n",
       "26                   2009 Ford Focus -Y- (B) SE Sedan  $5999 (Y) (B)\n",
       "27                   2008 Chevrolet Impala -R- (B) LT  $6999 (R) (B)\n",
       "28                 2007 Chevrolet Malibu -R- (B)  LT1  $5999 (R) (B)\n",
       "29              2007 Chrysler Sebring -R- (B) Touring  $5999 (R) (B)"
      ]
     },
     "execution_count": 13,
     "metadata": {},
     "output_type": "execute_result"
    }
   ],
   "source": [
    "df = pd.DataFrame.from_dict(dict,orient = 'index').T\n",
    "df"
   ]
  },
  {
   "cell_type": "code",
   "execution_count": 14,
   "metadata": {},
   "outputs": [],
   "source": [
    "#Dataframe to csv\n",
    "df.to_csv('gwbautosales.csv')"
   ]
  },
  {
   "cell_type": "code",
   "execution_count": null,
   "metadata": {},
   "outputs": [],
   "source": []
  }
 ],
 "metadata": {
  "kernelspec": {
   "display_name": "Python 3",
   "language": "python",
   "name": "python3"
  },
  "language_info": {
   "codemirror_mode": {
    "name": "ipython",
    "version": 3
   },
   "file_extension": ".py",
   "mimetype": "text/x-python",
   "name": "python",
   "nbconvert_exporter": "python",
   "pygments_lexer": "ipython3",
   "version": "3.7.3"
  }
 },
 "nbformat": 4,
 "nbformat_minor": 2
}
