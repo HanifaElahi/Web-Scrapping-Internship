{
 "cells": [
  {
   "cell_type": "code",
   "execution_count": 1,
   "metadata": {},
   "outputs": [],
   "source": [
    "from bs4 import BeautifulSoup\n",
    "import requests\n",
    "import pandas as pd\n",
    "from selenium import webdriver\n",
    "import time\n",
    "from matplotlib import pyplot as plt"
   ]
  },
  {
   "cell_type": "code",
   "execution_count": 2,
   "metadata": {},
   "outputs": [],
   "source": [
    "urla = input((\"Enter url : \"))  \n",
    "# \"http://mywinnipegcars.com/#search/\""
   ]
  },
  {
   "cell_type": "code",
   "execution_count": 3,
   "metadata": {},
   "outputs": [],
   "source": [
    "driver=webdriver.Firefox(executable_path=\"C:/Users/DELL/Downloads/geckodriver.exe\")\n",
    "#set the value of executable path\n",
    "driver.get(urla)"
   ]
  },
  {
   "cell_type": "code",
   "execution_count": 4,
   "metadata": {},
   "outputs": [],
   "source": [
    "page_source=driver.page_source"
   ]
  },
  {
   "cell_type": "code",
   "execution_count": 5,
   "metadata": {},
   "outputs": [],
   "source": [
    "#parsing the page\n",
    "soup=BeautifulSoup(page_source,'html.parser')"
   ]
  },
  {
   "cell_type": "code",
   "execution_count": 6,
   "metadata": {},
   "outputs": [
    {
     "name": "stdout",
     "output_type": "stream",
     "text": [
      "\n",
      " \n",
      "\n",
      " \n",
      " \n",
      "2006 2006 Volkswagen Beetle\n",
      "2006 | $7,995 | 105,000 Kilometers\n",
      "105,000 Kilometers\n",
      " |  Automatic\t\t\t\t\t\t\t \n",
      "\t\t\t\t\t\t\t| 5 Cylinders | $1250 Down \n",
      "$7,995\t\t\t\t\t\t\t\n",
      "\n",
      " \n",
      "\n",
      "\n",
      " \n",
      " \n",
      "\n",
      " \n",
      " \n",
      "2016 2016 Dodge Journey CVP\n",
      "2016 | $17,995 | 60,000 Kilometers\n",
      "60,000 Kilometers\n",
      "Sport Utilities |  Automatic\t\t\t\t\t\t\t \n",
      "\t\t\t\t\t\t\t|  Cylinders | $NA  Down \n",
      "$17,995\t\t\t\t\t\t\t\n",
      "\n",
      " \n",
      "\n",
      "\n",
      " \n",
      " \n",
      "\n",
      "  \n",
      " \n",
      "2016 2016 Chevrolet Cruze LT\n",
      "2016 | $11,995 | 145,000 Kilometers\n",
      "145,000 Kilometers\n",
      "Sedans and Coupes |  Automatic\t\t\t\t\t\t\t \n",
      "\t\t\t\t\t\t\t|  Cylinders | $6000 Down \n",
      "$11,995\t\t\t\t\t\t\t\n",
      "\n",
      " \n",
      "\n",
      "\n",
      " \n",
      " \n",
      "\n",
      " \n",
      " \n",
      "2010 2010 Chevrolet Impala LT\n",
      "2010 | $8,995 | 173,000 Kilometers\n",
      "173,000 Kilometers\n",
      "Sedans and Coupes |  Automatic\t\t\t\t\t\t\t \n",
      "\t\t\t\t\t\t\t|  Cylinders | $1750 Down \n",
      "$8,995\t\t\t\t\t\t\t\n",
      "\n",
      " \n",
      "\n",
      "\n",
      " \n",
      " \n",
      "\n",
      "  \n",
      " \n",
      "2005 2005 Ford F150\n",
      "2005 | $7,995 | 243,000 Kilometers\n",
      "243,000 Kilometers\n",
      "Pickup Trucks |  Automatic\t\t\t\t\t\t\t \n",
      "\t\t\t\t\t\t\t|  Cylinders | $1500 Down \n",
      "$7,995\t\t\t\t\t\t\t\n",
      "\n",
      " \n",
      "\n",
      "\n",
      " \n",
      " \n",
      "\n",
      "  \n",
      " \n",
      "2008 2008 Jeep Compass Sport 5 SPD\n",
      "2008 | $7,995 | 150,000 Kilometers\n",
      "150,000 Kilometers\n",
      "Sport Utilities |  Manual\t\t\t\t\t\t\t \n",
      "\t\t\t\t\t\t\t|  Cylinders | $1000 Down \n",
      "$7,995\t\t\t\t\t\t\t\n",
      "\n",
      " \n",
      "\n",
      "\n",
      " \n",
      " \n",
      "\n",
      " \n",
      " \n",
      "2014 2014 Smart For Two\n",
      "2014 | $8,995 | 57,000 Kilometers\n",
      "57,000 Kilometers\n",
      "Sedans and Coupes |  Automatic\t\t\t\t\t\t\t \n",
      "\t\t\t\t\t\t\t|  Cylinders | $1250 Down \n",
      "$8,995\t\t\t\t\t\t\t\n",
      "\n",
      " \n",
      "\n",
      "\n",
      " \n",
      " \n",
      "\n",
      "  \n",
      " \n",
      "2009 2009 Chevy Equinox LX\n",
      "2009 | $8,450 | 84,000 Kilometers\n",
      "84,000 Kilometers\n",
      "Sport Utilities |  Automatic\t\t\t\t\t\t\t \n",
      "\t\t\t\t\t\t\t|  Cylinders | $2000 Down \n",
      "$8,450\t\t\t\t\t\t\t\n",
      "\n",
      " \n",
      "\n",
      "\n",
      " \n",
      " \n",
      "\n",
      " \n",
      " \n",
      "2012 2012 Chevrolet Orlando\n",
      "2012 | $11,995 | 143,000 Kilometers\n",
      "143,000 Kilometers\n",
      "Sport Utilities |  Automatic\t\t\t\t\t\t\t \n",
      "\t\t\t\t\t\t\t|  Cylinders | $2500 Down \n",
      "$11,995\t\t\t\t\t\t\t\n",
      "\n",
      " \n",
      "\n",
      "\n",
      " \n",
      " \n",
      "\n",
      " \n",
      " \n",
      "2005 2005 BMW 3 Series AWD\n",
      "2005 | $8,995 | 195,000 Kilometers\n",
      "195,000 Kilometers\n",
      "Sedans and Coupes |  Automatic\t\t\t\t\t\t\t \n",
      "\t\t\t\t\t\t\t|  Cylinders | $2000 Down \n",
      "$8,995\t\t\t\t\t\t\t\n",
      "\n",
      " \n",
      "\n",
      "\n",
      " \n",
      " \n",
      "\n",
      "  \n",
      " \n",
      "2007 2007 Dodge Charger SXT\n",
      "2007 | $5,995 | 215,000 Kilometers\n",
      "215,000 Kilometers\n",
      "Sedans and Coupes |  Automatic\t\t\t\t\t\t\t \n",
      "\t\t\t\t\t\t\t|  Cylinders | $1000 Down \n",
      "$5,995\t\t\t\t\t\t\t\n",
      "\n",
      " \n",
      "\n",
      "\n",
      " \n",
      " \n",
      "\n",
      " \n",
      " \n",
      "2010 2010 Jeep Compass 4x4\n",
      "2010 | $10,995 | 159,000 Kilometers\n",
      "159,000 Kilometers\n",
      "4WD/AWD |  Automatic\t\t\t\t\t\t\t \n",
      "\t\t\t\t\t\t\t|  Cylinders | $2000 Down \n",
      "$10,995\t\t\t\t\t\t\t\n",
      "\n",
      " \n",
      "\n",
      "\n",
      " \n",
      "\n",
      " \n",
      "BACK TO TOP\n",
      "\n",
      "123 \n",
      " \n",
      "\n"
     ]
    }
   ],
   "source": [
    "#All the data present in a page is present in class detail-page-content hideOnSearch\n",
    "data=soup.findAll('div',{\"class\":\"detail-page-content hideOnSearch\"})\n",
    "#printing the extracted data of a single page\n",
    "for info in data:\n",
    "    print(info.text)"
   ]
  },
  {
   "cell_type": "code",
   "execution_count": 7,
   "metadata": {},
   "outputs": [
    {
     "name": "stdout",
     "output_type": "stream",
     "text": [
      "2006 2006 Volkswagen Beetle\n",
      "2016 2016 Dodge Journey CVP\n",
      "2016 2016 Chevrolet Cruze LT\n",
      "2010 2010 Chevrolet Impala LT\n",
      "2005 2005 Ford F150\n",
      "2008 2008 Jeep Compass Sport 5 SPD\n",
      "2014 2014 Smart For Two\n",
      "2009 2009 Chevy Equinox LX\n",
      "2012 2012 Chevrolet Orlando\n",
      "2005 2005 BMW 3 Series AWD\n",
      "2007 2007 Dodge Charger SXT\n",
      "2010 2010 Jeep Compass 4x4\n",
      "['2006 2006 Volkswagen Beetle', '2016 2016 Dodge Journey CVP', '2016 2016 Chevrolet Cruze LT', '2010 2010 Chevrolet Impala LT', '2005 2005 Ford F150', '2008 2008 Jeep Compass Sport 5 SPD', '2014 2014 Smart For Two', '2009 2009 Chevy Equinox LX', '2012 2012 Chevrolet Orlando', '2005 2005 BMW 3 Series AWD', '2007 2007 Dodge Charger SXT', '2010 2010 Jeep Compass 4x4']\n"
     ]
    },
    {
     "data": {
      "text/plain": [
       "12"
      ]
     },
     "execution_count": 7,
     "metadata": {},
     "output_type": "execute_result"
    }
   ],
   "source": [
    "#Finding the titles of cars using find_all\n",
    "#All the titles are present in p class : vehicle-name\n",
    "car_titles = []#taking an empty list\n",
    "a=soup.findAll('p',{\"class\":\"vehicle-name\"})\n",
    "for i in a :\n",
    "    print(i.text)#printing titles\n",
    "    car_titles.append(i.text)#appending values\n",
    "print(car_titles)#printing titles\n",
    "len(car_titles)#printing length of list"
   ]
  },
  {
   "cell_type": "code",
   "execution_count": 8,
   "metadata": {},
   "outputs": [
    {
     "name": "stdout",
     "output_type": "stream",
     "text": [
      "105,000 Kilometers\n",
      "60,000 Kilometers\n",
      "145,000 Kilometers\n",
      "173,000 Kilometers\n",
      "243,000 Kilometers\n",
      "150,000 Kilometers\n",
      "57,000 Kilometers\n",
      "84,000 Kilometers\n",
      "143,000 Kilometers\n",
      "195,000 Kilometers\n",
      "215,000 Kilometers\n",
      "159,000 Kilometers\n",
      "['105,000 Kilometers', '60,000 Kilometers', '145,000 Kilometers', '173,000 Kilometers', '243,000 Kilometers', '150,000 Kilometers', '57,000 Kilometers', '84,000 Kilometers', '143,000 Kilometers', '195,000 Kilometers', '215,000 Kilometers', '159,000 Kilometers']\n"
     ]
    },
    {
     "data": {
      "text/plain": [
       "12"
      ]
     },
     "execution_count": 8,
     "metadata": {},
     "output_type": "execute_result"
    }
   ],
   "source": [
    "#Finding the mileage of cars using find_all\n",
    "#All the mileage are present in p class : vehicle-miles show-for-medium-up hide-for-small\n",
    "car_mileage = []#taking an empty list\n",
    "a=soup.findAll('p',{\"class\":\"vehicle-miles show-for-medium-up hide-for-small\"})\n",
    "for i in a :\n",
    "    print(i.text)#printing mileage\n",
    "    car_mileage.append(i.text)#appending values\n",
    "print(car_mileage)#printing mileage\n",
    "len(car_mileage)#printing length of list\n"
   ]
  },
  {
   "cell_type": "code",
   "execution_count": 15,
   "metadata": {},
   "outputs": [
    {
     "name": "stdout",
     "output_type": "stream",
     "text": [
      "$7,995\t\t\t\t\t\t\t\n",
      "$17,995\t\t\t\t\t\t\t\n",
      "$11,995\t\t\t\t\t\t\t\n",
      "$8,995\t\t\t\t\t\t\t\n",
      "$7,995\t\t\t\t\t\t\t\n",
      "$7,995\t\t\t\t\t\t\t\n",
      "$8,995\t\t\t\t\t\t\t\n",
      "$8,450\t\t\t\t\t\t\t\n",
      "$11,995\t\t\t\t\t\t\t\n",
      "$8,995\t\t\t\t\t\t\t\n",
      "$5,995\t\t\t\t\t\t\t\n",
      "$10,995\t\t\t\t\t\t\t\n",
      "['$7,995', '$17,995', '$11,995', '$8,995', '$7,995', '$7,995', '$8,995', '$8,450', '$11,995', '$8,995', '$5,995', '$10,995']\n"
     ]
    },
    {
     "data": {
      "text/plain": [
       "12"
      ]
     },
     "execution_count": 15,
     "metadata": {},
     "output_type": "execute_result"
    }
   ],
   "source": [
    "#Finding the price of cars using find_all\n",
    "#All the price are present in p class : result-price show-for-medium-up hide-for-small\n",
    "car_price = []\n",
    "a=soup.findAll('p',{\"class\":\"result-price show-for-medium-up hide-for-small\"})\n",
    "for i in a :\n",
    "    print(i.text)#printing price\n",
    "    car_price.append(i.text.replace(\"\\t\\t\\t\\t\\t\\t\\t\",\"\"))#appending values\n",
    "print(car_price)#printing price\n",
    "len(car_price)#printing length of list\n"
   ]
  },
  {
   "cell_type": "code",
   "execution_count": 16,
   "metadata": {},
   "outputs": [
    {
     "name": "stdout",
     "output_type": "stream",
     "text": [
      "['$1250 ', '$NA  ', '$6000 ', '$1750 ', '$1500 ', '$1000 ', '$1250 ', '$2000 ', '$2500 ', '$2000 ', '$1000 ', '$2000 ']\n"
     ]
    },
    {
     "data": {
      "text/plain": [
       "12"
      ]
     },
     "execution_count": 16,
     "metadata": {},
     "output_type": "execute_result"
    }
   ],
   "source": [
    "#Finding the savings using find_all\n",
    "#All the savings are present in span class : vmini-hide\n",
    "savings = []\n",
    "a=soup.findAll('span',{\"class\":\"mini-hide\"})\n",
    "for i in a :\n",
    "    if 'Down' in i.text:\n",
    "        savings.append(i.text.replace(\"Down\",\"\"))#appending values\n",
    "print(savings)#printing savings\n",
    "len(savings)#printing length of list\n"
   ]
  },
  {
   "cell_type": "code",
   "execution_count": 17,
   "metadata": {},
   "outputs": [
    {
     "name": "stdout",
     "output_type": "stream",
     "text": [
      " |  Automatic\t\t\t\t\t\t\t \n",
      "\t\t\t\t\t\t\t| 5 Cylinders | $1250 Down \n",
      "Sport Utilities |  Automatic\t\t\t\t\t\t\t \n",
      "\t\t\t\t\t\t\t|  Cylinders | $NA  Down \n",
      "Sedans and Coupes |  Automatic\t\t\t\t\t\t\t \n",
      "\t\t\t\t\t\t\t|  Cylinders | $6000 Down \n",
      "Sedans and Coupes |  Automatic\t\t\t\t\t\t\t \n",
      "\t\t\t\t\t\t\t|  Cylinders | $1750 Down \n",
      "Pickup Trucks |  Automatic\t\t\t\t\t\t\t \n",
      "\t\t\t\t\t\t\t|  Cylinders | $1500 Down \n",
      "Sport Utilities |  Manual\t\t\t\t\t\t\t \n",
      "\t\t\t\t\t\t\t|  Cylinders | $1000 Down \n",
      "Sedans and Coupes |  Automatic\t\t\t\t\t\t\t \n",
      "\t\t\t\t\t\t\t|  Cylinders | $1250 Down \n",
      "Sport Utilities |  Automatic\t\t\t\t\t\t\t \n",
      "\t\t\t\t\t\t\t|  Cylinders | $2000 Down \n",
      "Sport Utilities |  Automatic\t\t\t\t\t\t\t \n",
      "\t\t\t\t\t\t\t|  Cylinders | $2500 Down \n",
      "Sedans and Coupes |  Automatic\t\t\t\t\t\t\t \n",
      "\t\t\t\t\t\t\t|  Cylinders | $2000 Down \n",
      "Sedans and Coupes |  Automatic\t\t\t\t\t\t\t \n",
      "\t\t\t\t\t\t\t|  Cylinders | $1000 Down \n",
      "4WD/AWD |  Automatic\t\t\t\t\t\t\t \n",
      "\t\t\t\t\t\t\t|  Cylinders | $2000 Down \n",
      "['|  Automatic| 5 Cylinders | $1250 Down', 'Sport Utilities |  Automatic|  Cylinders | $NA  Down', 'Sedans and Coupes |  Automatic|  Cylinders | $6000 Down', 'Sedans and Coupes |  Automatic|  Cylinders | $1750 Down', 'Pickup Trucks |  Automatic|  Cylinders | $1500 Down', 'Sport Utilities |  Manual|  Cylinders | $1000 Down', 'Sedans and Coupes |  Automatic|  Cylinders | $1250 Down', 'Sport Utilities |  Automatic|  Cylinders | $2000 Down', 'Sport Utilities |  Automatic|  Cylinders | $2500 Down', 'Sedans and Coupes |  Automatic|  Cylinders | $2000 Down', 'Sedans and Coupes |  Automatic|  Cylinders | $1000 Down', '4WD/AWD |  Automatic|  Cylinders | $2000 Down']\n"
     ]
    },
    {
     "data": {
      "text/plain": [
       "12"
      ]
     },
     "execution_count": 17,
     "metadata": {},
     "output_type": "execute_result"
    }
   ],
   "source": [
    "#Finding the details of cars using find_all\n",
    "#All the details  are present in div class : vehicle-secondary-info\n",
    "car_details = []\n",
    "a=soup.findAll('p',{\"class\":\"vehicle-secondary-info\"})\n",
    "for i in a :\n",
    "    print(i.text)#printing details\n",
    "    car_details.append(i.text.replace(\"\\t\\t\\t\\t\\t\\t\\t \\n\\t\\t\\t\\t\\t\\t\\t\",\"\").strip())#appending values\n",
    "print(car_details)#printing details\n",
    "len(car_details)#printing length of list"
   ]
  },
  {
   "cell_type": "code",
   "execution_count": 18,
   "metadata": {},
   "outputs": [],
   "source": [
    "#creating dict of scrapped data\n",
    "dict = {\n",
    "    'Title' : car_titles,\n",
    "    'Price' : car_price,\n",
    "    'Mileage':car_mileage,\n",
    "    'Savings':savings,\n",
    "    'Details' : car_details\n",
    "}"
   ]
  },
  {
   "cell_type": "code",
   "execution_count": 19,
   "metadata": {},
   "outputs": [
    {
     "data": {
      "text/html": [
       "<div>\n",
       "<style scoped>\n",
       "    .dataframe tbody tr th:only-of-type {\n",
       "        vertical-align: middle;\n",
       "    }\n",
       "\n",
       "    .dataframe tbody tr th {\n",
       "        vertical-align: top;\n",
       "    }\n",
       "\n",
       "    .dataframe thead th {\n",
       "        text-align: right;\n",
       "    }\n",
       "</style>\n",
       "<table border=\"1\" class=\"dataframe\">\n",
       "  <thead>\n",
       "    <tr style=\"text-align: right;\">\n",
       "      <th></th>\n",
       "      <th>Title</th>\n",
       "      <th>Price</th>\n",
       "      <th>Mileage</th>\n",
       "      <th>Savings</th>\n",
       "      <th>Details</th>\n",
       "    </tr>\n",
       "  </thead>\n",
       "  <tbody>\n",
       "    <tr>\n",
       "      <th>0</th>\n",
       "      <td>2006 2006 Volkswagen Beetle</td>\n",
       "      <td>$7,995</td>\n",
       "      <td>105,000 Kilometers</td>\n",
       "      <td>$1250</td>\n",
       "      <td>|  Automatic| 5 Cylinders | $1250 Down</td>\n",
       "    </tr>\n",
       "    <tr>\n",
       "      <th>1</th>\n",
       "      <td>2016 2016 Dodge Journey CVP</td>\n",
       "      <td>$17,995</td>\n",
       "      <td>60,000 Kilometers</td>\n",
       "      <td>$NA</td>\n",
       "      <td>Sport Utilities |  Automatic|  Cylinders | $NA...</td>\n",
       "    </tr>\n",
       "    <tr>\n",
       "      <th>2</th>\n",
       "      <td>2016 2016 Chevrolet Cruze LT</td>\n",
       "      <td>$11,995</td>\n",
       "      <td>145,000 Kilometers</td>\n",
       "      <td>$6000</td>\n",
       "      <td>Sedans and Coupes |  Automatic|  Cylinders | $...</td>\n",
       "    </tr>\n",
       "    <tr>\n",
       "      <th>3</th>\n",
       "      <td>2010 2010 Chevrolet Impala LT</td>\n",
       "      <td>$8,995</td>\n",
       "      <td>173,000 Kilometers</td>\n",
       "      <td>$1750</td>\n",
       "      <td>Sedans and Coupes |  Automatic|  Cylinders | $...</td>\n",
       "    </tr>\n",
       "    <tr>\n",
       "      <th>4</th>\n",
       "      <td>2005 2005 Ford F150</td>\n",
       "      <td>$7,995</td>\n",
       "      <td>243,000 Kilometers</td>\n",
       "      <td>$1500</td>\n",
       "      <td>Pickup Trucks |  Automatic|  Cylinders | $1500...</td>\n",
       "    </tr>\n",
       "    <tr>\n",
       "      <th>5</th>\n",
       "      <td>2008 2008 Jeep Compass Sport 5 SPD</td>\n",
       "      <td>$7,995</td>\n",
       "      <td>150,000 Kilometers</td>\n",
       "      <td>$1000</td>\n",
       "      <td>Sport Utilities |  Manual|  Cylinders | $1000 ...</td>\n",
       "    </tr>\n",
       "    <tr>\n",
       "      <th>6</th>\n",
       "      <td>2014 2014 Smart For Two</td>\n",
       "      <td>$8,995</td>\n",
       "      <td>57,000 Kilometers</td>\n",
       "      <td>$1250</td>\n",
       "      <td>Sedans and Coupes |  Automatic|  Cylinders | $...</td>\n",
       "    </tr>\n",
       "    <tr>\n",
       "      <th>7</th>\n",
       "      <td>2009 2009 Chevy Equinox LX</td>\n",
       "      <td>$8,450</td>\n",
       "      <td>84,000 Kilometers</td>\n",
       "      <td>$2000</td>\n",
       "      <td>Sport Utilities |  Automatic|  Cylinders | $20...</td>\n",
       "    </tr>\n",
       "    <tr>\n",
       "      <th>8</th>\n",
       "      <td>2012 2012 Chevrolet Orlando</td>\n",
       "      <td>$11,995</td>\n",
       "      <td>143,000 Kilometers</td>\n",
       "      <td>$2500</td>\n",
       "      <td>Sport Utilities |  Automatic|  Cylinders | $25...</td>\n",
       "    </tr>\n",
       "    <tr>\n",
       "      <th>9</th>\n",
       "      <td>2005 2005 BMW 3 Series AWD</td>\n",
       "      <td>$8,995</td>\n",
       "      <td>195,000 Kilometers</td>\n",
       "      <td>$2000</td>\n",
       "      <td>Sedans and Coupes |  Automatic|  Cylinders | $...</td>\n",
       "    </tr>\n",
       "    <tr>\n",
       "      <th>10</th>\n",
       "      <td>2007 2007 Dodge Charger SXT</td>\n",
       "      <td>$5,995</td>\n",
       "      <td>215,000 Kilometers</td>\n",
       "      <td>$1000</td>\n",
       "      <td>Sedans and Coupes |  Automatic|  Cylinders | $...</td>\n",
       "    </tr>\n",
       "    <tr>\n",
       "      <th>11</th>\n",
       "      <td>2010 2010 Jeep Compass 4x4</td>\n",
       "      <td>$10,995</td>\n",
       "      <td>159,000 Kilometers</td>\n",
       "      <td>$2000</td>\n",
       "      <td>4WD/AWD |  Automatic|  Cylinders | $2000 Down</td>\n",
       "    </tr>\n",
       "  </tbody>\n",
       "</table>\n",
       "</div>"
      ],
      "text/plain": [
       "                                 Title    Price             Mileage Savings  \\\n",
       "0          2006 2006 Volkswagen Beetle   $7,995  105,000 Kilometers  $1250    \n",
       "1          2016 2016 Dodge Journey CVP  $17,995   60,000 Kilometers   $NA     \n",
       "2         2016 2016 Chevrolet Cruze LT  $11,995  145,000 Kilometers  $6000    \n",
       "3        2010 2010 Chevrolet Impala LT   $8,995  173,000 Kilometers  $1750    \n",
       "4                  2005 2005 Ford F150   $7,995  243,000 Kilometers  $1500    \n",
       "5   2008 2008 Jeep Compass Sport 5 SPD   $7,995  150,000 Kilometers  $1000    \n",
       "6              2014 2014 Smart For Two   $8,995   57,000 Kilometers  $1250    \n",
       "7           2009 2009 Chevy Equinox LX   $8,450   84,000 Kilometers  $2000    \n",
       "8          2012 2012 Chevrolet Orlando  $11,995  143,000 Kilometers  $2500    \n",
       "9           2005 2005 BMW 3 Series AWD   $8,995  195,000 Kilometers  $2000    \n",
       "10         2007 2007 Dodge Charger SXT   $5,995  215,000 Kilometers  $1000    \n",
       "11          2010 2010 Jeep Compass 4x4  $10,995  159,000 Kilometers  $2000    \n",
       "\n",
       "                                              Details  \n",
       "0              |  Automatic| 5 Cylinders | $1250 Down  \n",
       "1   Sport Utilities |  Automatic|  Cylinders | $NA...  \n",
       "2   Sedans and Coupes |  Automatic|  Cylinders | $...  \n",
       "3   Sedans and Coupes |  Automatic|  Cylinders | $...  \n",
       "4   Pickup Trucks |  Automatic|  Cylinders | $1500...  \n",
       "5   Sport Utilities |  Manual|  Cylinders | $1000 ...  \n",
       "6   Sedans and Coupes |  Automatic|  Cylinders | $...  \n",
       "7   Sport Utilities |  Automatic|  Cylinders | $20...  \n",
       "8   Sport Utilities |  Automatic|  Cylinders | $25...  \n",
       "9   Sedans and Coupes |  Automatic|  Cylinders | $...  \n",
       "10  Sedans and Coupes |  Automatic|  Cylinders | $...  \n",
       "11      4WD/AWD |  Automatic|  Cylinders | $2000 Down  "
      ]
     },
     "execution_count": 19,
     "metadata": {},
     "output_type": "execute_result"
    }
   ],
   "source": [
    "df = pd.DataFrame.from_dict(dict,orient = 'index').T\n",
    "df"
   ]
  },
  {
   "cell_type": "code",
   "execution_count": 20,
   "metadata": {},
   "outputs": [],
   "source": [
    "#Dataframe to csv\n",
    "df.to_csv('mywinniepegcars.csv')"
   ]
  },
  {
   "cell_type": "code",
   "execution_count": null,
   "metadata": {},
   "outputs": [],
   "source": []
  }
 ],
 "metadata": {
  "kernelspec": {
   "display_name": "Python 3",
   "language": "python",
   "name": "python3"
  },
  "language_info": {
   "codemirror_mode": {
    "name": "ipython",
    "version": 3
   },
   "file_extension": ".py",
   "mimetype": "text/x-python",
   "name": "python",
   "nbconvert_exporter": "python",
   "pygments_lexer": "ipython3",
   "version": "3.7.3"
  }
 },
 "nbformat": 4,
 "nbformat_minor": 2
}
