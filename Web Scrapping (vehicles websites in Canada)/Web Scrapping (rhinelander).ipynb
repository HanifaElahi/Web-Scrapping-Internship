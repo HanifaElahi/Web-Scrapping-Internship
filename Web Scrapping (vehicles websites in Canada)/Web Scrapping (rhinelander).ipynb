{
 "cells": [
  {
   "cell_type": "code",
   "execution_count": 1,
   "metadata": {},
   "outputs": [],
   "source": [
    "from bs4 import BeautifulSoup\n",
    "import requests\n",
    "import pandas as pd\n",
    "from selenium import webdriver\n",
    "import time\n",
    "from matplotlib import pyplot as plt"
   ]
  },
  {
   "cell_type": "code",
   "execution_count": 2,
   "metadata": {},
   "outputs": [],
   "source": [
    "urla = \"https://www.rhinelandcar.com/new/new-vehicle-inventory.html?reset=1\""
   ]
  },
  {
   "cell_type": "code",
   "execution_count": 3,
   "metadata": {},
   "outputs": [],
   "source": [
    "driver=webdriver.Firefox(executable_path=\"C:/Users/DELL/Downloads/geckodriver.exe\")\n",
    "#set the value of executable path\n",
    "driver.get(urla)"
   ]
  },
  {
   "cell_type": "code",
   "execution_count": 4,
   "metadata": {},
   "outputs": [],
   "source": [
    "page_source=driver.page_source"
   ]
  },
  {
   "cell_type": "code",
   "execution_count": 5,
   "metadata": {},
   "outputs": [],
   "source": [
    "#parsing the page\n",
    "soup=BeautifulSoup(page_source,'html.parser')"
   ]
  },
  {
   "cell_type": "code",
   "execution_count": 6,
   "metadata": {},
   "outputs": [
    {
     "name": "stdout",
     "output_type": "stream",
     "text": [
      "[]\n"
     ]
    },
    {
     "data": {
      "text/plain": [
       "0"
      ]
     },
     "execution_count": 6,
     "metadata": {},
     "output_type": "execute_result"
    }
   ],
   "source": [
    "#Finding the titles of cars using find_all\n",
    "#All the titles are present in h2 class : centered\n",
    "car_titles = []\n",
    "a=soup.findAll('h2',{\"class\":\"centered\"})\n",
    "for i in a :\n",
    "    print(i.text.strip())#printing titles\n",
    "    car_titles.append(i.text.strip())#appending values\n",
    "print(car_titles)#printing titles\n",
    "len(car_titles)#printing length of list"
   ]
  },
  {
   "cell_type": "code",
   "execution_count": 7,
   "metadata": {},
   "outputs": [
    {
     "name": "stdout",
     "output_type": "stream",
     "text": [
      "[]\n",
      "[]\n",
      "[]\n",
      "[]\n",
      "[]\n",
      "[]\n"
     ]
    }
   ],
   "source": [
    "mileage = []\n",
    "exterior = []\n",
    "drive_type = []\n",
    "body_style = []\n",
    "vin = []\n",
    "inventory_status = []\n",
    "# taking empty lists\n",
    "\n",
    "spec= soup.findAll('div',{\"class\":\"bulletwrap\"}) # all the specs are inside class: bulletwrap\n",
    "for i in spec:\n",
    "    newsoup = BeautifulSoup(str(i),'html.parser')#using parser for scrapping inside details\n",
    "    lis = newsoup.find_all('li')#finding all li \n",
    "    for li in lis:\n",
    "        \n",
    "        if 'Mileage' in li.text: #if present\n",
    "            mileage.append(li.text.replace(\"Mileage:\",\"\"))#then append\n",
    "        if 'Exterior' in li.text:#if present\n",
    "            exterior.append(li.text.replace(\"Exterior:\",\"\"))#then append\n",
    "        if 'Drivetrain' in li.text: #if present\n",
    "            drive_type.append(li.text.replace(\"Drivetrain:\",\"\")) #then append\n",
    "        if 'Box Style' in li.text:#if present\n",
    "            body_style.append(li.text.replace(\"Box Style:\",\"\"))#then append\n",
    "        if 'VIN' in li.text: #if present\n",
    "            vin.append(li.text.replace(\"VIN:\",\"\")) #then append\n",
    "       \n",
    "        if 'Inventory Status' in li.text: #if present\n",
    "            inventory_status.append(li.text.replace(\"Inventory Status:\",\"\")) #then append\n",
    "            \n",
    "\n",
    "#printing individual lists        \n",
    "print(mileage)\n",
    "\n",
    "print(exterior)\n",
    "print(drive_type)\n",
    "print(body_style)\n",
    "print(vin)\n",
    "print(inventory_status)\n"
   ]
  },
  {
   "cell_type": "code",
   "execution_count": 8,
   "metadata": {},
   "outputs": [
    {
     "name": "stdout",
     "output_type": "stream",
     "text": [
      "[]\n"
     ]
    }
   ],
   "source": [
    "msrp = [] #taking empty list\n",
    "a = soup.findAll('div',{\"class\":\"fee-row initial\"}) #scrapping\n",
    "for i in a:\n",
    "    print(i.text)\n",
    "    msrp.append(i.text.replace(\"MSRP\",\"\"))#appending in a list\n",
    "print(msrp)  #printing list"
   ]
  },
  {
   "cell_type": "code",
   "execution_count": 9,
   "metadata": {},
   "outputs": [
    {
     "name": "stdout",
     "output_type": "stream",
     "text": [
      "[]\n"
     ]
    },
    {
     "data": {
      "text/plain": [
       "0"
      ]
     },
     "execution_count": 9,
     "metadata": {},
     "output_type": "execute_result"
    }
   ],
   "source": [
    "discount = [] #taking empty list\n",
    "a = soup.findAll('div',{\"class\":\"fee-row allowance\"})#scrapping\n",
    "for i in a:\n",
    "    print(i.text)\n",
    "    discount.append(i.text.replace(\"Delivery Allowance 29 \",\"\"))#appending in a list\n",
    "print(discount) #printing list\n",
    "len(discount)#length of list"
   ]
  },
  {
   "cell_type": "code",
   "execution_count": 10,
   "metadata": {},
   "outputs": [
    {
     "name": "stdout",
     "output_type": "stream",
     "text": [
      "[]\n"
     ]
    },
    {
     "data": {
      "text/plain": [
       "0"
      ]
     },
     "execution_count": 10,
     "metadata": {},
     "output_type": "execute_result"
    }
   ],
   "source": [
    "dealer_price = [] #taking empty list\n",
    "a = soup.findAll('div',{\"class\":\"fee-row dealerPrice\"})#scrapping\n",
    "for i in a:\n",
    "    print(i.text)\n",
    "    dealer_price.append(i.text.replace(\"Dealer Price:\",\"\"))#appending in a list\n",
    "print(dealer_price) #printing list\n",
    "len(dealer_price)#length of list"
   ]
  },
  {
   "cell_type": "code",
   "execution_count": 11,
   "metadata": {},
   "outputs": [
    {
     "ename": "NameError",
     "evalue": "name 'car_price' is not defined",
     "output_type": "error",
     "traceback": [
      "\u001b[1;31m---------------------------------------------------------------------------\u001b[0m",
      "\u001b[1;31mNameError\u001b[0m                                 Traceback (most recent call last)",
      "\u001b[1;32m<ipython-input-11-e960f5a69260>\u001b[0m in \u001b[0;36m<module>\u001b[1;34m\u001b[0m\n\u001b[0;32m      2\u001b[0m dict = {\n\u001b[0;32m      3\u001b[0m     \u001b[1;34m'Title'\u001b[0m \u001b[1;33m:\u001b[0m \u001b[0mcar_titles\u001b[0m\u001b[1;33m,\u001b[0m\u001b[1;33m\u001b[0m\u001b[1;33m\u001b[0m\u001b[0m\n\u001b[1;32m----> 4\u001b[1;33m     \u001b[1;34m'Price'\u001b[0m \u001b[1;33m:\u001b[0m \u001b[0mcar_price\u001b[0m\u001b[1;33m,\u001b[0m\u001b[1;33m\u001b[0m\u001b[1;33m\u001b[0m\u001b[0m\n\u001b[0m\u001b[0;32m      5\u001b[0m     \u001b[1;34m'Mileage'\u001b[0m\u001b[1;33m:\u001b[0m\u001b[0mmileage\u001b[0m\u001b[1;33m,\u001b[0m\u001b[1;33m\u001b[0m\u001b[1;33m\u001b[0m\u001b[0m\n\u001b[0;32m      6\u001b[0m     \u001b[1;34m'Exterior'\u001b[0m\u001b[1;33m:\u001b[0m\u001b[0mexterior\u001b[0m\u001b[1;33m,\u001b[0m\u001b[1;33m\u001b[0m\u001b[1;33m\u001b[0m\u001b[0m\n",
      "\u001b[1;31mNameError\u001b[0m: name 'car_price' is not defined"
     ]
    }
   ],
   "source": [
    "#creating dict of scrapped data\n",
    "dict = {\n",
    "    'Title' : car_titles,\n",
    "    'Price' : car_price,\n",
    "    'Mileage':mileage,\n",
    "    'Exterior':exterior,\n",
    "    'Drive Type':drive_type,\n",
    "    'Body Style':body_style,\n",
    "    'VIN':vin,\n",
    "    'Inventory Status':inventory_status,\n",
    "    'MSRP':msrp,\n",
    "    'Dealer Price':dealer_price,\n",
    "    'Discount':discount\n",
    "\n",
    "}"
   ]
  },
  {
   "cell_type": "code",
   "execution_count": null,
   "metadata": {},
   "outputs": [],
   "source": [
    "df = pd.DataFrame.from_dict(dict,orient = 'index').T\n",
    "df"
   ]
  },
  {
   "cell_type": "code",
   "execution_count": null,
   "metadata": {},
   "outputs": [],
   "source": [
    "df['Dealer'] = 'rhinelander'\n",
    "df['Condition'] = ''"
   ]
  },
  {
   "cell_type": "code",
   "execution_count": null,
   "metadata": {},
   "outputs": [],
   "source": [
    "split_title = df[\"Title\"].str.split(\" \", n = 2, expand = True) \n",
    "# splitting Tile column \n",
    "df[\"Make Year\"]= split_title[0] \n",
    "df[\"Make\"]= split_title[1] \n",
    "df[\"Model\"]= split_title[2] \n",
    "df"
   ]
  },
  {
   "cell_type": "code",
   "execution_count": null,
   "metadata": {},
   "outputs": [],
   "source": [
    "df.drop(columns =[\"Title\"], inplace = True)\n",
    "df"
   ]
  },
  {
   "cell_type": "code",
   "execution_count": null,
   "metadata": {},
   "outputs": [],
   "source": [
    "#Dataframe to csv\n",
    "df.to_csv('rhinelander.csv')"
   ]
  },
  {
   "cell_type": "code",
   "execution_count": null,
   "metadata": {},
   "outputs": [],
   "source": []
  }
 ],
 "metadata": {
  "kernelspec": {
   "display_name": "Python 3",
   "language": "python",
   "name": "python3"
  },
  "language_info": {
   "codemirror_mode": {
    "name": "ipython",
    "version": 3
   },
   "file_extension": ".py",
   "mimetype": "text/x-python",
   "name": "python",
   "nbconvert_exporter": "python",
   "pygments_lexer": "ipython3",
   "version": "3.7.3"
  }
 },
 "nbformat": 4,
 "nbformat_minor": 2
}
