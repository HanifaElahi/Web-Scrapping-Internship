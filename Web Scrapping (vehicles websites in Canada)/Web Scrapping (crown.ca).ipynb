{
 "cells": [
  {
   "cell_type": "code",
   "execution_count": null,
   "metadata": {},
   "outputs": [],
   "source": [
    "from bs4 import BeautifulSoup\n",
    "import requests\n",
    "import pandas as pd\n",
    "from selenium import webdriver\n",
    "import time\n",
    "from matplotlib import pyplot as plt"
   ]
  },
  {
   "cell_type": "code",
   "execution_count": null,
   "metadata": {},
   "outputs": [],
   "source": [
    "urla = \"https://www.crownacura.ca/used-vehicles-in-winnipeg-mb/acura/\""
   ]
  },
  {
   "cell_type": "code",
   "execution_count": null,
   "metadata": {},
   "outputs": [],
   "source": [
    "driver=webdriver.Firefox(executable_path=\"C:/Users/DELL/Downloads/geckodriver.exe\")\n",
    "#set the value of executable path\n",
    "driver.get(urla)"
   ]
  },
  {
   "cell_type": "code",
   "execution_count": null,
   "metadata": {},
   "outputs": [],
   "source": [
    "page_source=driver.page_source"
   ]
  },
  {
   "cell_type": "code",
   "execution_count": null,
   "metadata": {},
   "outputs": [],
   "source": [
    "#parsing the page\n",
    "soup=BeautifulSoup(page_source,'html.parser')"
   ]
  },
  {
   "cell_type": "code",
   "execution_count": null,
   "metadata": {},
   "outputs": [],
   "source": [
    "#All the data present in a page is present in class  vehicle list-view used-vehicle publish\n",
    "data = soup.findAll('div',{\"class\":\"vehicle list-view used-vehicle publish\"})\n",
    "#printing the extracted data of a single page\n",
    "for info in data:\n",
    "    print(info.text)"
   ]
  },
  {
   "cell_type": "code",
   "execution_count": null,
   "metadata": {},
   "outputs": [],
   "source": [
    "#Finding the titles of cars using find_all\n",
    "#All the titles are present in div class : vehicle-title clearfix\n",
    "a = soup.find_all(\"div\",{\"class\" :\"vehicle-title clearfix\"})"
   ]
  },
  {
   "cell_type": "code",
   "execution_count": null,
   "metadata": {},
   "outputs": [],
   "source": [
    "#taking an empty list\n",
    "car_titles = []\n",
    "#printing all the separate titles using for loop\n",
    "for i in a:\n",
    "    titles = i.find('h2').text.split(\"listing\")[0] # all titles are inside h2 \n",
    "    print(titles)# printing values\n",
    "    #appending values in a separate empty list\n",
    "    car_titles.append(titles)  \n",
    "print(car_titles)#printing car titles list\n",
    "len(car_titles)#length of car titles list\n"
   ]
  },
  {
   "cell_type": "code",
   "execution_count": null,
   "metadata": {},
   "outputs": [],
   "source": [
    "#Finding the price of cars using find_all\n",
    "#All the price are present in div class : vehicle-content\n",
    "c = soup.findAll(\"div\",{\"class\" :\"vehicle-content\"})\n",
    "#taking an empty list\n",
    "car_price = []\n",
    "#printing all the separate price using for loop\n",
    "for i in c:\n",
    "    prices = i.find(\"span\",{\"class\" :\"price\"}).text.strip()\n",
    "    print(prices)\n",
    "        #print(p)# printing values\n",
    "    #appending values in a separate empty list\n",
    "    car_price.append(prices)  \n",
    "print(car_price)#printing car price list\n",
    "len(car_price)#length of car price list\n"
   ]
  },
  {
   "cell_type": "code",
   "execution_count": null,
   "metadata": {},
   "outputs": [],
   "source": [
    "#Finding the location of cars using find_all\n",
    "#All the location are present in div class : vehicle-content\n",
    "d = soup.findAll(\"div\",{\"class\" :\"vehicle-content\"})\n",
    "#taking an empty list\n",
    "car_location = []\n",
    "#printing all the separate location using for loop\n",
    "for i in d:\n",
    "    location = i.find(\"div\",{\"class\" :\"price-block bottom-text\"}).text.replace(\"Location:\",\"\")\n",
    "    print(location)\n",
    "        #print(p)# printing values\n",
    "    #appending values in a separate empty list\n",
    "    car_location.append(location.strip())  \n",
    "print(car_location)#printing car location list\n",
    "len(car_location)#length of car location list"
   ]
  },
  {
   "cell_type": "code",
   "execution_count": null,
   "metadata": {},
   "outputs": [],
   "source": [
    "vin = []\n",
    "stock = []\n",
    "#taking empty lists \n",
    "\n",
    "d = soup.find_all(\"div\",{\"class\" :\"vinstock\"}) #scrapping for vin and stock\n",
    "for i in d:\n",
    "    newsoup = BeautifulSoup(str(i),'html.parser')#using parser for scrapping inside details\n",
    "    lis = newsoup.find_all('span')#finding all span inside div class\n",
    "    for li in lis: \n",
    "        if 'VIN' in li.text: #if present\n",
    "            vin.append(li.text.replace(\"VIN: \",\"\"))#then append\n",
    "        if 'Stock' in li.text:#if present\n",
    "            stock.append(li.text.replace(\"Stock #:\",\"\"))#then append\n",
    "\n",
    "#printing individual lists\n",
    "print(vin)\n",
    "print(stock)\n",
    "\n"
   ]
  },
  {
   "cell_type": "code",
   "execution_count": null,
   "metadata": {},
   "outputs": [],
   "source": [
    "#taking empty lists\n",
    "engine = []\n",
    "transmission = []\n",
    "drive_train = []\n",
    "exterior = []\n",
    "interior = []\n",
    "mileage = []\n",
    "\n",
    "d = soup.find_all(\"div\",{\"class\" :\"options\"}) # all the details are inside div class:options\n",
    "for i in d:\n",
    "    newsoup = BeautifulSoup(str(i),'html.parser')#using parser for scrapping inside details\n",
    "    lis = newsoup.find_all('li')#finding all lspan inside div class\n",
    "    for li in lis: \n",
    "        if 'Engine' in li.text:\n",
    "            engine.append(li.text.replace(\"\\nEngine:\\n\",\"\").strip())\n",
    "        if 'Trans' in li.text:\n",
    "            transmission.append(li.text.replace(\"\\nTrans:\\n\",\"\").strip())\n",
    "        if 'Drivetrain' in li.text:\n",
    "            drive_train.append(li.text.replace(\"\\nDrivetrain:\\n\",\"\").strip())\n",
    "        if 'Exterior' in li.text:\n",
    "            exterior.append(li.text.replace(\"\\nExterior:\\n\",\"\").strip())\n",
    "        if 'Interior' in li.text:\n",
    "            interior.append(li.text.replace(\"\\nInterior:\\n \",\"\").strip())\n",
    "        if 'Kilometers' in li.text:\n",
    "            mileage.append(li.text.replace(\"\\nKilometers:\\n\",\"\").strip())\n",
    "\n",
    "\n",
    "#printing individual lists            \n",
    "print(engine)\n",
    "print(transmission)\n",
    "print(drive_train)\n",
    "print(exterior)\n",
    "print(interior)\n",
    "print(mileage)"
   ]
  },
  {
   "cell_type": "code",
   "execution_count": null,
   "metadata": {},
   "outputs": [],
   "source": [
    "dict = {\n",
    "    'Title' : car_titles,\n",
    "    'Price' : car_price,\n",
    "    'Location' : car_location,\n",
    "    'VIN' : vin,\n",
    "    'Stock':stock,\n",
    "    'Engine':engine,\n",
    "    'Transmission':transmission,\n",
    "    'Exterior':exterior,\n",
    "    'Interior':interior,\n",
    "    'Drive Train':drive_train,\n",
    "    'Mileage':mileage\n",
    "}"
   ]
  },
  {
   "cell_type": "code",
   "execution_count": null,
   "metadata": {},
   "outputs": [],
   "source": [
    "df = pd.DataFrame.from_dict(dict,orient = 'index').T"
   ]
  },
  {
   "cell_type": "code",
   "execution_count": null,
   "metadata": {},
   "outputs": [],
   "source": [
    "df"
   ]
  },
  {
   "cell_type": "code",
   "execution_count": null,
   "metadata": {},
   "outputs": [],
   "source": [
    "#Dataframe to csv\n",
    "df.to_csv('crownacura.csv')\n"
   ]
  },
  {
   "cell_type": "code",
   "execution_count": null,
   "metadata": {},
   "outputs": [],
   "source": []
  },
  {
   "cell_type": "code",
   "execution_count": null,
   "metadata": {},
   "outputs": [],
   "source": []
  }
 ],
 "metadata": {
  "kernelspec": {
   "display_name": "Python 3",
   "language": "python",
   "name": "python3"
  },
  "language_info": {
   "codemirror_mode": {
    "name": "ipython",
    "version": 3
   },
   "file_extension": ".py",
   "mimetype": "text/x-python",
   "name": "python",
   "nbconvert_exporter": "python",
   "pygments_lexer": "ipython3",
   "version": "3.7.3"
  }
 },
 "nbformat": 4,
 "nbformat_minor": 2
}
