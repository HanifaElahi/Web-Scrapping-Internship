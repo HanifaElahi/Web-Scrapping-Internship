{
 "cells": [
  {
   "cell_type": "code",
   "execution_count": 1,
   "metadata": {},
   "outputs": [],
   "source": [
    "from bs4 import BeautifulSoup\n",
    "import requests\n",
    "import pandas as pd\n",
    "from selenium import webdriver\n",
    "import time\n",
    "from matplotlib import pyplot as plt"
   ]
  },
  {
   "cell_type": "code",
   "execution_count": 2,
   "metadata": {},
   "outputs": [],
   "source": [
    "urla = \"https://www.kijijiautos.ca/cars/\""
   ]
  },
  {
   "cell_type": "code",
   "execution_count": 3,
   "metadata": {},
   "outputs": [],
   "source": [
    "driver=webdriver.Firefox(executable_path=\"C:/Users/DELL/Downloads/geckodriver.exe\")\n",
    "#set the value of executable path\n",
    "driver.get(urla)"
   ]
  },
  {
   "cell_type": "code",
   "execution_count": 4,
   "metadata": {},
   "outputs": [],
   "source": [
    "page_source=driver.page_source"
   ]
  },
  {
   "cell_type": "code",
   "execution_count": 5,
   "metadata": {},
   "outputs": [],
   "source": [
    "#parsing the page\n",
    "soup=BeautifulSoup(page_source,'html.parser')"
   ]
  },
  {
   "cell_type": "code",
   "execution_count": 6,
   "metadata": {},
   "outputs": [],
   "source": [
    "#All the data present in a page is present in class _3u466m36pAjbJF3m4gZEwr\n",
    "data = soup.findAll('div',{\"class\":\"_3u466m36pAjbJF3m4gZEwr\"})\n",
    "#printing the extracted data of a single page\n",
    "for info in data:\n",
    "    print(info.text)"
   ]
  },
  {
   "cell_type": "code",
   "execution_count": 7,
   "metadata": {},
   "outputs": [
    {
     "name": "stdout",
     "output_type": "stream",
     "text": [
      "PROMOTED2006 Toyota 4-Runner Sport Edition\n",
      "PROMOTED2020 Chevrolet Traverse LT Cloth\n",
      "1992 Chevrolet S-10 Tahoe\n",
      "2007 Ford F 150\n",
      "2003 Volkswagen Beetle\n",
      "2014 Chrysler 200 LX\n",
      "2010 GMC Sierra 1500 SLT\n",
      "2013 Hyundai Elantra GT GLS\n",
      "2009 Infiniti G35x\n",
      "2003 Honda Pilot\n",
      "PROMOTED2011 GMC Acadia SLE *MONTH-END SPECIAL*|HEATED SEATS|BKPCAM|SAT|\n",
      "PROMOTED2020 Hyundai Elantra Preferred IVT\n",
      "2014 Cadillac SRX\n",
      "1988 Mazda RX-7 Fc\n",
      "2008 Volkswagen Jetta se\n",
      "It runs very good condition\n",
      "2001 Toyota Sequoia\n",
      "2010 Acura TSX Techno;ogy Package\n",
      "2017 Tesla Model X 90D / FULL SELF DRIVING / 22\" SILVER ALLOY RIMS \n",
      "2018 Lexus RX\n",
      "['PROMOTED2006 Toyota 4-Runner Sport Edition', 'PROMOTED2020 Chevrolet Traverse LT Cloth', '1992 Chevrolet S-10 Tahoe', '2007 Ford F 150', '2003 Volkswagen Beetle', '2014 Chrysler 200 LX', '2010 GMC Sierra 1500 SLT', '2013 Hyundai Elantra GT GLS', '2009 Infiniti G35x', '2003 Honda Pilot', 'PROMOTED2011 GMC Acadia SLE *MONTH-END SPECIAL*|HEATED SEATS|BKPCAM|SAT|', 'PROMOTED2020 Hyundai Elantra Preferred IVT', '2014 Cadillac SRX', '1988 Mazda RX-7 Fc', '2008 Volkswagen Jetta se', 'It runs very good condition', '2001 Toyota Sequoia', '2010 Acura TSX Techno;ogy Package', '2017 Tesla Model X 90D / FULL SELF DRIVING / 22\" SILVER ALLOY RIMS ', '2018 Lexus RX']\n"
     ]
    },
    {
     "data": {
      "text/plain": [
       "20"
      ]
     },
     "execution_count": 7,
     "metadata": {},
     "output_type": "execute_result"
    }
   ],
   "source": [
    "#Finding the titles of cars using find_all\n",
    "#All the titles are present in span class : _3jBWYAEU6W4f4h0_uQWlSw\n",
    "titles=soup.find_all(\"div\",{\"class\" :\"_3jBWYAEU6W4f4h0_uQWlSw\"})\n",
    "\n",
    "#taking an empty list\n",
    "car_title = []\n",
    "#printing all the separate titles using for loop\n",
    "for title in titles:\n",
    "    print(title.text)# printing values\n",
    "    #appending values in a separate empty list\n",
    "    car_title.append(title.text.replace(\"PROMOTED\",''))  \n",
    "print(car_title)#printing car titles list\n",
    "len(car_title)#length of car titles list"
   ]
  },
  {
   "cell_type": "code",
   "execution_count": 8,
   "metadata": {},
   "outputs": [
    {
     "name": "stdout",
     "output_type": "stream",
     "text": [
      "394,100 km\n",
      "New car\n",
      "250,000 km\n",
      "185,000 km\n",
      "187,000 km\n",
      "63,777 km\n",
      "290,000 km\n",
      "107,000 km\n",
      "248,000 km\n",
      "227,357 km\n",
      "195,450 km\n",
      "9,428 km\n",
      "140,000 km\n",
      "12,500 km\n",
      "184,351 km\n",
      "115,600 km\n",
      "400,000 km\n",
      "232,000 km\n",
      "58,510 km\n",
      "32,606 km\n",
      "['394,100\\xa0km', 'New car', '250,000\\xa0km', '185,000\\xa0km', '187,000\\xa0km', '63,777\\xa0km', '290,000\\xa0km', '107,000\\xa0km', '248,000\\xa0km', '227,357\\xa0km', '195,450\\xa0km', '9,428\\xa0km', '140,000\\xa0km', '12,500\\xa0km', '184,351\\xa0km', '115,600\\xa0km', '400,000\\xa0km', '232,000\\xa0km', '58,510\\xa0km', '32,606\\xa0km']\n"
     ]
    },
    {
     "data": {
      "text/plain": [
       "20"
      ]
     },
     "execution_count": 8,
     "metadata": {},
     "output_type": "execute_result"
    }
   ],
   "source": [
    "#Finding the mileage of cars using find_all\n",
    "#All the mileage values are present in ul class : _3037a98WwBf6dE0-m7olgt _2BwILa9sL94aNey9brV9Eb\n",
    "a = soup.find_all(\"ul\",{\"class\" :\"_3037a98WwBf6dE0-m7olgt _2BwILa9sL94aNey9brV9Eb\"})\n",
    "\n",
    "#taking an empty list\n",
    "car_mileage=[]\n",
    "#printing all the separate mileage values using for loop\n",
    "for i in a:\n",
    "    mileage = i.find(\"li\",{\"class\" :\"CHKTkxN--fPPouXAdU7EV DMyxB523aaKjukBpw8RVf\"}).text.split(\"li\")[0]#all the mileage values are inside a li class\n",
    "    print(mileage) # printing values\n",
    "    #appending values in a separate empty list\n",
    "    car_mileage.append(mileage)    \n",
    "print(car_mileage) #printing car mileage list\n",
    "len(car_mileage) #length of car mileage list"
   ]
  },
  {
   "cell_type": "code",
   "execution_count": 9,
   "metadata": {},
   "outputs": [
    {
     "name": "stdout",
     "output_type": "stream",
     "text": [
      "-\n",
      "North Battleford\n",
      "South Central Edmonton\n",
      "-\n",
      "Prince George\n",
      "-\n",
      "Red Deer\n",
      "-\n",
      "-\n",
      "-\n",
      "North York\n",
      "Napanee\n",
      "-\n",
      "Ledbury - Heron Gate - Ridgemont - Elmwood\n",
      "-\n",
      "York\n",
      "-\n",
      "Dovercourt\n",
      "Toronto\n",
      "Brampton\n",
      "['-', 'North Battleford', 'South Central Edmonton', '-', 'Prince George', '-', 'Red Deer', '-', '-', '-', 'North York', 'Napanee', '-', 'Ledbury - Heron Gate - Ridgemont - Elmwood', '-', 'York', '-', 'Dovercourt', 'Toronto', 'Brampton']\n"
     ]
    },
    {
     "data": {
      "text/plain": [
       "20"
      ]
     },
     "execution_count": 9,
     "metadata": {},
     "output_type": "execute_result"
    }
   ],
   "source": [
    "#Finding the location of cars using find_all\n",
    "#All the location  are present in ul class :_3037a98WwBf6dE0-m7olgt _2BwILa9sL94aNey9brV9Eb\n",
    "b = soup.find_all(\"ul\",{\"class\" :\"_3037a98WwBf6dE0-m7olgt _2BwILa9sL94aNey9brV9Eb\"})\n",
    "\n",
    "#taking an empty list\n",
    "car_location = []\n",
    "#printing all the separate location values using for loop\n",
    "for i in b:\n",
    "    location = i.find(\"li\",{\"class\" :\"CHKTkxN--fPPouXAdU7EV DMyxB523aaKjukBpw8RVf _1nxETRmdJY_lgfg1uXbgn9\"}).text.strip()#all the locations are inside a li class\n",
    "    print(location) # printing values\n",
    "    #appending values in a separate empty list\n",
    "    car_location.append(location)    \n",
    "print(car_location) #printing car location list\n",
    "len(car_location) #length of car location list"
   ]
  },
  {
   "cell_type": "code",
   "execution_count": 10,
   "metadata": {},
   "outputs": [
    {
     "name": "stdout",
     "output_type": "stream",
     "text": [
      "$9,885\n",
      "$46,393\n",
      "$5,000\n",
      "$6,999\n",
      "$3,900\n",
      "$6,600\n",
      "$11,900\n",
      "$8,700\n",
      "$2,600\n",
      "$2,600\n",
      "$4,995\n",
      "$18,495\n",
      "$12,500\n",
      "$11,000\n",
      "$2,900\n",
      "$2,200\n",
      "$2,999\n",
      "$8,400\n",
      "$96,999\n",
      "$48,500\n",
      "['$9,885', '$46,393', '$5,000', '$6,999', '$3,900', '$6,600', '$11,900', '$8,700', '$2,600', '$2,600', '$4,995', '$18,495', '$12,500', '$11,000', '$2,900', '$2,200', '$2,999', '$8,400', '$96,999', '$48,500']\n"
     ]
    },
    {
     "data": {
      "text/plain": [
       "20"
      ]
     },
     "execution_count": 10,
     "metadata": {},
     "output_type": "execute_result"
    }
   ],
   "source": [
    "#Finding the price of cars using find_all\n",
    "#All the price values are present in span class : _1J5RnjPtyBIs3xN7PgYve8\n",
    "d = soup.find_all(\"div\",{\"class\" :\"_1J5RnjPtyBIs3xN7PgYve8\"})\n",
    "\n",
    "#taking an empty list\n",
    "car_price = []\n",
    "#printing all the separate price values using for loop\n",
    "for i in d:\n",
    "    price = i.find(\"span\",{\"class\" :\"_2zkxeQN7m4FOG4I3VDi6Ue _2vzukMZ1OuwuqTy7CPad-i mjWfW13SHgIHyZfo80E9P _3xSlJhtw8c66mKjEAmR5A\"}).text.strip()#all the prices are inside a li class\n",
    "    print(price) # printing values\n",
    "    #appending values in a separate empty list\n",
    "    car_price.append(price)    \n",
    "print(car_price) #printing car price list\n",
    "len(car_price) #length of car price list"
   ]
  },
  {
   "cell_type": "code",
   "execution_count": 11,
   "metadata": {},
   "outputs": [
    {
     "name": "stdout",
     "output_type": "stream",
     "text": [
      "['Gas', 'Gas', 'Gas', 'Gas', 'Gas', 'Gas', 'Gas', 'Gas', 'Gas', 'Gas', 'Gas', 'Gas', 'Gas', 'Gas', 'Gas']\n"
     ]
    }
   ],
   "source": [
    "fuel_type = []\n",
    "# taking empty list\n",
    "\n",
    "#fuel type is inside li class: CHKTkxN--fPPouXAdU7EV DMyxB523aaKjukBpw8RVf\n",
    "spec= soup.find_all(\"li\",{\"class\": \"CHKTkxN--fPPouXAdU7EV DMyxB523aaKjukBpw8RVf\"})\n",
    "\n",
    "for i in spec:\n",
    "    if 'Gas' in i.text:\n",
    "        fuel_type.append(i.text)\n",
    "print(fuel_type)"
   ]
  },
  {
   "cell_type": "code",
   "execution_count": 12,
   "metadata": {},
   "outputs": [],
   "source": [
    "#creating dict of scrapped data\n",
    "dict = {\n",
    "    'Title' : car_title ,\n",
    "    'Mileage' : car_mileage , \n",
    "    'Location' : car_location ,  \n",
    "    'Price ': car_price,\n",
    "    'Fuel Type':fuel_type\n",
    "}"
   ]
  },
  {
   "cell_type": "code",
   "execution_count": 13,
   "metadata": {},
   "outputs": [
    {
     "data": {
      "text/html": [
       "<div>\n",
       "<style scoped>\n",
       "    .dataframe tbody tr th:only-of-type {\n",
       "        vertical-align: middle;\n",
       "    }\n",
       "\n",
       "    .dataframe tbody tr th {\n",
       "        vertical-align: top;\n",
       "    }\n",
       "\n",
       "    .dataframe thead th {\n",
       "        text-align: right;\n",
       "    }\n",
       "</style>\n",
       "<table border=\"1\" class=\"dataframe\">\n",
       "  <thead>\n",
       "    <tr style=\"text-align: right;\">\n",
       "      <th></th>\n",
       "      <th>Title</th>\n",
       "      <th>Mileage</th>\n",
       "      <th>Location</th>\n",
       "      <th>Price</th>\n",
       "      <th>Fuel Type</th>\n",
       "    </tr>\n",
       "  </thead>\n",
       "  <tbody>\n",
       "    <tr>\n",
       "      <th>0</th>\n",
       "      <td>PROMOTED2006 Toyota 4-Runner Sport Edition</td>\n",
       "      <td>394,100 km</td>\n",
       "      <td>-</td>\n",
       "      <td>$9,885</td>\n",
       "      <td>Gas</td>\n",
       "    </tr>\n",
       "    <tr>\n",
       "      <th>1</th>\n",
       "      <td>PROMOTED2020 Chevrolet Traverse LT Cloth</td>\n",
       "      <td>New car</td>\n",
       "      <td>North Battleford</td>\n",
       "      <td>$46,393</td>\n",
       "      <td>Gas</td>\n",
       "    </tr>\n",
       "    <tr>\n",
       "      <th>2</th>\n",
       "      <td>1992 Chevrolet S-10 Tahoe</td>\n",
       "      <td>250,000 km</td>\n",
       "      <td>South Central Edmonton</td>\n",
       "      <td>$5,000</td>\n",
       "      <td>Gas</td>\n",
       "    </tr>\n",
       "    <tr>\n",
       "      <th>3</th>\n",
       "      <td>2007 Ford F 150</td>\n",
       "      <td>185,000 km</td>\n",
       "      <td>-</td>\n",
       "      <td>$6,999</td>\n",
       "      <td>Gas</td>\n",
       "    </tr>\n",
       "    <tr>\n",
       "      <th>4</th>\n",
       "      <td>2003 Volkswagen Beetle</td>\n",
       "      <td>187,000 km</td>\n",
       "      <td>Prince George</td>\n",
       "      <td>$3,900</td>\n",
       "      <td>Gas</td>\n",
       "    </tr>\n",
       "    <tr>\n",
       "      <th>5</th>\n",
       "      <td>2014 Chrysler 200 LX</td>\n",
       "      <td>63,777 km</td>\n",
       "      <td>-</td>\n",
       "      <td>$6,600</td>\n",
       "      <td>Gas</td>\n",
       "    </tr>\n",
       "    <tr>\n",
       "      <th>6</th>\n",
       "      <td>2010 GMC Sierra 1500 SLT</td>\n",
       "      <td>290,000 km</td>\n",
       "      <td>Red Deer</td>\n",
       "      <td>$11,900</td>\n",
       "      <td>Gas</td>\n",
       "    </tr>\n",
       "    <tr>\n",
       "      <th>7</th>\n",
       "      <td>2013 Hyundai Elantra GT GLS</td>\n",
       "      <td>107,000 km</td>\n",
       "      <td>-</td>\n",
       "      <td>$8,700</td>\n",
       "      <td>Gas</td>\n",
       "    </tr>\n",
       "    <tr>\n",
       "      <th>8</th>\n",
       "      <td>2009 Infiniti G35x</td>\n",
       "      <td>248,000 km</td>\n",
       "      <td>-</td>\n",
       "      <td>$2,600</td>\n",
       "      <td>Gas</td>\n",
       "    </tr>\n",
       "    <tr>\n",
       "      <th>9</th>\n",
       "      <td>2003 Honda Pilot</td>\n",
       "      <td>227,357 km</td>\n",
       "      <td>-</td>\n",
       "      <td>$2,600</td>\n",
       "      <td>Gas</td>\n",
       "    </tr>\n",
       "    <tr>\n",
       "      <th>10</th>\n",
       "      <td>PROMOTED2011 GMC Acadia SLE *MONTH-END SPECIAL...</td>\n",
       "      <td>195,450 km</td>\n",
       "      <td>North York</td>\n",
       "      <td>$4,995</td>\n",
       "      <td>Gas</td>\n",
       "    </tr>\n",
       "    <tr>\n",
       "      <th>11</th>\n",
       "      <td>PROMOTED2020 Hyundai Elantra Preferred IVT</td>\n",
       "      <td>9,428 km</td>\n",
       "      <td>Napanee</td>\n",
       "      <td>$18,495</td>\n",
       "      <td>Gas</td>\n",
       "    </tr>\n",
       "    <tr>\n",
       "      <th>12</th>\n",
       "      <td>2014 Cadillac SRX</td>\n",
       "      <td>140,000 km</td>\n",
       "      <td>-</td>\n",
       "      <td>$12,500</td>\n",
       "      <td>Gas</td>\n",
       "    </tr>\n",
       "    <tr>\n",
       "      <th>13</th>\n",
       "      <td>1988 Mazda RX-7 Fc</td>\n",
       "      <td>12,500 km</td>\n",
       "      <td>Ledbury - Heron Gate - Ridgemont - Elmwood</td>\n",
       "      <td>$11,000</td>\n",
       "      <td>Gas</td>\n",
       "    </tr>\n",
       "    <tr>\n",
       "      <th>14</th>\n",
       "      <td>2008 Volkswagen Jetta se</td>\n",
       "      <td>184,351 km</td>\n",
       "      <td>-</td>\n",
       "      <td>$2,900</td>\n",
       "      <td>Gas</td>\n",
       "    </tr>\n",
       "    <tr>\n",
       "      <th>15</th>\n",
       "      <td>It runs very good condition</td>\n",
       "      <td>115,600 km</td>\n",
       "      <td>York</td>\n",
       "      <td>$2,200</td>\n",
       "      <td>None</td>\n",
       "    </tr>\n",
       "    <tr>\n",
       "      <th>16</th>\n",
       "      <td>2001 Toyota Sequoia</td>\n",
       "      <td>400,000 km</td>\n",
       "      <td>-</td>\n",
       "      <td>$2,999</td>\n",
       "      <td>None</td>\n",
       "    </tr>\n",
       "    <tr>\n",
       "      <th>17</th>\n",
       "      <td>2010 Acura TSX Techno;ogy Package</td>\n",
       "      <td>232,000 km</td>\n",
       "      <td>Dovercourt</td>\n",
       "      <td>$8,400</td>\n",
       "      <td>None</td>\n",
       "    </tr>\n",
       "    <tr>\n",
       "      <th>18</th>\n",
       "      <td>2017 Tesla Model X 90D / FULL SELF DRIVING / 2...</td>\n",
       "      <td>58,510 km</td>\n",
       "      <td>Toronto</td>\n",
       "      <td>$96,999</td>\n",
       "      <td>None</td>\n",
       "    </tr>\n",
       "    <tr>\n",
       "      <th>19</th>\n",
       "      <td>2018 Lexus RX</td>\n",
       "      <td>32,606 km</td>\n",
       "      <td>Brampton</td>\n",
       "      <td>$48,500</td>\n",
       "      <td>None</td>\n",
       "    </tr>\n",
       "  </tbody>\n",
       "</table>\n",
       "</div>"
      ],
      "text/plain": [
       "                                                Title     Mileage  \\\n",
       "0          PROMOTED2006 Toyota 4-Runner Sport Edition  394,100 km   \n",
       "1            PROMOTED2020 Chevrolet Traverse LT Cloth     New car   \n",
       "2                           1992 Chevrolet S-10 Tahoe  250,000 km   \n",
       "3                                     2007 Ford F 150  185,000 km   \n",
       "4                              2003 Volkswagen Beetle  187,000 km   \n",
       "5                                2014 Chrysler 200 LX   63,777 km   \n",
       "6                            2010 GMC Sierra 1500 SLT  290,000 km   \n",
       "7                         2013 Hyundai Elantra GT GLS  107,000 km   \n",
       "8                                  2009 Infiniti G35x  248,000 km   \n",
       "9                                    2003 Honda Pilot  227,357 km   \n",
       "10  PROMOTED2011 GMC Acadia SLE *MONTH-END SPECIAL...  195,450 km   \n",
       "11         PROMOTED2020 Hyundai Elantra Preferred IVT    9,428 km   \n",
       "12                                  2014 Cadillac SRX  140,000 km   \n",
       "13                                 1988 Mazda RX-7 Fc   12,500 km   \n",
       "14                           2008 Volkswagen Jetta se  184,351 km   \n",
       "15                        It runs very good condition  115,600 km   \n",
       "16                                2001 Toyota Sequoia  400,000 km   \n",
       "17                  2010 Acura TSX Techno;ogy Package  232,000 km   \n",
       "18  2017 Tesla Model X 90D / FULL SELF DRIVING / 2...   58,510 km   \n",
       "19                                      2018 Lexus RX   32,606 km   \n",
       "\n",
       "                                      Location   Price  Fuel Type  \n",
       "0                                            -   $9,885       Gas  \n",
       "1                             North Battleford  $46,393       Gas  \n",
       "2                       South Central Edmonton   $5,000       Gas  \n",
       "3                                            -   $6,999       Gas  \n",
       "4                                Prince George   $3,900       Gas  \n",
       "5                                            -   $6,600       Gas  \n",
       "6                                     Red Deer  $11,900       Gas  \n",
       "7                                            -   $8,700       Gas  \n",
       "8                                            -   $2,600       Gas  \n",
       "9                                            -   $2,600       Gas  \n",
       "10                                  North York   $4,995       Gas  \n",
       "11                                     Napanee  $18,495       Gas  \n",
       "12                                           -  $12,500       Gas  \n",
       "13  Ledbury - Heron Gate - Ridgemont - Elmwood  $11,000       Gas  \n",
       "14                                           -   $2,900       Gas  \n",
       "15                                        York   $2,200      None  \n",
       "16                                           -   $2,999      None  \n",
       "17                                  Dovercourt   $8,400      None  \n",
       "18                                     Toronto  $96,999      None  \n",
       "19                                    Brampton  $48,500      None  "
      ]
     },
     "execution_count": 13,
     "metadata": {},
     "output_type": "execute_result"
    }
   ],
   "source": [
    "#creating dataframe from dict\n",
    "df = pd.DataFrame.from_dict(dict,orient = 'index').T\n",
    "df"
   ]
  },
  {
   "cell_type": "code",
   "execution_count": 14,
   "metadata": {},
   "outputs": [],
   "source": [
    "#Dataframe to csv\n",
    "df.to_csv('kijijis_autos.csv')"
   ]
  },
  {
   "cell_type": "code",
   "execution_count": null,
   "metadata": {},
   "outputs": [],
   "source": []
  }
 ],
 "metadata": {
  "kernelspec": {
   "display_name": "Python 3",
   "language": "python",
   "name": "python3"
  },
  "language_info": {
   "codemirror_mode": {
    "name": "ipython",
    "version": 3
   },
   "file_extension": ".py",
   "mimetype": "text/x-python",
   "name": "python",
   "nbconvert_exporter": "python",
   "pygments_lexer": "ipython3",
   "version": "3.7.3"
  }
 },
 "nbformat": 4,
 "nbformat_minor": 2
}
