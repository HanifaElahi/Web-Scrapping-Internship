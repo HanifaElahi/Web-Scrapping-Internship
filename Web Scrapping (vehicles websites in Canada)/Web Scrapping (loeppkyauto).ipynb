{
 "cells": [
  {
   "cell_type": "code",
   "execution_count": 1,
   "metadata": {},
   "outputs": [],
   "source": [
    "from bs4 import BeautifulSoup\n",
    "import requests\n",
    "import pandas as pd\n",
    "from selenium import webdriver\n",
    "import time\n",
    "from matplotlib import pyplot as plt"
   ]
  },
  {
   "cell_type": "code",
   "execution_count": 2,
   "metadata": {},
   "outputs": [],
   "source": [
    "urla = input((\"Enter url : \")) \n",
    "# \"https://www.loeppkyauto.ca/vehicles/?fn=&pr=&mk=&md=&tr=&bs=&od=&yr=&v1=Passenger%20Vehicles&view=grid\""
   ]
  },
  {
   "cell_type": "code",
   "execution_count": 3,
   "metadata": {},
   "outputs": [],
   "source": [
    "driver=webdriver.Firefox(executable_path=\"C:/Users/DELL/Downloads/geckodriver.exe\")\n",
    "#set the value of executable path\n",
    "driver.get(urla)"
   ]
  },
  {
   "cell_type": "code",
   "execution_count": 4,
   "metadata": {},
   "outputs": [],
   "source": [
    "page_source=driver.page_source"
   ]
  },
  {
   "cell_type": "code",
   "execution_count": 5,
   "metadata": {},
   "outputs": [],
   "source": [
    "#parsing the page\n",
    "soup=BeautifulSoup(page_source,'html.parser')"
   ]
  },
  {
   "cell_type": "code",
   "execution_count": 6,
   "metadata": {},
   "outputs": [
    {
     "name": "stdout",
     "output_type": "stream",
     "text": [
      "        2017 Ford Escape SE    View Pre-Owned Certification\t\t\t\t\t  Pre-Owned Certification          Dealer Price  $14,995  \n",
      "\t\t\t\t\t\t\t\t\t+ Tax\t\t\t\t\t\t\t\t  We analyzed similar vehicles in your area and calculated that this vehicle is priced lower than the average making it a Great Price.  Est. Finance Payment  $101 \n",
      "\t\t\t\t\t\t\t\t\t\t/bw\n",
      "\t\t\t\t\t\t\t\t\t  Click to open payment calculator \n",
      "\t\t\t\t\t\t\t\t\t5.99% for 84 Months\t\t\t\t\t\t\t\t    VIN: 1FMCU0GDXHUE59224Kilometres: 102,000Condition: UsedBody Style: SUVEngine: 1.5 \n",
      "\t\t\t\tView More Details\n",
      "\t\t\t   Compare     Compare          2018 Toyota Camry LE    View Pre-Owned Certification\t\t\t\t\t  Pre-Owned Certification          Dealer Price  $18,995  \n",
      "\t\t\t\t\t\t\t\t\t+ Tax\t\t\t\t\t\t\t\t  We analyzed similar vehicles in your area and calculated that this vehicle is priced lower than the average making it a Great Price.  Est. Finance Payment  $128 \n",
      "\t\t\t\t\t\t\t\t\t\t/bw\n",
      "\t\t\t\t\t\t\t\t\t  Click to open payment calculator \n",
      "\t\t\t\t\t\t\t\t\t5.99% for 84 Months\t\t\t\t\t\t\t\t    VIN: 4T1B11HK7JU601543Kilometres: 114,000Condition: UsedBody Style: SedanEngine: 2.5 \n",
      "\t\t\t\tView More Details\n",
      "\t\t\t   Compare     Compare          2016 Ford Flex SEL    View Pre-Owned Certification\t\t\t\t\t  Pre-Owned Certification          Dealer Price  $22,995  \n",
      "\t\t\t\t\t\t\t\t\t+ Tax\t\t\t\t\t\t\t\t  Est. Finance Payment  $176 \n",
      "\t\t\t\t\t\t\t\t\t\t/bw\n",
      "\t\t\t\t\t\t\t\t\t  Click to open payment calculator \n",
      "\t\t\t\t\t\t\t\t\t5.99% for 72 Months\t\t\t\t\t\t\t\t    VIN: 48643834Kilometres: 97,000Condition: UsedBody Style: OtherEngine: 3.5 \n",
      "\t\t\t\tView More Details\n",
      "\t\t\t   Compare     Compare          2018 Acura MDX NAVI    View Pre-Owned Certification\t\t\t\t\t  Pre-Owned Certification          Dealer Price  $38,995  \n",
      "\t\t\t\t\t\t\t\t\t+ Tax\t\t\t\t\t\t\t\t  Est. Finance Payment  $263 \n",
      "\t\t\t\t\t\t\t\t\t\t/bw\n",
      "\t\t\t\t\t\t\t\t\t  Click to open payment calculator \n",
      "\t\t\t\t\t\t\t\t\t5.99% for 84 Months\t\t\t\t\t\t\t\t    VIN: 48643963Kilometres: 50,000Condition: UsedBody Style: OtherEngine: 3.5 \n",
      "\t\t\t\tView More Details\n",
      "\t\t\t   Compare     Compare          2012 Acura MDX     View Pre-Owned Certification\t\t\t\t\t  Pre-Owned Certification          Dealer Price  $17,995  \n",
      "\t\t\t\t\t\t\t\t\t+ Tax\t\t\t\t\t\t\t\t  Est. Finance Payment  $199 \n",
      "\t\t\t\t\t\t\t\t\t\t/bw\n",
      "\t\t\t\t\t\t\t\t\t  Click to open payment calculator \n",
      "\t\t\t\t\t\t\t\t\t6.99% for 48 Months\t\t\t\t\t\t\t\t    VIN: 48774316Kilometres: 150,000Condition: UsedBody Style: OtherEngine: 3.7 \n",
      "\t\t\t\tView More Details\n",
      "\t\t\t   Compare     Compare          2018 Jeep Grand Cherokee LIMITED 4x4 leather ...    View Pre-Owned Certification\t\t\t\t\t  Pre-Owned Certification          Dealer Price  $32,995  \n",
      "\t\t\t\t\t\t\t\t\t+ Tax\t\t\t\t\t\t\t\t  Est. Finance Payment  $222 \n",
      "\t\t\t\t\t\t\t\t\t\t/bw\n",
      "\t\t\t\t\t\t\t\t\t  Click to open payment calculator \n",
      "\t\t\t\t\t\t\t\t\t5.99% for 84 Months\t\t\t\t\t\t\t\t    VIN: 48891349Kilometres: 70,000Condition: UsedBody Style: OtherEngine: 3.6 \n",
      "\t\t\t\tView More Details\n",
      "\t\t\t   Compare     Compare          2018 Ford Edge SEL AWD LEATHER    View Pre-Owned Certification\t\t\t\t\t  Pre-Owned Certification          Dealer Price  $22,500  \n",
      "\t\t\t\t\t\t\t\t\t+ Tax\t\t\t\t\t\t\t\t  Est. Finance Payment  $151 \n",
      "\t\t\t\t\t\t\t\t\t\t/bw\n",
      "\t\t\t\t\t\t\t\t\t  Click to open payment calculator \n",
      "\t\t\t\t\t\t\t\t\t5.99% for 84 Months\t\t\t\t\t\t\t\t    VIN: 48952386Kilometres: 115,000Condition: UsedBody Style: OtherEngine: 2.0 \n",
      "\t\t\t\tView More Details\n",
      "\t\t\t   Compare     Compare          2015 Honda Accord touring    View Pre-Owned Certification\t\t\t\t\t  Pre-Owned Certification          Dealer Price  $14,995  \n",
      "\t\t\t\t\t\t\t\t\t+ Tax\t\t\t\t\t\t\t\t  Est. Finance Payment  $115 \n",
      "\t\t\t\t\t\t\t\t\t\t/bw\n",
      "\t\t\t\t\t\t\t\t\t  Click to open payment calculator \n",
      "\t\t\t\t\t\t\t\t\t5.99% for 72 Months\t\t\t\t\t\t\t\t    VIN: 49060755Kilometres: 149,000Condition: UsedBody Style: SedanEngine: 2.4 \n",
      "\t\t\t\tView More Details\n",
      "\t\t\t   Compare     Compare          2018 Buick Enclave Essence    View Pre-Owned Certification\t\t\t\t\t  Pre-Owned Certification          Dealer Price  $31,995  \n",
      "\t\t\t\t\t\t\t\t\t+ Tax\t\t\t\t\t\t\t\t  Est. Finance Payment  $215 \n",
      "\t\t\t\t\t\t\t\t\t\t/bw\n",
      "\t\t\t\t\t\t\t\t\t  Click to open payment calculator \n",
      "\t\t\t\t\t\t\t\t\t5.99% for 84 Months\t\t\t\t\t\t\t\t    VIN: 5GAEVAKWXJJ129133Kilometres: 82,000Condition: UsedBody Style: SUVEngine: 3.6 \n",
      "\t\t\t\tView More Details\n",
      "\t\t\t   Compare     Compare          2018 Chrysler Pacifica L    View Pre-Owned Certification\t\t\t\t\t  Pre-Owned Certification          Dealer Price  $19,995  \n",
      "\t\t\t\t\t\t\t\t\t+ Tax\t\t\t\t\t\t\t\t  Est. Finance Payment  $135 \n",
      "\t\t\t\t\t\t\t\t\t\t/bw\n",
      "\t\t\t\t\t\t\t\t\t  Click to open payment calculator \n",
      "\t\t\t\t\t\t\t\t\t5.99% for 84 Months\t\t\t\t\t\t\t\t    VIN: 2C4RC1AG2JR131194Kilometres: 115,407Condition: UsedBody Style: MinivanEngine: 3.6 \n",
      "\t\t\t\tView More Details\n",
      "\t\t\t   Compare     Compare          2017 Hyundai Elantra L    View Pre-Owned Certification\t\t\t\t\t  Pre-Owned Certification          Dealer Price  $12,995  \n",
      "\t\t\t\t\t\t\t\t\t+ Tax\t\t\t\t\t\t\t\t  We analyzed similar vehicles in your area and calculated that this vehicle is priced lower than the average making it a Great Price.  Est. Finance Payment  $87 \n",
      "\t\t\t\t\t\t\t\t\t\t/bw\n",
      "\t\t\t\t\t\t\t\t\t  Click to open payment calculator \n",
      "\t\t\t\t\t\t\t\t\t5.99% for 84 Months\t\t\t\t\t\t\t\t    VIN: 5NPD74LF2HH077813Kilometres: 52,000Condition: UsedBody Style: SedanEngine: 1.8 \n",
      "\t\t\t\tView More Details\n",
      "\t\t\t   Compare     Compare          2017 Acura MDX Nav Pkg    View Pre-Owned Certification\t\t\t\t\t  Pre-Owned Certification          Dealer Price  $34,995  \n",
      "\t\t\t\t\t\t\t\t\t+ Tax\t\t\t\t\t\t\t\t  We analyzed similar vehicles in your area and calculated that this vehicle is priced a bit lower than the average making it a Good Price.  Est. Finance Payment  $236 \n",
      "\t\t\t\t\t\t\t\t\t\t/bw\n",
      "\t\t\t\t\t\t\t\t\t  Click to open payment calculator \n",
      "\t\t\t\t\t\t\t\t\t5.99% for 84 Months\t\t\t\t\t\t\t\t    VIN: 5FRYD4H40HB500239Kilometres: 82,000Condition: UsedBody Style: SUVEngine: 3.5 \n",
      "\t\t\t\tView More Details\n",
      "\t\t\t   Compare     Compare  \n"
     ]
    }
   ],
   "source": [
    "#All the data present in a page is present in class row grid-row\n",
    "data=soup.findAll('div',{\"class\":\"row grid-row\"})\n",
    "#printing the extracted data of a single page\n",
    "for info in data:\n",
    "    print(info.text)"
   ]
  },
  {
   "cell_type": "code",
   "execution_count": 7,
   "metadata": {},
   "outputs": [
    {
     "name": "stdout",
     "output_type": "stream",
     "text": [
      "2017 Ford Escape SE\n",
      "2018 Toyota Camry LE\n",
      "2016 Ford Flex SEL\n",
      "2018 Acura MDX NAVI\n",
      "2012 Acura MDX \n",
      "2018 Jeep Grand Cherokee LIMITED 4x4 leather ...\n",
      "2018 Ford Edge SEL AWD LEATHER\n",
      "2015 Honda Accord touring\n",
      "2018 Buick Enclave Essence\n",
      "2018 Chrysler Pacifica L\n",
      "2017 Hyundai Elantra L\n",
      "2017 Acura MDX Nav Pkg\n",
      "['2017 Ford Escape SE', '2018 Toyota Camry LE', '2016 Ford Flex SEL', '2018 Acura MDX NAVI', '2012 Acura MDX ', '2018 Jeep Grand Cherokee LIMITED 4x4 leather ...', '2018 Ford Edge SEL AWD LEATHER', '2015 Honda Accord touring', '2018 Buick Enclave Essence', '2018 Chrysler Pacifica L', '2017 Hyundai Elantra L', '2017 Acura MDX Nav Pkg']\n"
     ]
    },
    {
     "data": {
      "text/plain": [
       "12"
      ]
     },
     "execution_count": 7,
     "metadata": {},
     "output_type": "execute_result"
    }
   ],
   "source": [
    "#Finding the titles of cars using find_all\n",
    "#All the titles are present in h4 class : vehicle-card__title\n",
    "car_titles = []\n",
    "a=soup.findAll('h4',{\"class\":\"vehicle-card__title\"})\n",
    "for i in a :\n",
    "    print(i.text)#printing titles\n",
    "    car_titles.append(i.text)#appending values\n",
    "print(car_titles)#printing titles\n",
    "len(car_titles)#printing length of list"
   ]
  },
  {
   "cell_type": "code",
   "execution_count": 8,
   "metadata": {},
   "outputs": [
    {
     "name": "stdout",
     "output_type": "stream",
     "text": [
      "[' 1FMCU0GDXHUE59224', ' 4T1B11HK7JU601543', ' 48643834', ' 48643963', ' 48774316', ' 48891349', ' 48952386', ' 49060755', ' 5GAEVAKWXJJ129133', ' 2C4RC1AG2JR131194', ' 5NPD74LF2HH077813', ' 5FRYD4H40HB500239']\n",
      "[' 102,000', ' 114,000', ' 97,000', ' 50,000', ' 150,000', ' 70,000', ' 115,000', ' 149,000', ' 82,000', ' 115,407', ' 52,000', ' 82,000']\n",
      "['Used', 'Used', 'Used', 'Used', 'Used', 'Used', 'Used', 'Used', 'Used', 'Used', 'Used', 'Used']\n",
      "[' SUV', ' Sedan', ' Other', ' Other', ' Other', ' Other', ' Other', ' Sedan', ' SUV', ' Minivan', ' Sedan', ' SUV']\n",
      "['1.5', '2.5', '3.5', '3.5', '3.7', '3.6', '2.0', '2.4', '3.6', '3.6', '1.8', '3.5']\n"
     ]
    }
   ],
   "source": [
    "engine = []\n",
    "body_style= []\n",
    "condition = []\n",
    "mileage = []\n",
    "vin = []\n",
    "# taking empty lists\n",
    "\n",
    "spec= soup.findAll('ul',{\"class\":\"detailed-specs\"})#scrapping details\n",
    "\n",
    "for i in spec:\n",
    "    newsoup = BeautifulSoup(str(i),'html.parser')#using parser for scrapping inside details\n",
    "    lis = newsoup.find_all('li')#finding all li inside ul\n",
    "    for li in lis:\n",
    "        \n",
    "        if 'VIN' in li.text: #if present\n",
    "            vin.append(li.text.replace(\"VIN:\",\"\"))#then append\n",
    "        if 'Kilometres' in li.text:#if present\n",
    "            mileage.append(li.text.replace(\"Kilometres:\",\"\"))#then append\n",
    "        if 'Condition' in li.text:#if present\n",
    "            condition.append(li.text.replace(\"Condition: \",\"\"))#then append\n",
    "        if 'Body Style' in li.text:#if present\n",
    "            body_style.append(li.text.replace(\"Body Style:\",\"\"))#then append\n",
    "        if 'Engine' in li.text:#if present\n",
    "            engine.append(li.text.replace(\"Engine: \",\"\"))#then append\n",
    "        \n",
    "#printing individual lists        \n",
    "print(vin)\n",
    "print(mileage)\n",
    "print(condition)\n",
    "print(body_style)\n",
    "print(engine)"
   ]
  },
  {
   "cell_type": "code",
   "execution_count": 9,
   "metadata": {},
   "outputs": [
    {
     "name": "stdout",
     "output_type": "stream",
     "text": [
      "$14,995\n",
      "$18,995\n",
      "$22,995\n",
      "$38,995\n",
      "$17,995\n",
      "$32,995\n",
      "$22,500\n",
      "$14,995\n",
      "$31,995\n",
      "$19,995\n",
      "$12,995\n",
      "$34,995\n",
      "['$14,995', '$18,995', '$22,995', '$38,995', '$17,995', '$32,995', '$22,500', '$14,995', '$31,995', '$19,995', '$12,995', '$34,995']\n"
     ]
    },
    {
     "data": {
      "text/plain": [
       "12"
      ]
     },
     "execution_count": 9,
     "metadata": {},
     "output_type": "execute_result"
    }
   ],
   "source": [
    "#Finding the car price  using find_all\n",
    "#All the  car price are present in div class : price-block__price price-block__price--sm price-block__price--dark\n",
    "car_price = []\n",
    "c = soup.findAll('div',{\"class\":\"price-block__price price-block__price--sm price-block__price--dark\"})\n",
    "for i in c :\n",
    "    sp=i.find('span',{\"convertus-data-id\":\"srp__dealer-price\"}) #digging further\n",
    "    print(sp.text)#printing car price\n",
    "    car_price.append(sp.text)#appending in a list\n",
    "print(car_price)#printing list\n",
    "len(car_price)#length of list"
   ]
  },
  {
   "cell_type": "code",
   "execution_count": 10,
   "metadata": {},
   "outputs": [
    {
     "name": "stdout",
     "output_type": "stream",
     "text": [
      "$101\n",
      "$128\n",
      "$176\n",
      "$263\n",
      "$199\n",
      "$222\n",
      "$151\n",
      "$115\n",
      "$215\n",
      "$135\n",
      "$87\n",
      "$236\n",
      "['$101', '$128', '$176', '$263', '$199', '$222', '$151', '$115', '$215', '$135', '$87', '$236']\n"
     ]
    },
    {
     "data": {
      "text/plain": [
       "12"
      ]
     },
     "execution_count": 10,
     "metadata": {},
     "output_type": "execute_result"
    }
   ],
   "source": [
    "#Finding the discount of cars using find_all\n",
    "#All the  discount  are present in div class : price-block__price price-block__price--sm price-block__price----primary\n",
    "discount = []\n",
    "c = soup.findAll('div',{\"class\":\"price-block__price price-block__price--sm price-block__price--primary\"})\n",
    "for i in c :\n",
    "    sp=i.find('span',{\"class\":\"df aifs\"})   #digging further\n",
    "    print(sp.text)#printing discount \n",
    "    discount.append(sp.text)#appending in a list\n",
    "print(discount)#printing list\n",
    "len(discount)#length of list"
   ]
  },
  {
   "cell_type": "code",
   "execution_count": 11,
   "metadata": {},
   "outputs": [
    {
     "name": "stdout",
     "output_type": "stream",
     "text": [
      "5.99% for 84 Months\n",
      "5.99% for 84 Months\n",
      "5.99% for 72 Months\n",
      "5.99% for 84 Months\n",
      "6.99% for 48 Months\n",
      "5.99% for 84 Months\n",
      "5.99% for 84 Months\n",
      "5.99% for 72 Months\n",
      "5.99% for 84 Months\n",
      "5.99% for 84 Months\n",
      "5.99% for 84 Months\n",
      "5.99% for 84 Months\n",
      "['5.99% for 84 Months', '5.99% for 84 Months', '5.99% for 72 Months', '5.99% for 84 Months', '6.99% for 48 Months', '5.99% for 84 Months', '5.99% for 84 Months', '5.99% for 72 Months', '5.99% for 84 Months', '5.99% for 84 Months', '5.99% for 84 Months', '5.99% for 84 Months']\n"
     ]
    },
    {
     "data": {
      "text/plain": [
       "12"
      ]
     },
     "execution_count": 11,
     "metadata": {},
     "output_type": "execute_result"
    }
   ],
   "source": [
    "duration = [] #taking empty list\n",
    "c = soup.findAll('div',{\"class\":\"vehicle-card__price-wrap vehicle-card__price-wrap--finance\"}) #all the duration are inside div class vehicle-card__price-wrap vehicle-card__price-wrap--finance\n",
    "for i in c :\n",
    "    s = i.find('span',{\"class\":\"price-block__sub\"}) #digging further\n",
    "    print(s.text.strip())\n",
    "    duration.append(s.text.strip()) #appending in list\n",
    "print(duration) #prinitng list\n",
    "len(duration) #length of list"
   ]
  },
  {
   "cell_type": "code",
   "execution_count": 13,
   "metadata": {},
   "outputs": [],
   "source": [
    "#creating dict of scrapped data\n",
    "dict = {\n",
    "    'Title' : car_titles,\n",
    "    'VIN' : vin,\n",
    "    'Mileage' : mileage,\n",
    "    'Condition':condition,\n",
    "    'Body Style':body_style,\n",
    "    'Engine':engine,\n",
    "    'Price':car_price,\n",
    "    'Discount':discount,\n",
    "    'Duration':duration\n",
    "    \n",
    "}"
   ]
  },
  {
   "cell_type": "code",
   "execution_count": null,
   "metadata": {},
   "outputs": [],
   "source": []
  },
  {
   "cell_type": "code",
   "execution_count": 14,
   "metadata": {},
   "outputs": [
    {
     "data": {
      "text/html": [
       "<div>\n",
       "<style scoped>\n",
       "    .dataframe tbody tr th:only-of-type {\n",
       "        vertical-align: middle;\n",
       "    }\n",
       "\n",
       "    .dataframe tbody tr th {\n",
       "        vertical-align: top;\n",
       "    }\n",
       "\n",
       "    .dataframe thead th {\n",
       "        text-align: right;\n",
       "    }\n",
       "</style>\n",
       "<table border=\"1\" class=\"dataframe\">\n",
       "  <thead>\n",
       "    <tr style=\"text-align: right;\">\n",
       "      <th></th>\n",
       "      <th>Title</th>\n",
       "      <th>VIN</th>\n",
       "      <th>Mileage</th>\n",
       "      <th>Condition</th>\n",
       "      <th>Body Style</th>\n",
       "      <th>Engine</th>\n",
       "      <th>Price</th>\n",
       "      <th>Discount</th>\n",
       "      <th>Duration</th>\n",
       "    </tr>\n",
       "  </thead>\n",
       "  <tbody>\n",
       "    <tr>\n",
       "      <th>0</th>\n",
       "      <td>2017 Ford Escape SE</td>\n",
       "      <td>1FMCU0GDXHUE59224</td>\n",
       "      <td>102,000</td>\n",
       "      <td>Used</td>\n",
       "      <td>SUV</td>\n",
       "      <td>1.5</td>\n",
       "      <td>$14,995</td>\n",
       "      <td>$101</td>\n",
       "      <td>5.99% for 84 Months</td>\n",
       "    </tr>\n",
       "    <tr>\n",
       "      <th>1</th>\n",
       "      <td>2018 Toyota Camry LE</td>\n",
       "      <td>4T1B11HK7JU601543</td>\n",
       "      <td>114,000</td>\n",
       "      <td>Used</td>\n",
       "      <td>Sedan</td>\n",
       "      <td>2.5</td>\n",
       "      <td>$18,995</td>\n",
       "      <td>$128</td>\n",
       "      <td>5.99% for 84 Months</td>\n",
       "    </tr>\n",
       "    <tr>\n",
       "      <th>2</th>\n",
       "      <td>2016 Ford Flex SEL</td>\n",
       "      <td>48643834</td>\n",
       "      <td>97,000</td>\n",
       "      <td>Used</td>\n",
       "      <td>Other</td>\n",
       "      <td>3.5</td>\n",
       "      <td>$22,995</td>\n",
       "      <td>$176</td>\n",
       "      <td>5.99% for 72 Months</td>\n",
       "    </tr>\n",
       "    <tr>\n",
       "      <th>3</th>\n",
       "      <td>2018 Acura MDX NAVI</td>\n",
       "      <td>48643963</td>\n",
       "      <td>50,000</td>\n",
       "      <td>Used</td>\n",
       "      <td>Other</td>\n",
       "      <td>3.5</td>\n",
       "      <td>$38,995</td>\n",
       "      <td>$263</td>\n",
       "      <td>5.99% for 84 Months</td>\n",
       "    </tr>\n",
       "    <tr>\n",
       "      <th>4</th>\n",
       "      <td>2012 Acura MDX</td>\n",
       "      <td>48774316</td>\n",
       "      <td>150,000</td>\n",
       "      <td>Used</td>\n",
       "      <td>Other</td>\n",
       "      <td>3.7</td>\n",
       "      <td>$17,995</td>\n",
       "      <td>$199</td>\n",
       "      <td>6.99% for 48 Months</td>\n",
       "    </tr>\n",
       "    <tr>\n",
       "      <th>5</th>\n",
       "      <td>2018 Jeep Grand Cherokee LIMITED 4x4 leather ...</td>\n",
       "      <td>48891349</td>\n",
       "      <td>70,000</td>\n",
       "      <td>Used</td>\n",
       "      <td>Other</td>\n",
       "      <td>3.6</td>\n",
       "      <td>$32,995</td>\n",
       "      <td>$222</td>\n",
       "      <td>5.99% for 84 Months</td>\n",
       "    </tr>\n",
       "    <tr>\n",
       "      <th>6</th>\n",
       "      <td>2018 Ford Edge SEL AWD LEATHER</td>\n",
       "      <td>48952386</td>\n",
       "      <td>115,000</td>\n",
       "      <td>Used</td>\n",
       "      <td>Other</td>\n",
       "      <td>2.0</td>\n",
       "      <td>$22,500</td>\n",
       "      <td>$151</td>\n",
       "      <td>5.99% for 84 Months</td>\n",
       "    </tr>\n",
       "    <tr>\n",
       "      <th>7</th>\n",
       "      <td>2015 Honda Accord touring</td>\n",
       "      <td>49060755</td>\n",
       "      <td>149,000</td>\n",
       "      <td>Used</td>\n",
       "      <td>Sedan</td>\n",
       "      <td>2.4</td>\n",
       "      <td>$14,995</td>\n",
       "      <td>$115</td>\n",
       "      <td>5.99% for 72 Months</td>\n",
       "    </tr>\n",
       "    <tr>\n",
       "      <th>8</th>\n",
       "      <td>2018 Buick Enclave Essence</td>\n",
       "      <td>5GAEVAKWXJJ129133</td>\n",
       "      <td>82,000</td>\n",
       "      <td>Used</td>\n",
       "      <td>SUV</td>\n",
       "      <td>3.6</td>\n",
       "      <td>$31,995</td>\n",
       "      <td>$215</td>\n",
       "      <td>5.99% for 84 Months</td>\n",
       "    </tr>\n",
       "    <tr>\n",
       "      <th>9</th>\n",
       "      <td>2018 Chrysler Pacifica L</td>\n",
       "      <td>2C4RC1AG2JR131194</td>\n",
       "      <td>115,407</td>\n",
       "      <td>Used</td>\n",
       "      <td>Minivan</td>\n",
       "      <td>3.6</td>\n",
       "      <td>$19,995</td>\n",
       "      <td>$135</td>\n",
       "      <td>5.99% for 84 Months</td>\n",
       "    </tr>\n",
       "    <tr>\n",
       "      <th>10</th>\n",
       "      <td>2017 Hyundai Elantra L</td>\n",
       "      <td>5NPD74LF2HH077813</td>\n",
       "      <td>52,000</td>\n",
       "      <td>Used</td>\n",
       "      <td>Sedan</td>\n",
       "      <td>1.8</td>\n",
       "      <td>$12,995</td>\n",
       "      <td>$87</td>\n",
       "      <td>5.99% for 84 Months</td>\n",
       "    </tr>\n",
       "    <tr>\n",
       "      <th>11</th>\n",
       "      <td>2017 Acura MDX Nav Pkg</td>\n",
       "      <td>5FRYD4H40HB500239</td>\n",
       "      <td>82,000</td>\n",
       "      <td>Used</td>\n",
       "      <td>SUV</td>\n",
       "      <td>3.5</td>\n",
       "      <td>$34,995</td>\n",
       "      <td>$236</td>\n",
       "      <td>5.99% for 84 Months</td>\n",
       "    </tr>\n",
       "  </tbody>\n",
       "</table>\n",
       "</div>"
      ],
      "text/plain": [
       "                                               Title                 VIN  \\\n",
       "0                                2017 Ford Escape SE   1FMCU0GDXHUE59224   \n",
       "1                               2018 Toyota Camry LE   4T1B11HK7JU601543   \n",
       "2                                 2016 Ford Flex SEL            48643834   \n",
       "3                                2018 Acura MDX NAVI            48643963   \n",
       "4                                    2012 Acura MDX             48774316   \n",
       "5   2018 Jeep Grand Cherokee LIMITED 4x4 leather ...            48891349   \n",
       "6                     2018 Ford Edge SEL AWD LEATHER            48952386   \n",
       "7                          2015 Honda Accord touring            49060755   \n",
       "8                         2018 Buick Enclave Essence   5GAEVAKWXJJ129133   \n",
       "9                           2018 Chrysler Pacifica L   2C4RC1AG2JR131194   \n",
       "10                            2017 Hyundai Elantra L   5NPD74LF2HH077813   \n",
       "11                            2017 Acura MDX Nav Pkg   5FRYD4H40HB500239   \n",
       "\n",
       "     Mileage Condition Body Style Engine    Price Discount  \\\n",
       "0    102,000      Used        SUV    1.5  $14,995     $101   \n",
       "1    114,000      Used      Sedan    2.5  $18,995     $128   \n",
       "2     97,000      Used      Other    3.5  $22,995     $176   \n",
       "3     50,000      Used      Other    3.5  $38,995     $263   \n",
       "4    150,000      Used      Other    3.7  $17,995     $199   \n",
       "5     70,000      Used      Other    3.6  $32,995     $222   \n",
       "6    115,000      Used      Other    2.0  $22,500     $151   \n",
       "7    149,000      Used      Sedan    2.4  $14,995     $115   \n",
       "8     82,000      Used        SUV    3.6  $31,995     $215   \n",
       "9    115,407      Used    Minivan    3.6  $19,995     $135   \n",
       "10    52,000      Used      Sedan    1.8  $12,995      $87   \n",
       "11    82,000      Used        SUV    3.5  $34,995     $236   \n",
       "\n",
       "               Duration  \n",
       "0   5.99% for 84 Months  \n",
       "1   5.99% for 84 Months  \n",
       "2   5.99% for 72 Months  \n",
       "3   5.99% for 84 Months  \n",
       "4   6.99% for 48 Months  \n",
       "5   5.99% for 84 Months  \n",
       "6   5.99% for 84 Months  \n",
       "7   5.99% for 72 Months  \n",
       "8   5.99% for 84 Months  \n",
       "9   5.99% for 84 Months  \n",
       "10  5.99% for 84 Months  \n",
       "11  5.99% for 84 Months  "
      ]
     },
     "execution_count": 14,
     "metadata": {},
     "output_type": "execute_result"
    }
   ],
   "source": [
    "df = pd.DataFrame.from_dict(dict,orient = 'index').T\n",
    "df"
   ]
  },
  {
   "cell_type": "code",
   "execution_count": 15,
   "metadata": {},
   "outputs": [],
   "source": [
    "#Dataframe to csv\n",
    "df.to_csv('loeppkauto.csv')"
   ]
  },
  {
   "cell_type": "code",
   "execution_count": null,
   "metadata": {},
   "outputs": [],
   "source": []
  }
 ],
 "metadata": {
  "kernelspec": {
   "display_name": "Python 3",
   "language": "python",
   "name": "python3"
  },
  "language_info": {
   "codemirror_mode": {
    "name": "ipython",
    "version": 3
   },
   "file_extension": ".py",
   "mimetype": "text/x-python",
   "name": "python",
   "nbconvert_exporter": "python",
   "pygments_lexer": "ipython3",
   "version": "3.7.3"
  }
 },
 "nbformat": 4,
 "nbformat_minor": 2
}
